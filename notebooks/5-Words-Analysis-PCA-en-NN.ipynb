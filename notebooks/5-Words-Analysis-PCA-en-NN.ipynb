{
 "cells": [
  {
   "cell_type": "code",
   "execution_count": 1,
   "metadata": {},
   "outputs": [],
   "source": [
    "using Clustering, PyPlot\n",
    "using TextAnalysis\n",
    "using JLD2\n",
    "using Statistics\n",
    "using XLSX\n",
    "using CSV\n",
    "using DataFrames\n",
    "using Dates\n",
    "using LinearAlgebra\n",
    "using StatsBase\n",
    "using MultivariateStats\n",
    "using Random"
   ]
  },
  {
   "cell_type": "code",
   "execution_count": 2,
   "metadata": {},
   "outputs": [
    {
     "data": {
      "text/plain": [
       "make_plots (generic function with 1 method)"
      ]
     },
     "execution_count": 2,
     "metadata": {},
     "output_type": "execute_result"
    }
   ],
   "source": [
    "include(\"../src/utill.jl\")"
   ]
  },
  {
   "cell_type": "code",
   "execution_count": 3,
   "metadata": {},
   "outputs": [],
   "source": [
    "new_df = XLSX.readxlsx(\"../data/Data-Spring/covid-en.xlsx\")[\"Sheet1\"]\n",
    "stop_ind = new_df.dimension.stop;\n",
    "\n",
    "en_1 = DataFrame(new_df[\"A2:$stop_ind\"],  [:retweet_count, :favorite_count, \n",
    "        :created_at, :text, :id_str, \n",
    "        :lang])\n",
    "mask_tmp = ones(Bool, length(en_1.id_str)) \n",
    "insert!(en_1, 7, mask_tmp, :tind)\n",
    "\n",
    "\n",
    "new_df = XLSX.readxlsx(\"../data/Data-Winter/covid-en.xlsx\")[\"Sheet1\"]\n",
    "stop_ind = new_df.dimension.stop;\n",
    "\n",
    "en_2 = DataFrame(new_df[\"A2:$stop_ind\"],  [:retweet_count, :favorite_count, \n",
    "        :created_at, :text, :id_str, \n",
    "        :lang]);\n",
    "\n",
    "mask_tmp = zeros(Bool, length(en_2.id_str)) \n",
    "insert!(en_2, 7, mask_tmp, :tind)\n",
    "\n",
    "min_dim = minimum([length(en_1.tind), length(en_2.tind)])\n",
    "\n",
    "df = append!(en_1[1:min_dim, :], en_2[1:min_dim, :]);\n",
    "\n",
    "df = df[shuffle(1:length(df.favorite_count)), :];"
   ]
  },
  {
   "cell_type": "code",
   "execution_count": 4,
   "metadata": {},
   "outputs": [
    {
     "data": {
      "text/plain": [
       "(195532, 7)"
      ]
     },
     "execution_count": 4,
     "metadata": {},
     "output_type": "execute_result"
    }
   ],
   "source": [
    "size(df)"
   ]
  },
  {
   "cell_type": "markdown",
   "metadata": {},
   "source": [
    "## Preprocessing:"
   ]
  },
  {
   "cell_type": "code",
   "execution_count": 5,
   "metadata": {},
   "outputs": [
    {
     "data": {
      "text/plain": [
       "preprocess_corp (generic function with 1 method)"
      ]
     },
     "execution_count": 5,
     "metadata": {},
     "output_type": "execute_result"
    }
   ],
   "source": [
    "function preprocess_corp(data)\n",
    "    data_preprocessed = replace.(data, r\"http\\S+\" => s\"\")\n",
    "    data_preprocessed = replace.(data_preprocessed, r\"\\S+.com\" => s\"\")\n",
    "    data_preprocessed = replace.(data_preprocessed, r\"resulting\" => s\"\")\n",
    "    data_preprocessed = replace.(data_preprocessed, r\"RESULTING\" => s\"\")\n",
    "    data_preprocessed = replace.(data_preprocessed, r\"#resulting\" => s\"\")\n",
    "    data_preprocessed = replace.(data_preprocessed, r\"@\\S+\" => s\"\")\n",
    "    data_preprocessed = replace.(data_preprocessed, r\"&amp\" => s\"\")\n",
    "    data_preprocessed = replace.(data_preprocessed, r\"RT\\S+\" => s\"\");\n",
    "    data_preprocessed = replace.(data_preprocessed, contractions...);\n",
    "\n",
    "    crps_tmp = Corpus(StringDocument.(deepcopy(data_preprocessed)));\n",
    "\n",
    "    remove_case!(crps_tmp)\n",
    "    prepare!(crps_tmp, strip_punctuation)\n",
    "    prepare!(crps_tmp, strip_numbers)\n",
    "    prepare!(crps_tmp, strip_articles)\n",
    "\n",
    "    prepare!(crps_tmp, strip_pronouns)\n",
    "    prepare!(crps_tmp, strip_prepositions)\n",
    "    prepare!(crps_tmp, strip_definite_articles)\n",
    "    prepare!(crps_tmp, strip_indefinite_articles)\n",
    "\n",
    "    prepare!(crps_tmp, strip_stopwords)\n",
    "    prepare!(crps_tmp, strip_non_letters)\n",
    "    remove_words!(crps_tmp, [\"don\", \"re\", \"ve\", \"ll\", \"covid\", \"coronavirus\", \"via\"])\n",
    "    stem!(crps_tmp)\n",
    "    prepare!(crps_tmp, strip_whitespace)\n",
    "    update_lexicon!(crps_tmp)\n",
    "    return crps_tmp\n",
    "end"
   ]
  },
  {
   "cell_type": "code",
   "execution_count": 6,
   "metadata": {},
   "outputs": [
    {
     "data": {
      "text/plain": [
       "A Corpus with 195532 documents:\n",
       " * 195532 StringDocument's\n",
       " * 0 FileDocument's\n",
       " * 0 TokenDocument's\n",
       " * 0 NGramDocument's\n",
       "\n",
       "Corpus's lexicon contains 107438 tokens\n",
       "Corpus's index contains 0 tokens"
      ]
     },
     "execution_count": 6,
     "metadata": {},
     "output_type": "execute_result"
    }
   ],
   "source": [
    "crps = preprocess_corp(df[:,4])"
   ]
  },
  {
   "cell_type": "code",
   "execution_count": 7,
   "metadata": {},
   "outputs": [],
   "source": [
    "# crps_1 = preprocess_corp(df[df.tind,4])\n",
    "# crps_2 = preprocess_corp(df[.!df.tind,4]);"
   ]
  },
  {
   "cell_type": "code",
   "execution_count": 8,
   "metadata": {},
   "outputs": [],
   "source": [
    "# Create a vector from merged corpus: \n",
    "\n",
    "lexicone_vect = lexicon(crps)\n",
    "\n",
    "n_max = 120\n",
    "pairs = sort(collect(lexicone_vect), by=x->x[2], rev=true)[1:n_max]\n",
    "terms = [i[1] for i in pairs];"
   ]
  },
  {
   "cell_type": "code",
   "execution_count": 9,
   "metadata": {},
   "outputs": [
    {
     "data": {
      "text/plain": [
       "120-element Array{String,1}:\n",
       " \"vaccin\"\n",
       " \"peopl\"\n",
       " \"death\"\n",
       " \"test\"\n",
       " \"pandem\"\n",
       " \"health\"\n",
       " \"time\"\n",
       " \"trump\"\n",
       " \"die\"\n",
       " \"help\"\n",
       " \"day\"\n",
       " \"report\"\n",
       " \"virus\"\n",
       " ⋮\n",
       " \"april\"\n",
       " \"tri\"\n",
       " \"quarantin\"\n",
       " \"relief\"\n",
       " \"love\"\n",
       " \"approv\"\n",
       " \"talk\"\n",
       " \"issu\"\n",
       " \"citi\"\n",
       " \"take\"\n",
       " \"recoveri\"\n",
       " \"announc\""
      ]
     },
     "execution_count": 9,
     "metadata": {},
     "output_type": "execute_result"
    }
   ],
   "source": [
    "terms"
   ]
  },
  {
   "cell_type": "code",
   "execution_count": 10,
   "metadata": {},
   "outputs": [
    {
     "data": {
      "text/plain": [
       "A 195532 X 120 DocumentTermMatrix"
      ]
     },
     "execution_count": 10,
     "metadata": {},
     "output_type": "execute_result"
    }
   ],
   "source": [
    "m = DocumentTermMatrix(crps, terms)"
   ]
  },
  {
   "cell_type": "code",
   "execution_count": 11,
   "metadata": {},
   "outputs": [],
   "source": [
    "D = convert.(Float64, dtm(m, :dense)')\n",
    "\n",
    "# D[:,df.tind] = D[:,df.tind] ./ sum(D[:,df.tind])\n",
    "# D[:,.!df.tind] = D[:,.!df.tind] ./ sum(D[:,.!df.tind]);"
   ]
  },
  {
   "cell_type": "code",
   "execution_count": 12,
   "metadata": {},
   "outputs": [],
   "source": [
    "# PCA:\n",
    "\n",
    "M = fit(PCA, D; maxoutdim=120)\n",
    "Yte = MultivariateStats.transform(M, D);"
   ]
  },
  {
   "cell_type": "code",
   "execution_count": null,
   "metadata": {},
   "outputs": [],
   "source": []
  },
  {
   "cell_type": "code",
   "execution_count": null,
   "metadata": {},
   "outputs": [],
   "source": []
  },
  {
   "cell_type": "markdown",
   "metadata": {},
   "source": [
    "# NN: "
   ]
  },
  {
   "cell_type": "code",
   "execution_count": 13,
   "metadata": {},
   "outputs": [
    {
     "data": {
      "text/plain": [
       "params_importance (generic function with 1 method)"
      ]
     },
     "execution_count": 13,
     "metadata": {},
     "output_type": "execute_result"
    }
   ],
   "source": [
    "include(\"../src/nn.jl\")"
   ]
  },
  {
   "cell_type": "code",
   "execution_count": 14,
   "metadata": {},
   "outputs": [],
   "source": [
    "y = onehotbatch(df.tind, 0:1)\n",
    "x = D .- mean(D, dims=2) ; x = x ./ std(x, dims=2);\n",
    "\n",
    "# x = Yte;"
   ]
  },
  {
   "cell_type": "code",
   "execution_count": 15,
   "metadata": {},
   "outputs": [
    {
     "name": "stderr",
     "output_type": "stream",
     "text": [
      "┌ Info: Epoch 1\n",
      "└ @ Main /Users/vhafych/.julia/packages/Flux/q3zeA/src/optimise/train.jl:136\n",
      "┌ Info: 0.7024632\n",
      "│   loss_test = 0.70329905\n",
      "└ @ Main /Users/vhafych/MPP-Server/gitrepos/COVID_Tweets_Analysis/src/nn.jl:81\n",
      "┌ Info: Epoch 2\n",
      "└ @ Main /Users/vhafych/.julia/packages/Flux/q3zeA/src/optimise/train.jl:136\n",
      "┌ Info: 0.62414\n",
      "│   loss_test = 0.62546206\n",
      "└ @ Main /Users/vhafych/MPP-Server/gitrepos/COVID_Tweets_Analysis/src/nn.jl:81\n",
      "┌ Info: Epoch 3\n",
      "└ @ Main /Users/vhafych/.julia/packages/Flux/q3zeA/src/optimise/train.jl:136\n",
      "┌ Info: 0.62216955\n",
      "│   loss_test = 0.62356216\n",
      "└ @ Main /Users/vhafych/MPP-Server/gitrepos/COVID_Tweets_Analysis/src/nn.jl:81\n",
      "┌ Info: Epoch 4\n",
      "└ @ Main /Users/vhafych/.julia/packages/Flux/q3zeA/src/optimise/train.jl:136\n",
      "┌ Info: 0.621141\n",
      "│   loss_test = 0.6231932\n",
      "└ @ Main /Users/vhafych/MPP-Server/gitrepos/COVID_Tweets_Analysis/src/nn.jl:81\n",
      "┌ Info: Epoch 5\n",
      "└ @ Main /Users/vhafych/.julia/packages/Flux/q3zeA/src/optimise/train.jl:136\n",
      "┌ Info: 0.61902505\n",
      "│   loss_test = 0.6214202\n",
      "└ @ Main /Users/vhafych/MPP-Server/gitrepos/COVID_Tweets_Analysis/src/nn.jl:81\n"
     ]
    },
    {
     "name": "stdout",
     "output_type": "stream",
     "text": [
      " 47.659711 seconds (477.92 M allocations: 19.111 GiB, 6.79% gc time)\n"
     ]
    }
   ],
   "source": [
    "result = train(x, y)\n",
    "\n",
    "model_tmp = result.model\n",
    "trdata = result.trdata\n",
    "tstdata = result.tstdata;"
   ]
  },
  {
   "cell_type": "code",
   "execution_count": 16,
   "metadata": {},
   "outputs": [
    {
     "data": {
      "image/png": "[encoded data removed]",
      "text/plain": [
       "Figure(PyObject <Figure size 500x300 with 2 Axes>)"
      ]
     },
     "metadata": {},
     "output_type": "display_data"
    },
    {
     "data": {
      "text/plain": [
       "PyObject <matplotlib.legend.Legend object at 0x7f922ebf0940>"
      ]
     },
     "execution_count": 16,
     "metadata": {},
     "output_type": "execute_result"
    }
   ],
   "source": [
    "fig, ax = plt.subplots(1,2, figsize=(5,3))\n",
    "\n",
    "loss_vect = result.loss\n",
    "acc_vector = result.acc\n",
    "\n",
    "ax[1].plot(loss_vect[1], label=\"Train\")\n",
    "ax[1].plot(loss_vect[2], label=\"Test\")\n",
    "ax[2].plot(acc_vector[1])\n",
    "ax[2].plot(acc_vector[2])\n",
    "ax[1].legend()"
   ]
  },
  {
   "cell_type": "code",
   "execution_count": 17,
   "metadata": {},
   "outputs": [],
   "source": [
    "roc_tr = roc_curve(trdata..., model_tmp)\n",
    "roc_test = roc_curve(tstdata..., model_tmp);"
   ]
  },
  {
   "cell_type": "code",
   "execution_count": 18,
   "metadata": {},
   "outputs": [
    {
     "data": {
      "image/png": "[encoded data removed]",
      "text/plain": [
       "Figure(PyObject <Figure size 400x400 with 1 Axes>)"
      ]
     },
     "metadata": {},
     "output_type": "display_data"
    },
    {
     "data": {
      "text/plain": [
       "PyObject <matplotlib.legend.Legend object at 0x7f924c0dffd0>"
      ]
     },
     "execution_count": 18,
     "metadata": {},
     "output_type": "execute_result"
    }
   ],
   "source": [
    "fig, ax = plt.subplots(1,1, figsize=(4,4))\n",
    "\n",
    "ax.plot(roc_tr.fpr, roc_tr.tpr,  label=\"Train\")\n",
    "ax.plot(roc_test.fpr, roc_test.tpr, label=\"Test\")\n",
    "ax.plot(0:1, 0:1, color=\"red\", label=\"Random Guess\")\n",
    "ax.legend()"
   ]
  },
  {
   "cell_type": "code",
   "execution_count": 19,
   "metadata": {},
   "outputs": [
    {
     "name": "stdout",
     "output_type": "stream",
     "text": [
      "(roc_tr.auc, roc_test.auc) = (0.7186480054822608, 0.7121720342167317)\n"
     ]
    },
    {
     "data": {
      "text/plain": [
       "(0.7186480054822608, 0.7121720342167317)"
      ]
     },
     "execution_count": 19,
     "metadata": {},
     "output_type": "execute_result"
    }
   ],
   "source": [
    "@show roc_tr.auc, roc_test.auc"
   ]
  },
  {
   "cell_type": "code",
   "execution_count": 20,
   "metadata": {
    "collapsed": true,
    "jupyter": {
     "outputs_hidden": true
    }
   },
   "outputs": [
    {
     "name": "stdout",
     "output_type": "stream",
     "text": [
      "i = 1\n"
     ]
    },
    {
     "name": "stderr",
     "output_type": "stream",
     "text": [
      "┌ Info: Epoch 1\n",
      "└ @ Main /Users/vhafych/.julia/packages/Flux/q3zeA/src/optimise/train.jl:136\n",
      "┌ Info: 0.69331247\n",
      "│   loss_test = 0.6934169\n",
      "└ @ Main /Users/vhafych/MPP-Server/gitrepos/COVID_Tweets_Analysis/src/nn.jl:81\n",
      "┌ Info: Epoch 2\n",
      "└ @ Main /Users/vhafych/.julia/packages/Flux/q3zeA/src/optimise/train.jl:136\n",
      "┌ Info: 0.6534361\n",
      "│   loss_test = 0.6553974\n",
      "└ @ Main /Users/vhafych/MPP-Server/gitrepos/COVID_Tweets_Analysis/src/nn.jl:81\n",
      "┌ Info: Epoch 3\n",
      "└ @ Main /Users/vhafych/.julia/packages/Flux/q3zeA/src/optimise/train.jl:136\n",
      "┌ Info: 0.6513575\n",
      "│   loss_test = 0.6535651\n",
      "└ @ Main /Users/vhafych/MPP-Server/gitrepos/COVID_Tweets_Analysis/src/nn.jl:81\n",
      "┌ Info: Epoch 4\n",
      "└ @ Main /Users/vhafych/.julia/packages/Flux/q3zeA/src/optimise/train.jl:136\n",
      "┌ Info: 0.6495033\n",
      "│   loss_test = 0.6528909\n",
      "└ @ Main /Users/vhafych/MPP-Server/gitrepos/COVID_Tweets_Analysis/src/nn.jl:81\n",
      "┌ Info: Epoch 5\n",
      "└ @ Main /Users/vhafych/.julia/packages/Flux/q3zeA/src/optimise/train.jl:136\n",
      "┌ Info: 0.6476471\n",
      "│   loss_test = 0.6516546\n",
      "└ @ Main /Users/vhafych/MPP-Server/gitrepos/COVID_Tweets_Analysis/src/nn.jl:81\n"
     ]
    },
    {
     "name": "stdout",
     "output_type": "stream",
     "text": [
      " 38.273741 seconds (456.12 M allocations: 18.021 GiB, 8.65% gc time)\n",
      "i = 2\n"
     ]
    },
    {
     "name": "stderr",
     "output_type": "stream",
     "text": [
      "┌ Info: Epoch 1\n",
      "└ @ Main /Users/vhafych/.julia/packages/Flux/q3zeA/src/optimise/train.jl:136\n",
      "┌ Info: 0.6948104\n",
      "│   loss_test = 0.6945941\n",
      "└ @ Main /Users/vhafych/MPP-Server/gitrepos/COVID_Tweets_Analysis/src/nn.jl:81\n",
      "┌ Info: Epoch 2\n",
      "└ @ Main /Users/vhafych/.julia/packages/Flux/q3zeA/src/optimise/train.jl:136\n",
      "┌ Info: 0.6244598\n",
      "│   loss_test = 0.6271215\n",
      "└ @ Main /Users/vhafych/MPP-Server/gitrepos/COVID_Tweets_Analysis/src/nn.jl:81\n",
      "┌ Info: Epoch 3\n",
      "└ @ Main /Users/vhafych/.julia/packages/Flux/q3zeA/src/optimise/train.jl:136\n",
      "┌ Info: 0.62194306\n",
      "│   loss_test = 0.6251534\n",
      "└ @ Main /Users/vhafych/MPP-Server/gitrepos/COVID_Tweets_Analysis/src/nn.jl:81\n",
      "┌ Info: Epoch 4\n",
      "└ @ Main /Users/vhafych/.julia/packages/Flux/q3zeA/src/optimise/train.jl:136\n",
      "┌ Info: 0.6205466\n",
      "│   loss_test = 0.6241873\n",
      "└ @ Main /Users/vhafych/MPP-Server/gitrepos/COVID_Tweets_Analysis/src/nn.jl:81\n",
      "┌ Info: Epoch 5\n",
      "└ @ Main /Users/vhafych/.julia/packages/Flux/q3zeA/src/optimise/train.jl:136\n",
      "┌ Info: 0.619074\n",
      "│   loss_test = 0.6231385\n",
      "└ @ Main /Users/vhafych/MPP-Server/gitrepos/COVID_Tweets_Analysis/src/nn.jl:81\n"
     ]
    },
    {
     "name": "stdout",
     "output_type": "stream",
     "text": [
      " 37.675654 seconds (456.12 M allocations: 18.021 GiB, 7.39% gc time)\n",
      "i = 3\n"
     ]
    },
    {
     "name": "stderr",
     "output_type": "stream",
     "text": [
      "┌ Info: Epoch 1\n",
      "└ @ Main /Users/vhafych/.julia/packages/Flux/q3zeA/src/optimise/train.jl:136\n",
      "┌ Info: 0.6964478\n",
      "│   loss_test = 0.6963991\n",
      "└ @ Main /Users/vhafych/MPP-Server/gitrepos/COVID_Tweets_Analysis/src/nn.jl:81\n",
      "┌ Info: Epoch 2\n",
      "└ @ Main /Users/vhafych/.julia/packages/Flux/q3zeA/src/optimise/train.jl:136\n",
      "┌ Info: 0.6241358\n",
      "│   loss_test = 0.62561023\n",
      "└ @ Main /Users/vhafych/MPP-Server/gitrepos/COVID_Tweets_Analysis/src/nn.jl:81\n",
      "┌ Info: Epoch 3\n",
      "└ @ Main /Users/vhafych/.julia/packages/Flux/q3zeA/src/optimise/train.jl:136\n",
      "┌ Info: 0.62233776\n",
      "│   loss_test = 0.624471\n",
      "└ @ Main /Users/vhafych/MPP-Server/gitrepos/COVID_Tweets_Analysis/src/nn.jl:81\n",
      "┌ Info: Epoch 4\n",
      "└ @ Main /Users/vhafych/.julia/packages/Flux/q3zeA/src/optimise/train.jl:136\n",
      "┌ Info: 0.6206193\n",
      "│   loss_test = 0.62351596\n",
      "└ @ Main /Users/vhafych/MPP-Server/gitrepos/COVID_Tweets_Analysis/src/nn.jl:81\n",
      "┌ Info: Epoch 5\n",
      "└ @ Main /Users/vhafych/.julia/packages/Flux/q3zeA/src/optimise/train.jl:136\n",
      "┌ Info: 0.61893773\n",
      "│   loss_test = 0.62233514\n",
      "└ @ Main /Users/vhafych/MPP-Server/gitrepos/COVID_Tweets_Analysis/src/nn.jl:81\n"
     ]
    },
    {
     "name": "stdout",
     "output_type": "stream",
     "text": [
      " 38.262256 seconds (456.12 M allocations: 18.021 GiB, 8.68% gc time)\n",
      "i = 4\n"
     ]
    },
    {
     "name": "stderr",
     "output_type": "stream",
     "text": [
      "┌ Info: Epoch 1\n",
      "└ @ Main /Users/vhafych/.julia/packages/Flux/q3zeA/src/optimise/train.jl:136\n",
      "┌ Info: 0.7019657\n",
      "│   loss_test = 0.7019807\n",
      "└ @ Main /Users/vhafych/MPP-Server/gitrepos/COVID_Tweets_Analysis/src/nn.jl:81\n",
      "┌ Info: Epoch 2\n",
      "└ @ Main /Users/vhafych/.julia/packages/Flux/q3zeA/src/optimise/train.jl:136\n",
      "┌ Info: 0.6251422\n",
      "│   loss_test = 0.62374467\n",
      "└ @ Main /Users/vhafych/MPP-Server/gitrepos/COVID_Tweets_Analysis/src/nn.jl:81\n",
      "┌ Info: Epoch 3\n",
      "└ @ Main /Users/vhafych/.julia/packages/Flux/q3zeA/src/optimise/train.jl:136\n",
      "┌ Info: 0.62271416\n",
      "│   loss_test = 0.6220068\n",
      "└ @ Main /Users/vhafych/MPP-Server/gitrepos/COVID_Tweets_Analysis/src/nn.jl:81\n",
      "┌ Info: Epoch 4\n",
      "└ @ Main /Users/vhafych/.julia/packages/Flux/q3zeA/src/optimise/train.jl:136\n",
      "┌ Info: 0.62174433\n",
      "│   loss_test = 0.622026\n",
      "└ @ Main /Users/vhafych/MPP-Server/gitrepos/COVID_Tweets_Analysis/src/nn.jl:81\n",
      "┌ Info: Epoch 5\n",
      "└ @ Main /Users/vhafych/.julia/packages/Flux/q3zeA/src/optimise/train.jl:136\n",
      "┌ Info: 0.61974907\n",
      "│   loss_test = 0.6203297\n",
      "└ @ Main /Users/vhafych/MPP-Server/gitrepos/COVID_Tweets_Analysis/src/nn.jl:81\n"
     ]
    },
    {
     "name": "stdout",
     "output_type": "stream",
     "text": [
      " 37.871116 seconds (456.12 M allocations: 18.021 GiB, 7.26% gc time)\n",
      "i = 5\n"
     ]
    },
    {
     "name": "stderr",
     "output_type": "stream",
     "text": [
      "┌ Info: Epoch 1\n",
      "└ @ Main /Users/vhafych/.julia/packages/Flux/q3zeA/src/optimise/train.jl:136\n",
      "┌ Info: 0.69848853\n",
      "│   loss_test = 0.69820875\n",
      "└ @ Main /Users/vhafych/MPP-Server/gitrepos/COVID_Tweets_Analysis/src/nn.jl:81\n",
      "┌ Info: Epoch 2\n",
      "└ @ Main /Users/vhafych/.julia/packages/Flux/q3zeA/src/optimise/train.jl:136\n",
      "┌ Info: 0.6245487\n",
      "│   loss_test = 0.6275948\n",
      "└ @ Main /Users/vhafych/MPP-Server/gitrepos/COVID_Tweets_Analysis/src/nn.jl:81\n",
      "┌ Info: Epoch 3\n",
      "└ @ Main /Users/vhafych/.julia/packages/Flux/q3zeA/src/optimise/train.jl:136\n",
      "┌ Info: 0.62192535\n",
      "│   loss_test = 0.62556833\n",
      "└ @ Main /Users/vhafych/MPP-Server/gitrepos/COVID_Tweets_Analysis/src/nn.jl:81\n",
      "┌ Info: Epoch 4\n",
      "└ @ Main /Users/vhafych/.julia/packages/Flux/q3zeA/src/optimise/train.jl:136\n",
      "┌ Info: 0.6204204\n",
      "│   loss_test = 0.62539345\n",
      "└ @ Main /Users/vhafych/MPP-Server/gitrepos/COVID_Tweets_Analysis/src/nn.jl:81\n",
      "┌ Info: Epoch 5\n",
      "└ @ Main /Users/vhafych/.julia/packages/Flux/q3zeA/src/optimise/train.jl:136\n",
      "┌ Info: 0.61805046\n",
      "│   loss_test = 0.6233231\n",
      "└ @ Main /Users/vhafych/MPP-Server/gitrepos/COVID_Tweets_Analysis/src/nn.jl:81\n"
     ]
    },
    {
     "name": "stdout",
     "output_type": "stream",
     "text": [
      " 40.184010 seconds (456.12 M allocations: 18.021 GiB, 8.91% gc time)\n",
      "i = 6\n"
     ]
    },
    {
     "name": "stderr",
     "output_type": "stream",
     "text": [
      "┌ Info: Epoch 1\n",
      "└ @ Main /Users/vhafych/.julia/packages/Flux/q3zeA/src/optimise/train.jl:136\n",
      "┌ Info: 0.6940348\n",
      "│   loss_test = 0.6940993\n",
      "└ @ Main /Users/vhafych/MPP-Server/gitrepos/COVID_Tweets_Analysis/src/nn.jl:81\n",
      "┌ Info: Epoch 2\n",
      "└ @ Main /Users/vhafych/.julia/packages/Flux/q3zeA/src/optimise/train.jl:136\n",
      "┌ Info: 0.62485594\n",
      "│   loss_test = 0.6266547\n",
      "└ @ Main /Users/vhafych/MPP-Server/gitrepos/COVID_Tweets_Analysis/src/nn.jl:81\n",
      "┌ Info: Epoch 3\n",
      "└ @ Main /Users/vhafych/.julia/packages/Flux/q3zeA/src/optimise/train.jl:136\n",
      "┌ Info: 0.6226915\n",
      "│   loss_test = 0.62515104\n",
      "└ @ Main /Users/vhafych/MPP-Server/gitrepos/COVID_Tweets_Analysis/src/nn.jl:81\n",
      "┌ Info: Epoch 4\n",
      "└ @ Main /Users/vhafych/.julia/packages/Flux/q3zeA/src/optimise/train.jl:136\n",
      "┌ Info: 0.6211799\n",
      "│   loss_test = 0.62433994\n",
      "└ @ Main /Users/vhafych/MPP-Server/gitrepos/COVID_Tweets_Analysis/src/nn.jl:81\n",
      "┌ Info: Epoch 5\n",
      "└ @ Main /Users/vhafych/.julia/packages/Flux/q3zeA/src/optimise/train.jl:136\n",
      "┌ Info: 0.6186737\n",
      "│   loss_test = 0.6223172\n",
      "└ @ Main /Users/vhafych/MPP-Server/gitrepos/COVID_Tweets_Analysis/src/nn.jl:81\n"
     ]
    },
    {
     "name": "stdout",
     "output_type": "stream",
     "text": [
      " 38.348289 seconds (456.12 M allocations: 18.021 GiB, 7.74% gc time)\n",
      "i = 7\n"
     ]
    },
    {
     "name": "stderr",
     "output_type": "stream",
     "text": [
      "┌ Info: Epoch 1\n",
      "└ @ Main /Users/vhafych/.julia/packages/Flux/q3zeA/src/optimise/train.jl:136\n",
      "┌ Info: 0.70332247\n",
      "│   loss_test = 0.70299286\n",
      "└ @ Main /Users/vhafych/MPP-Server/gitrepos/COVID_Tweets_Analysis/src/nn.jl:81\n",
      "┌ Info: Epoch 2\n",
      "└ @ Main /Users/vhafych/.julia/packages/Flux/q3zeA/src/optimise/train.jl:136\n",
      "┌ Info: 0.6251874\n",
      "│   loss_test = 0.6269035\n",
      "└ @ Main /Users/vhafych/MPP-Server/gitrepos/COVID_Tweets_Analysis/src/nn.jl:81\n",
      "┌ Info: Epoch 3\n",
      "└ @ Main /Users/vhafych/.julia/packages/Flux/q3zeA/src/optimise/train.jl:136\n",
      "┌ Info: 0.6233034\n",
      "│   loss_test = 0.62567824\n",
      "└ @ Main /Users/vhafych/MPP-Server/gitrepos/COVID_Tweets_Analysis/src/nn.jl:81\n",
      "┌ Info: Epoch 4\n",
      "└ @ Main /Users/vhafych/.julia/packages/Flux/q3zeA/src/optimise/train.jl:136\n",
      "┌ Info: 0.6206737\n",
      "│   loss_test = 0.62379354\n",
      "└ @ Main /Users/vhafych/MPP-Server/gitrepos/COVID_Tweets_Analysis/src/nn.jl:81\n",
      "┌ Info: Epoch 5\n",
      "└ @ Main /Users/vhafych/.julia/packages/Flux/q3zeA/src/optimise/train.jl:136\n",
      "┌ Info: 0.61914873\n",
      "│   loss_test = 0.6226173\n",
      "└ @ Main /Users/vhafych/MPP-Server/gitrepos/COVID_Tweets_Analysis/src/nn.jl:81\n"
     ]
    },
    {
     "name": "stdout",
     "output_type": "stream",
     "text": [
      " 38.845190 seconds (456.12 M allocations: 18.021 GiB, 8.65% gc time)\n",
      "i = 8\n"
     ]
    },
    {
     "name": "stderr",
     "output_type": "stream",
     "text": [
      "┌ Info: Epoch 1\n",
      "└ @ Main /Users/vhafych/.julia/packages/Flux/q3zeA/src/optimise/train.jl:136\n",
      "┌ Info: 0.6929193\n",
      "│   loss_test = 0.69321907\n",
      "└ @ Main /Users/vhafych/MPP-Server/gitrepos/COVID_Tweets_Analysis/src/nn.jl:81\n",
      "┌ Info: Epoch 2\n",
      "└ @ Main /Users/vhafych/.julia/packages/Flux/q3zeA/src/optimise/train.jl:136\n",
      "┌ Info: 0.6246437\n",
      "│   loss_test = 0.62636894\n",
      "└ @ Main /Users/vhafych/MPP-Server/gitrepos/COVID_Tweets_Analysis/src/nn.jl:81\n",
      "┌ Info: Epoch 3\n",
      "└ @ Main /Users/vhafych/.julia/packages/Flux/q3zeA/src/optimise/train.jl:136\n",
      "┌ Info: 0.6217326\n",
      "│   loss_test = 0.6248131\n",
      "└ @ Main /Users/vhafych/MPP-Server/gitrepos/COVID_Tweets_Analysis/src/nn.jl:81\n",
      "┌ Info: Epoch 4\n",
      "└ @ Main /Users/vhafych/.julia/packages/Flux/q3zeA/src/optimise/train.jl:136\n",
      "┌ Info: 0.62012315\n",
      "│   loss_test = 0.6236947\n",
      "└ @ Main /Users/vhafych/MPP-Server/gitrepos/COVID_Tweets_Analysis/src/nn.jl:81\n",
      "┌ Info: Epoch 5\n",
      "└ @ Main /Users/vhafych/.julia/packages/Flux/q3zeA/src/optimise/train.jl:136\n",
      "┌ Info: 0.6183256\n",
      "│   loss_test = 0.6225791\n",
      "└ @ Main /Users/vhafych/MPP-Server/gitrepos/COVID_Tweets_Analysis/src/nn.jl:81\n"
     ]
    },
    {
     "name": "stdout",
     "output_type": "stream",
     "text": [
      " 38.269029 seconds (456.12 M allocations: 18.021 GiB, 7.53% gc time)\n",
      "i = 9\n"
     ]
    },
    {
     "name": "stderr",
     "output_type": "stream",
     "text": [
      "┌ Info: Epoch 1\n",
      "└ @ Main /Users/vhafych/.julia/packages/Flux/q3zeA/src/optimise/train.jl:136\n",
      "┌ Info: 0.6961926\n",
      "│   loss_test = 0.6965585\n",
      "└ @ Main /Users/vhafych/MPP-Server/gitrepos/COVID_Tweets_Analysis/src/nn.jl:81\n",
      "┌ Info: Epoch 2\n",
      "└ @ Main /Users/vhafych/.julia/packages/Flux/q3zeA/src/optimise/train.jl:136\n",
      "┌ Info: 0.6251003\n",
      "│   loss_test = 0.6287866\n",
      "└ @ Main /Users/vhafych/MPP-Server/gitrepos/COVID_Tweets_Analysis/src/nn.jl:81\n",
      "┌ Info: Epoch 3\n",
      "└ @ Main /Users/vhafych/.julia/packages/Flux/q3zeA/src/optimise/train.jl:136\n",
      "┌ Info: 0.6225545\n",
      "│   loss_test = 0.626712\n",
      "└ @ Main /Users/vhafych/MPP-Server/gitrepos/COVID_Tweets_Analysis/src/nn.jl:81\n",
      "┌ Info: Epoch 4\n",
      "└ @ Main /Users/vhafych/.julia/packages/Flux/q3zeA/src/optimise/train.jl:136\n",
      "┌ Info: 0.62095034\n",
      "│   loss_test = 0.6259762\n",
      "└ @ Main /Users/vhafych/MPP-Server/gitrepos/COVID_Tweets_Analysis/src/nn.jl:81\n",
      "┌ Info: Epoch 5\n",
      "└ @ Main /Users/vhafych/.julia/packages/Flux/q3zeA/src/optimise/train.jl:136\n",
      "┌ Info: 0.61878365\n",
      "│   loss_test = 0.62505436\n",
      "└ @ Main /Users/vhafych/MPP-Server/gitrepos/COVID_Tweets_Analysis/src/nn.jl:81\n"
     ]
    },
    {
     "name": "stdout",
     "output_type": "stream",
     "text": [
      " 38.792104 seconds (456.12 M allocations: 18.021 GiB, 8.77% gc time)\n",
      "i = 10\n"
     ]
    },
    {
     "name": "stderr",
     "output_type": "stream",
     "text": [
      "┌ Info: Epoch 1\n",
      "└ @ Main /Users/vhafych/.julia/packages/Flux/q3zeA/src/optimise/train.jl:136\n",
      "┌ Info: 0.6947193\n",
      "│   loss_test = 0.6945016\n",
      "└ @ Main /Users/vhafych/MPP-Server/gitrepos/COVID_Tweets_Analysis/src/nn.jl:81\n",
      "┌ Info: Epoch 2\n",
      "└ @ Main /Users/vhafych/.julia/packages/Flux/q3zeA/src/optimise/train.jl:136\n",
      "┌ Info: 0.62553126\n",
      "│   loss_test = 0.62481636\n",
      "└ @ Main /Users/vhafych/MPP-Server/gitrepos/COVID_Tweets_Analysis/src/nn.jl:81\n",
      "┌ Info: Epoch 3\n",
      "└ @ Main /Users/vhafych/.julia/packages/Flux/q3zeA/src/optimise/train.jl:136\n",
      "┌ Info: 0.6232408\n",
      "│   loss_test = 0.6226397\n",
      "└ @ Main /Users/vhafych/MPP-Server/gitrepos/COVID_Tweets_Analysis/src/nn.jl:81\n",
      "┌ Info: Epoch 4\n",
      "└ @ Main /Users/vhafych/.julia/packages/Flux/q3zeA/src/optimise/train.jl:136\n",
      "┌ Info: 0.6214659\n",
      "│   loss_test = 0.6213457\n",
      "└ @ Main /Users/vhafych/MPP-Server/gitrepos/COVID_Tweets_Analysis/src/nn.jl:81\n",
      "┌ Info: Epoch 5\n",
      "└ @ Main /Users/vhafych/.julia/packages/Flux/q3zeA/src/optimise/train.jl:136\n",
      "┌ Info: 0.6200919\n",
      "│   loss_test = 0.62054116\n",
      "└ @ Main /Users/vhafych/MPP-Server/gitrepos/COVID_Tweets_Analysis/src/nn.jl:81\n"
     ]
    },
    {
     "name": "stdout",
     "output_type": "stream",
     "text": [
      " 38.430468 seconds (456.12 M allocations: 18.021 GiB, 7.62% gc time)\n",
      "i = 11\n"
     ]
    },
    {
     "name": "stderr",
     "output_type": "stream",
     "text": [
      "┌ Info: Epoch 1\n",
      "└ @ Main /Users/vhafych/.julia/packages/Flux/q3zeA/src/optimise/train.jl:136\n",
      "┌ Info: 0.6960028\n",
      "│   loss_test = 0.696064\n",
      "└ @ Main /Users/vhafych/MPP-Server/gitrepos/COVID_Tweets_Analysis/src/nn.jl:81\n",
      "┌ Info: Epoch 2\n",
      "└ @ Main /Users/vhafych/.julia/packages/Flux/q3zeA/src/optimise/train.jl:136\n",
      "┌ Info: 0.6242923\n",
      "│   loss_test = 0.62544113\n",
      "└ @ Main /Users/vhafych/MPP-Server/gitrepos/COVID_Tweets_Analysis/src/nn.jl:81\n",
      "┌ Info: Epoch 3\n",
      "└ @ Main /Users/vhafych/.julia/packages/Flux/q3zeA/src/optimise/train.jl:136\n",
      "┌ Info: 0.622062\n",
      "│   loss_test = 0.6242688\n",
      "└ @ Main /Users/vhafych/MPP-Server/gitrepos/COVID_Tweets_Analysis/src/nn.jl:81\n",
      "┌ Info: Epoch 4\n",
      "└ @ Main /Users/vhafych/.julia/packages/Flux/q3zeA/src/optimise/train.jl:136\n",
      "┌ Info: 0.62027603\n",
      "│   loss_test = 0.6231227\n",
      "└ @ Main /Users/vhafych/MPP-Server/gitrepos/COVID_Tweets_Analysis/src/nn.jl:81\n",
      "┌ Info: Epoch 5\n",
      "└ @ Main /Users/vhafych/.julia/packages/Flux/q3zeA/src/optimise/train.jl:136\n",
      "┌ Info: 0.61847746\n",
      "│   loss_test = 0.6218314\n",
      "└ @ Main /Users/vhafych/MPP-Server/gitrepos/COVID_Tweets_Analysis/src/nn.jl:81\n"
     ]
    },
    {
     "name": "stdout",
     "output_type": "stream",
     "text": [
      " 38.972613 seconds (456.12 M allocations: 18.021 GiB, 8.72% gc time)\n",
      "i = 12\n"
     ]
    },
    {
     "name": "stderr",
     "output_type": "stream",
     "text": [
      "┌ Info: Epoch 1\n",
      "└ @ Main /Users/vhafych/.julia/packages/Flux/q3zeA/src/optimise/train.jl:136\n",
      "┌ Info: 0.69349176\n",
      "│   loss_test = 0.6934183\n",
      "└ @ Main /Users/vhafych/MPP-Server/gitrepos/COVID_Tweets_Analysis/src/nn.jl:81\n",
      "┌ Info: Epoch 2\n",
      "└ @ Main /Users/vhafych/.julia/packages/Flux/q3zeA/src/optimise/train.jl:136\n",
      "┌ Info: 0.6247743\n",
      "│   loss_test = 0.62630826\n",
      "└ @ Main /Users/vhafych/MPP-Server/gitrepos/COVID_Tweets_Analysis/src/nn.jl:81\n",
      "┌ Info: Epoch 3\n",
      "└ @ Main /Users/vhafych/.julia/packages/Flux/q3zeA/src/optimise/train.jl:136\n",
      "┌ Info: 0.6223128\n",
      "│   loss_test = 0.62501824\n",
      "└ @ Main /Users/vhafych/MPP-Server/gitrepos/COVID_Tweets_Analysis/src/nn.jl:81\n",
      "┌ Info: Epoch 4\n",
      "└ @ Main /Users/vhafych/.julia/packages/Flux/q3zeA/src/optimise/train.jl:136\n",
      "┌ Info: 0.62056583\n",
      "│   loss_test = 0.62422407\n",
      "└ @ Main /Users/vhafych/MPP-Server/gitrepos/COVID_Tweets_Analysis/src/nn.jl:81\n",
      "┌ Info: Epoch 5\n",
      "└ @ Main /Users/vhafych/.julia/packages/Flux/q3zeA/src/optimise/train.jl:136\n",
      "┌ Info: 0.6184774\n",
      "│   loss_test = 0.62257457\n",
      "└ @ Main /Users/vhafych/MPP-Server/gitrepos/COVID_Tweets_Analysis/src/nn.jl:81\n"
     ]
    },
    {
     "name": "stdout",
     "output_type": "stream",
     "text": [
      " 38.742269 seconds (456.12 M allocations: 18.021 GiB, 7.53% gc time)\n",
      "i = 13\n"
     ]
    },
    {
     "name": "stderr",
     "output_type": "stream",
     "text": [
      "┌ Info: Epoch 1\n",
      "└ @ Main /Users/vhafych/.julia/packages/Flux/q3zeA/src/optimise/train.jl:136\n",
      "┌ Info: 0.6913028\n",
      "│   loss_test = 0.69129485\n",
      "└ @ Main /Users/vhafych/MPP-Server/gitrepos/COVID_Tweets_Analysis/src/nn.jl:81\n",
      "┌ Info: Epoch 2\n",
      "└ @ Main /Users/vhafych/.julia/packages/Flux/q3zeA/src/optimise/train.jl:136\n",
      "┌ Info: 0.6245071\n",
      "│   loss_test = 0.6262563\n",
      "└ @ Main /Users/vhafych/MPP-Server/gitrepos/COVID_Tweets_Analysis/src/nn.jl:81\n",
      "┌ Info: Epoch 3\n",
      "└ @ Main /Users/vhafych/.julia/packages/Flux/q3zeA/src/optimise/train.jl:136\n",
      "┌ Info: 0.6227235\n",
      "│   loss_test = 0.6249231\n",
      "└ @ Main /Users/vhafych/MPP-Server/gitrepos/COVID_Tweets_Analysis/src/nn.jl:81\n",
      "┌ Info: Epoch 4\n",
      "└ @ Main /Users/vhafych/.julia/packages/Flux/q3zeA/src/optimise/train.jl:136\n",
      "┌ Info: 0.6206546\n",
      "│   loss_test = 0.62370163\n",
      "└ @ Main /Users/vhafych/MPP-Server/gitrepos/COVID_Tweets_Analysis/src/nn.jl:81\n",
      "┌ Info: Epoch 5\n",
      "└ @ Main /Users/vhafych/.julia/packages/Flux/q3zeA/src/optimise/train.jl:136\n",
      "┌ Info: 0.6189077\n",
      "│   loss_test = 0.6223916\n",
      "└ @ Main /Users/vhafych/MPP-Server/gitrepos/COVID_Tweets_Analysis/src/nn.jl:81\n"
     ]
    },
    {
     "name": "stdout",
     "output_type": "stream",
     "text": [
      " 39.017396 seconds (456.12 M allocations: 18.021 GiB, 8.96% gc time)\n",
      "i = 14\n"
     ]
    },
    {
     "name": "stderr",
     "output_type": "stream",
     "text": [
      "┌ Info: Epoch 1\n",
      "└ @ Main /Users/vhafych/.julia/packages/Flux/q3zeA/src/optimise/train.jl:136\n",
      "┌ Info: 0.698955\n",
      "│   loss_test = 0.6994854\n",
      "└ @ Main /Users/vhafych/MPP-Server/gitrepos/COVID_Tweets_Analysis/src/nn.jl:81\n",
      "┌ Info: Epoch 2\n",
      "└ @ Main /Users/vhafych/.julia/packages/Flux/q3zeA/src/optimise/train.jl:136\n",
      "┌ Info: 0.6244906\n",
      "│   loss_test = 0.6267509\n",
      "└ @ Main /Users/vhafych/MPP-Server/gitrepos/COVID_Tweets_Analysis/src/nn.jl:81\n",
      "┌ Info: Epoch 3\n",
      "└ @ Main /Users/vhafych/.julia/packages/Flux/q3zeA/src/optimise/train.jl:136\n",
      "┌ Info: 0.6226943\n",
      "│   loss_test = 0.62532514\n",
      "└ @ Main /Users/vhafych/MPP-Server/gitrepos/COVID_Tweets_Analysis/src/nn.jl:81\n",
      "┌ Info: Epoch 4\n",
      "└ @ Main /Users/vhafych/.julia/packages/Flux/q3zeA/src/optimise/train.jl:136\n",
      "┌ Info: 0.62282556\n",
      "│   loss_test = 0.6261483\n",
      "└ @ Main /Users/vhafych/MPP-Server/gitrepos/COVID_Tweets_Analysis/src/nn.jl:81\n",
      "┌ Info: Epoch 5\n",
      "└ @ Main /Users/vhafych/.julia/packages/Flux/q3zeA/src/optimise/train.jl:136\n",
      "┌ Info: 0.61990565\n",
      "│   loss_test = 0.6238926\n",
      "└ @ Main /Users/vhafych/MPP-Server/gitrepos/COVID_Tweets_Analysis/src/nn.jl:81\n"
     ]
    },
    {
     "name": "stdout",
     "output_type": "stream",
     "text": [
      " 38.291456 seconds (456.12 M allocations: 18.021 GiB, 7.71% gc time)\n",
      "i = 15\n"
     ]
    },
    {
     "name": "stderr",
     "output_type": "stream",
     "text": [
      "┌ Info: Epoch 1\n",
      "└ @ Main /Users/vhafych/.julia/packages/Flux/q3zeA/src/optimise/train.jl:136\n",
      "┌ Info: 0.6999516\n",
      "│   loss_test = 0.70064026\n",
      "└ @ Main /Users/vhafych/MPP-Server/gitrepos/COVID_Tweets_Analysis/src/nn.jl:81\n",
      "┌ Info: Epoch 2\n",
      "└ @ Main /Users/vhafych/.julia/packages/Flux/q3zeA/src/optimise/train.jl:136\n",
      "┌ Info: 0.62507427\n",
      "│   loss_test = 0.624345\n",
      "└ @ Main /Users/vhafych/MPP-Server/gitrepos/COVID_Tweets_Analysis/src/nn.jl:81\n",
      "┌ Info: Epoch 3\n",
      "└ @ Main /Users/vhafych/.julia/packages/Flux/q3zeA/src/optimise/train.jl:136\n",
      "┌ Info: 0.6228661\n",
      "│   loss_test = 0.6229388\n",
      "└ @ Main /Users/vhafych/MPP-Server/gitrepos/COVID_Tweets_Analysis/src/nn.jl:81\n",
      "┌ Info: Epoch 4\n",
      "└ @ Main /Users/vhafych/.julia/packages/Flux/q3zeA/src/optimise/train.jl:136\n",
      "┌ Info: 0.62095964\n",
      "│   loss_test = 0.6218453\n",
      "└ @ Main /Users/vhafych/MPP-Server/gitrepos/COVID_Tweets_Analysis/src/nn.jl:81\n",
      "┌ Info: Epoch 5\n",
      "└ @ Main /Users/vhafych/.julia/packages/Flux/q3zeA/src/optimise/train.jl:136\n",
      "┌ Info: 0.6192944\n",
      "│   loss_test = 0.6208773\n",
      "└ @ Main /Users/vhafych/MPP-Server/gitrepos/COVID_Tweets_Analysis/src/nn.jl:81\n"
     ]
    },
    {
     "name": "stdout",
     "output_type": "stream",
     "text": [
      " 38.747907 seconds (456.12 M allocations: 18.021 GiB, 8.98% gc time)\n",
      "i = 16\n"
     ]
    },
    {
     "name": "stderr",
     "output_type": "stream",
     "text": [
      "┌ Info: Epoch 1\n",
      "└ @ Main /Users/vhafych/.julia/packages/Flux/q3zeA/src/optimise/train.jl:136\n",
      "┌ Info: 0.6967721\n",
      "│   loss_test = 0.69718134\n",
      "└ @ Main /Users/vhafych/MPP-Server/gitrepos/COVID_Tweets_Analysis/src/nn.jl:81\n",
      "┌ Info: Epoch 2\n",
      "└ @ Main /Users/vhafych/.julia/packages/Flux/q3zeA/src/optimise/train.jl:136\n",
      "┌ Info: 0.6244137\n",
      "│   loss_test = 0.62554246\n",
      "└ @ Main /Users/vhafych/MPP-Server/gitrepos/COVID_Tweets_Analysis/src/nn.jl:81\n",
      "┌ Info: Epoch 3\n",
      "└ @ Main /Users/vhafych/.julia/packages/Flux/q3zeA/src/optimise/train.jl:136\n",
      "┌ Info: 0.62252575\n",
      "│   loss_test = 0.62395227\n",
      "└ @ Main /Users/vhafych/MPP-Server/gitrepos/COVID_Tweets_Analysis/src/nn.jl:81\n",
      "┌ Info: Epoch 4\n",
      "└ @ Main /Users/vhafych/.julia/packages/Flux/q3zeA/src/optimise/train.jl:136\n",
      "┌ Info: 0.62072414\n",
      "│   loss_test = 0.6231973\n",
      "└ @ Main /Users/vhafych/MPP-Server/gitrepos/COVID_Tweets_Analysis/src/nn.jl:81\n",
      "┌ Info: Epoch 5\n",
      "└ @ Main /Users/vhafych/.julia/packages/Flux/q3zeA/src/optimise/train.jl:136\n",
      "┌ Info: 0.618292\n",
      "│   loss_test = 0.6218159\n",
      "└ @ Main /Users/vhafych/MPP-Server/gitrepos/COVID_Tweets_Analysis/src/nn.jl:81\n"
     ]
    },
    {
     "name": "stdout",
     "output_type": "stream",
     "text": [
      " 38.184808 seconds (456.12 M allocations: 18.021 GiB, 7.75% gc time)\n",
      "i = 17\n"
     ]
    },
    {
     "name": "stderr",
     "output_type": "stream",
     "text": [
      "┌ Info: Epoch 1\n",
      "└ @ Main /Users/vhafych/.julia/packages/Flux/q3zeA/src/optimise/train.jl:136\n",
      "┌ Info: 0.7193814\n",
      "│   loss_test = 0.7199277\n",
      "└ @ Main /Users/vhafych/MPP-Server/gitrepos/COVID_Tweets_Analysis/src/nn.jl:81\n",
      "┌ Info: Epoch 2\n",
      "└ @ Main /Users/vhafych/.julia/packages/Flux/q3zeA/src/optimise/train.jl:136\n",
      "┌ Info: 0.62590355\n",
      "│   loss_test = 0.627745\n",
      "└ @ Main /Users/vhafych/MPP-Server/gitrepos/COVID_Tweets_Analysis/src/nn.jl:81\n",
      "┌ Info: Epoch 3\n",
      "└ @ Main /Users/vhafych/.julia/packages/Flux/q3zeA/src/optimise/train.jl:136\n",
      "┌ Info: 0.62313026\n",
      "│   loss_test = 0.62553114\n",
      "└ @ Main /Users/vhafych/MPP-Server/gitrepos/COVID_Tweets_Analysis/src/nn.jl:81\n",
      "┌ Info: Epoch 4\n",
      "└ @ Main /Users/vhafych/.julia/packages/Flux/q3zeA/src/optimise/train.jl:136\n",
      "┌ Info: 0.62246245\n",
      "│   loss_test = 0.6252745\n",
      "└ @ Main /Users/vhafych/MPP-Server/gitrepos/COVID_Tweets_Analysis/src/nn.jl:81\n",
      "┌ Info: Epoch 5\n",
      "└ @ Main /Users/vhafych/.julia/packages/Flux/q3zeA/src/optimise/train.jl:136\n",
      "┌ Info: 0.6197978\n",
      "│   loss_test = 0.6235129\n",
      "└ @ Main /Users/vhafych/MPP-Server/gitrepos/COVID_Tweets_Analysis/src/nn.jl:81\n"
     ]
    },
    {
     "name": "stdout",
     "output_type": "stream",
     "text": [
      " 38.900746 seconds (456.12 M allocations: 18.021 GiB, 8.94% gc time)\n",
      "i = 18\n"
     ]
    },
    {
     "name": "stderr",
     "output_type": "stream",
     "text": [
      "┌ Info: Epoch 1\n",
      "└ @ Main /Users/vhafych/.julia/packages/Flux/q3zeA/src/optimise/train.jl:136\n",
      "┌ Info: 0.6945274\n",
      "│   loss_test = 0.69412744\n",
      "└ @ Main /Users/vhafych/MPP-Server/gitrepos/COVID_Tweets_Analysis/src/nn.jl:81\n",
      "┌ Info: Epoch 2\n",
      "└ @ Main /Users/vhafych/.julia/packages/Flux/q3zeA/src/optimise/train.jl:136\n",
      "┌ Info: 0.6241183\n",
      "│   loss_test = 0.6252176\n",
      "└ @ Main /Users/vhafych/MPP-Server/gitrepos/COVID_Tweets_Analysis/src/nn.jl:81\n",
      "┌ Info: Epoch 3\n",
      "└ @ Main /Users/vhafych/.julia/packages/Flux/q3zeA/src/optimise/train.jl:136\n",
      "┌ Info: 0.62283385\n",
      "│   loss_test = 0.625061\n",
      "└ @ Main /Users/vhafych/MPP-Server/gitrepos/COVID_Tweets_Analysis/src/nn.jl:81\n",
      "┌ Info: Epoch 4\n",
      "└ @ Main /Users/vhafych/.julia/packages/Flux/q3zeA/src/optimise/train.jl:136\n",
      "┌ Info: 0.62056106\n",
      "│   loss_test = 0.62307703\n",
      "└ @ Main /Users/vhafych/MPP-Server/gitrepos/COVID_Tweets_Analysis/src/nn.jl:81\n",
      "┌ Info: Epoch 5\n",
      "└ @ Main /Users/vhafych/.julia/packages/Flux/q3zeA/src/optimise/train.jl:136\n",
      "┌ Info: 0.6191733\n",
      "│   loss_test = 0.62264687\n",
      "└ @ Main /Users/vhafych/MPP-Server/gitrepos/COVID_Tweets_Analysis/src/nn.jl:81\n"
     ]
    },
    {
     "name": "stdout",
     "output_type": "stream",
     "text": [
      " 38.288553 seconds (456.12 M allocations: 18.021 GiB, 7.69% gc time)\n",
      "i = 19\n"
     ]
    },
    {
     "name": "stderr",
     "output_type": "stream",
     "text": [
      "┌ Info: Epoch 1\n",
      "└ @ Main /Users/vhafych/.julia/packages/Flux/q3zeA/src/optimise/train.jl:136\n",
      "┌ Info: 0.69447994\n",
      "│   loss_test = 0.6942928\n",
      "└ @ Main /Users/vhafych/MPP-Server/gitrepos/COVID_Tweets_Analysis/src/nn.jl:81\n",
      "┌ Info: Epoch 2\n",
      "└ @ Main /Users/vhafych/.julia/packages/Flux/q3zeA/src/optimise/train.jl:136\n",
      "┌ Info: 0.62471616\n",
      "│   loss_test = 0.62694967\n",
      "└ @ Main /Users/vhafych/MPP-Server/gitrepos/COVID_Tweets_Analysis/src/nn.jl:81\n",
      "┌ Info: Epoch 3\n",
      "└ @ Main /Users/vhafych/.julia/packages/Flux/q3zeA/src/optimise/train.jl:136\n",
      "┌ Info: 0.6219464\n",
      "│   loss_test = 0.6245241\n",
      "└ @ Main /Users/vhafych/MPP-Server/gitrepos/COVID_Tweets_Analysis/src/nn.jl:81\n",
      "┌ Info: Epoch 4\n",
      "└ @ Main /Users/vhafych/.julia/packages/Flux/q3zeA/src/optimise/train.jl:136\n",
      "┌ Info: 0.6205148\n",
      "│   loss_test = 0.62397116\n",
      "└ @ Main /Users/vhafych/MPP-Server/gitrepos/COVID_Tweets_Analysis/src/nn.jl:81\n",
      "┌ Info: Epoch 5\n",
      "└ @ Main /Users/vhafych/.julia/packages/Flux/q3zeA/src/optimise/train.jl:136\n",
      "┌ Info: 0.6194485\n",
      "│   loss_test = 0.6236333\n",
      "└ @ Main /Users/vhafych/MPP-Server/gitrepos/COVID_Tweets_Analysis/src/nn.jl:81\n"
     ]
    },
    {
     "name": "stdout",
     "output_type": "stream",
     "text": [
      " 38.897950 seconds (456.12 M allocations: 18.021 GiB, 8.98% gc time)\n",
      "i = 20\n"
     ]
    },
    {
     "name": "stderr",
     "output_type": "stream",
     "text": [
      "┌ Info: Epoch 1\n",
      "└ @ Main /Users/vhafych/.julia/packages/Flux/q3zeA/src/optimise/train.jl:136\n",
      "┌ Info: 0.691353\n",
      "│   loss_test = 0.6917928\n",
      "└ @ Main /Users/vhafych/MPP-Server/gitrepos/COVID_Tweets_Analysis/src/nn.jl:81\n",
      "┌ Info: Epoch 2\n",
      "└ @ Main /Users/vhafych/.julia/packages/Flux/q3zeA/src/optimise/train.jl:136\n",
      "┌ Info: 0.62458426\n",
      "│   loss_test = 0.625718\n",
      "└ @ Main /Users/vhafych/MPP-Server/gitrepos/COVID_Tweets_Analysis/src/nn.jl:81\n",
      "┌ Info: Epoch 3\n",
      "└ @ Main /Users/vhafych/.julia/packages/Flux/q3zeA/src/optimise/train.jl:136\n",
      "┌ Info: 0.62242335\n",
      "│   loss_test = 0.62367475\n",
      "└ @ Main /Users/vhafych/MPP-Server/gitrepos/COVID_Tweets_Analysis/src/nn.jl:81\n",
      "┌ Info: Epoch 4\n",
      "└ @ Main /Users/vhafych/.julia/packages/Flux/q3zeA/src/optimise/train.jl:136\n",
      "┌ Info: 0.62094903\n",
      "│   loss_test = 0.62388384\n",
      "└ @ Main /Users/vhafych/MPP-Server/gitrepos/COVID_Tweets_Analysis/src/nn.jl:81\n",
      "┌ Info: Epoch 5\n",
      "└ @ Main /Users/vhafych/.julia/packages/Flux/q3zeA/src/optimise/train.jl:136\n",
      "┌ Info: 0.619389\n",
      "│   loss_test = 0.6226081\n",
      "└ @ Main /Users/vhafych/MPP-Server/gitrepos/COVID_Tweets_Analysis/src/nn.jl:81\n"
     ]
    },
    {
     "name": "stdout",
     "output_type": "stream",
     "text": [
      " 39.154109 seconds (456.12 M allocations: 18.021 GiB, 7.59% gc time)\n",
      "i = 21\n"
     ]
    },
    {
     "name": "stderr",
     "output_type": "stream",
     "text": [
      "┌ Info: Epoch 1\n",
      "└ @ Main /Users/vhafych/.julia/packages/Flux/q3zeA/src/optimise/train.jl:136\n",
      "┌ Info: 0.7021665\n",
      "│   loss_test = 0.7034864\n",
      "└ @ Main /Users/vhafych/MPP-Server/gitrepos/COVID_Tweets_Analysis/src/nn.jl:81\n",
      "┌ Info: Epoch 2\n",
      "└ @ Main /Users/vhafych/.julia/packages/Flux/q3zeA/src/optimise/train.jl:136\n",
      "┌ Info: 0.6246231\n",
      "│   loss_test = 0.6258396\n",
      "└ @ Main /Users/vhafych/MPP-Server/gitrepos/COVID_Tweets_Analysis/src/nn.jl:81\n",
      "┌ Info: Epoch 3\n",
      "└ @ Main /Users/vhafych/.julia/packages/Flux/q3zeA/src/optimise/train.jl:136\n",
      "┌ Info: 0.6225345\n",
      "│   loss_test = 0.62381715\n",
      "└ @ Main /Users/vhafych/MPP-Server/gitrepos/COVID_Tweets_Analysis/src/nn.jl:81\n",
      "┌ Info: Epoch 4\n",
      "└ @ Main /Users/vhafych/.julia/packages/Flux/q3zeA/src/optimise/train.jl:136\n",
      "┌ Info: 0.6208114\n",
      "│   loss_test = 0.622979\n",
      "└ @ Main /Users/vhafych/MPP-Server/gitrepos/COVID_Tweets_Analysis/src/nn.jl:81\n",
      "┌ Info: Epoch 5\n",
      "└ @ Main /Users/vhafych/.julia/packages/Flux/q3zeA/src/optimise/train.jl:136\n",
      "┌ Info: 0.6188726\n",
      "│   loss_test = 0.62157065\n",
      "└ @ Main /Users/vhafych/MPP-Server/gitrepos/COVID_Tweets_Analysis/src/nn.jl:81\n"
     ]
    },
    {
     "name": "stdout",
     "output_type": "stream",
     "text": [
      " 39.069434 seconds (456.12 M allocations: 18.021 GiB, 8.96% gc time)\n",
      "i = 22\n"
     ]
    },
    {
     "name": "stderr",
     "output_type": "stream",
     "text": [
      "┌ Info: Epoch 1\n",
      "└ @ Main /Users/vhafych/.julia/packages/Flux/q3zeA/src/optimise/train.jl:136\n",
      "┌ Info: 0.69314486\n",
      "│   loss_test = 0.69306046\n",
      "└ @ Main /Users/vhafych/MPP-Server/gitrepos/COVID_Tweets_Analysis/src/nn.jl:81\n",
      "┌ Info: Epoch 2\n",
      "└ @ Main /Users/vhafych/.julia/packages/Flux/q3zeA/src/optimise/train.jl:136\n",
      "┌ Info: 0.6250447\n",
      "│   loss_test = 0.62708783\n",
      "└ @ Main /Users/vhafych/MPP-Server/gitrepos/COVID_Tweets_Analysis/src/nn.jl:81\n",
      "┌ Info: Epoch 3\n",
      "└ @ Main /Users/vhafych/.julia/packages/Flux/q3zeA/src/optimise/train.jl:136\n",
      "┌ Info: 0.6223134\n",
      "│   loss_test = 0.6255871\n",
      "└ @ Main /Users/vhafych/MPP-Server/gitrepos/COVID_Tweets_Analysis/src/nn.jl:81\n",
      "┌ Info: Epoch 4\n",
      "└ @ Main /Users/vhafych/.julia/packages/Flux/q3zeA/src/optimise/train.jl:136\n",
      "┌ Info: 0.6208879\n",
      "│   loss_test = 0.6244172\n",
      "└ @ Main /Users/vhafych/MPP-Server/gitrepos/COVID_Tweets_Analysis/src/nn.jl:81\n",
      "┌ Info: Epoch 5\n",
      "└ @ Main /Users/vhafych/.julia/packages/Flux/q3zeA/src/optimise/train.jl:136\n",
      "┌ Info: 0.6191859\n",
      "│   loss_test = 0.62346023\n",
      "└ @ Main /Users/vhafych/MPP-Server/gitrepos/COVID_Tweets_Analysis/src/nn.jl:81\n"
     ]
    },
    {
     "name": "stdout",
     "output_type": "stream",
     "text": [
      " 38.553699 seconds (456.12 M allocations: 18.021 GiB, 7.76% gc time)\n",
      "i = 23\n"
     ]
    },
    {
     "name": "stderr",
     "output_type": "stream",
     "text": [
      "┌ Info: Epoch 1\n",
      "└ @ Main /Users/vhafych/.julia/packages/Flux/q3zeA/src/optimise/train.jl:136\n",
      "┌ Info: 0.6959726\n",
      "│   loss_test = 0.6960525\n",
      "└ @ Main /Users/vhafych/MPP-Server/gitrepos/COVID_Tweets_Analysis/src/nn.jl:81\n",
      "┌ Info: Epoch 2\n",
      "└ @ Main /Users/vhafych/.julia/packages/Flux/q3zeA/src/optimise/train.jl:136\n",
      "┌ Info: 0.6241205\n",
      "│   loss_test = 0.62653816\n",
      "└ @ Main /Users/vhafych/MPP-Server/gitrepos/COVID_Tweets_Analysis/src/nn.jl:81\n",
      "┌ Info: Epoch 3\n",
      "└ @ Main /Users/vhafych/.julia/packages/Flux/q3zeA/src/optimise/train.jl:136\n",
      "┌ Info: 0.6219195\n",
      "│   loss_test = 0.6248\n",
      "└ @ Main /Users/vhafych/MPP-Server/gitrepos/COVID_Tweets_Analysis/src/nn.jl:81\n",
      "┌ Info: Epoch 4\n",
      "└ @ Main /Users/vhafych/.julia/packages/Flux/q3zeA/src/optimise/train.jl:136\n",
      "┌ Info: 0.62059736\n",
      "│   loss_test = 0.6240835\n",
      "└ @ Main /Users/vhafych/MPP-Server/gitrepos/COVID_Tweets_Analysis/src/nn.jl:81\n",
      "┌ Info: Epoch 5\n",
      "└ @ Main /Users/vhafych/.julia/packages/Flux/q3zeA/src/optimise/train.jl:136\n",
      "┌ Info: 0.6194244\n",
      "│   loss_test = 0.62348205\n",
      "└ @ Main /Users/vhafych/MPP-Server/gitrepos/COVID_Tweets_Analysis/src/nn.jl:81\n"
     ]
    },
    {
     "name": "stdout",
     "output_type": "stream",
     "text": [
      " 38.856285 seconds (456.12 M allocations: 18.021 GiB, 9.00% gc time)\n",
      "i = 24\n"
     ]
    },
    {
     "name": "stderr",
     "output_type": "stream",
     "text": [
      "┌ Info: Epoch 1\n",
      "└ @ Main /Users/vhafych/.julia/packages/Flux/q3zeA/src/optimise/train.jl:136\n",
      "┌ Info: 0.69785774\n",
      "│   loss_test = 0.6979946\n",
      "└ @ Main /Users/vhafych/MPP-Server/gitrepos/COVID_Tweets_Analysis/src/nn.jl:81\n",
      "┌ Info: Epoch 2\n",
      "└ @ Main /Users/vhafych/.julia/packages/Flux/q3zeA/src/optimise/train.jl:136\n",
      "┌ Info: 0.62419087\n",
      "│   loss_test = 0.6252367\n",
      "└ @ Main /Users/vhafych/MPP-Server/gitrepos/COVID_Tweets_Analysis/src/nn.jl:81\n",
      "┌ Info: Epoch 3\n",
      "└ @ Main /Users/vhafych/.julia/packages/Flux/q3zeA/src/optimise/train.jl:136\n",
      "┌ Info: 0.622128\n",
      "│   loss_test = 0.62343526\n",
      "└ @ Main /Users/vhafych/MPP-Server/gitrepos/COVID_Tweets_Analysis/src/nn.jl:81\n",
      "┌ Info: Epoch 4\n",
      "└ @ Main /Users/vhafych/.julia/packages/Flux/q3zeA/src/optimise/train.jl:136\n",
      "┌ Info: 0.62102216\n",
      "│   loss_test = 0.6227419\n",
      "└ @ Main /Users/vhafych/MPP-Server/gitrepos/COVID_Tweets_Analysis/src/nn.jl:81\n",
      "┌ Info: Epoch 5\n",
      "└ @ Main /Users/vhafych/.julia/packages/Flux/q3zeA/src/optimise/train.jl:136\n",
      "┌ Info: 0.61982864\n",
      "│   loss_test = 0.62182343\n",
      "└ @ Main /Users/vhafych/MPP-Server/gitrepos/COVID_Tweets_Analysis/src/nn.jl:81\n"
     ]
    },
    {
     "name": "stdout",
     "output_type": "stream",
     "text": [
      " 38.310312 seconds (456.12 M allocations: 18.021 GiB, 7.70% gc time)\n",
      "i = 25\n"
     ]
    },
    {
     "name": "stderr",
     "output_type": "stream",
     "text": [
      "┌ Info: Epoch 1\n",
      "└ @ Main /Users/vhafych/.julia/packages/Flux/q3zeA/src/optimise/train.jl:136\n",
      "┌ Info: 0.69275105\n",
      "│   loss_test = 0.69253963\n",
      "└ @ Main /Users/vhafych/MPP-Server/gitrepos/COVID_Tweets_Analysis/src/nn.jl:81\n",
      "┌ Info: Epoch 2\n",
      "└ @ Main /Users/vhafych/.julia/packages/Flux/q3zeA/src/optimise/train.jl:136\n",
      "┌ Info: 0.6252434\n",
      "│   loss_test = 0.62648034\n",
      "└ @ Main /Users/vhafych/MPP-Server/gitrepos/COVID_Tweets_Analysis/src/nn.jl:81\n",
      "┌ Info: Epoch 3\n",
      "└ @ Main /Users/vhafych/.julia/packages/Flux/q3zeA/src/optimise/train.jl:136\n",
      "┌ Info: 0.62355274\n",
      "│   loss_test = 0.62549675\n",
      "└ @ Main /Users/vhafych/MPP-Server/gitrepos/COVID_Tweets_Analysis/src/nn.jl:81\n",
      "┌ Info: Epoch 4\n",
      "└ @ Main /Users/vhafych/.julia/packages/Flux/q3zeA/src/optimise/train.jl:136\n",
      "┌ Info: 0.6207032\n",
      "│   loss_test = 0.6232936\n",
      "└ @ Main /Users/vhafych/MPP-Server/gitrepos/COVID_Tweets_Analysis/src/nn.jl:81\n",
      "┌ Info: Epoch 5\n",
      "└ @ Main /Users/vhafych/.julia/packages/Flux/q3zeA/src/optimise/train.jl:136\n",
      "┌ Info: 0.6195628\n",
      "│   loss_test = 0.6231124\n",
      "└ @ Main /Users/vhafych/MPP-Server/gitrepos/COVID_Tweets_Analysis/src/nn.jl:81\n"
     ]
    },
    {
     "name": "stdout",
     "output_type": "stream",
     "text": [
      " 39.100549 seconds (456.12 M allocations: 18.021 GiB, 9.02% gc time)\n",
      "i = 26\n"
     ]
    },
    {
     "name": "stderr",
     "output_type": "stream",
     "text": [
      "┌ Info: Epoch 1\n",
      "└ @ Main /Users/vhafych/.julia/packages/Flux/q3zeA/src/optimise/train.jl:136\n",
      "┌ Info: 0.6911842\n",
      "│   loss_test = 0.69152445\n",
      "└ @ Main /Users/vhafych/MPP-Server/gitrepos/COVID_Tweets_Analysis/src/nn.jl:81\n",
      "┌ Info: Epoch 2\n",
      "└ @ Main /Users/vhafych/.julia/packages/Flux/q3zeA/src/optimise/train.jl:136\n",
      "┌ Info: 0.6257404\n",
      "│   loss_test = 0.6257082\n",
      "└ @ Main /Users/vhafych/MPP-Server/gitrepos/COVID_Tweets_Analysis/src/nn.jl:81\n",
      "┌ Info: Epoch 3\n",
      "└ @ Main /Users/vhafych/.julia/packages/Flux/q3zeA/src/optimise/train.jl:136\n",
      "┌ Info: 0.62296855\n",
      "│   loss_test = 0.62368274\n",
      "└ @ Main /Users/vhafych/MPP-Server/gitrepos/COVID_Tweets_Analysis/src/nn.jl:81\n",
      "┌ Info: Epoch 4\n",
      "└ @ Main /Users/vhafych/.julia/packages/Flux/q3zeA/src/optimise/train.jl:136\n",
      "┌ Info: 0.62171465\n",
      "│   loss_test = 0.6224674\n",
      "└ @ Main /Users/vhafych/MPP-Server/gitrepos/COVID_Tweets_Analysis/src/nn.jl:81\n",
      "┌ Info: Epoch 5\n",
      "└ @ Main /Users/vhafych/.julia/packages/Flux/q3zeA/src/optimise/train.jl:136\n",
      "┌ Info: 0.6207405\n",
      "│   loss_test = 0.62211293\n",
      "└ @ Main /Users/vhafych/MPP-Server/gitrepos/COVID_Tweets_Analysis/src/nn.jl:81\n"
     ]
    },
    {
     "name": "stdout",
     "output_type": "stream",
     "text": [
      " 38.356744 seconds (456.12 M allocations: 18.021 GiB, 7.71% gc time)\n",
      "i = 27\n"
     ]
    },
    {
     "name": "stderr",
     "output_type": "stream",
     "text": [
      "┌ Info: Epoch 1\n",
      "└ @ Main /Users/vhafych/.julia/packages/Flux/q3zeA/src/optimise/train.jl:136\n",
      "┌ Info: 0.69357127\n",
      "│   loss_test = 0.6936347\n",
      "└ @ Main /Users/vhafych/MPP-Server/gitrepos/COVID_Tweets_Analysis/src/nn.jl:81\n",
      "┌ Info: Epoch 2\n",
      "└ @ Main /Users/vhafych/.julia/packages/Flux/q3zeA/src/optimise/train.jl:136\n",
      "┌ Info: 0.6244893\n",
      "│   loss_test = 0.62599605\n",
      "└ @ Main /Users/vhafych/MPP-Server/gitrepos/COVID_Tweets_Analysis/src/nn.jl:81\n",
      "┌ Info: Epoch 3\n",
      "└ @ Main /Users/vhafych/.julia/packages/Flux/q3zeA/src/optimise/train.jl:136\n",
      "┌ Info: 0.62207043\n",
      "│   loss_test = 0.6238964\n",
      "└ @ Main /Users/vhafych/MPP-Server/gitrepos/COVID_Tweets_Analysis/src/nn.jl:81\n",
      "┌ Info: Epoch 4\n",
      "└ @ Main /Users/vhafych/.julia/packages/Flux/q3zeA/src/optimise/train.jl:136\n",
      "┌ Info: 0.6205187\n",
      "│   loss_test = 0.6235961\n",
      "└ @ Main /Users/vhafych/MPP-Server/gitrepos/COVID_Tweets_Analysis/src/nn.jl:81\n",
      "┌ Info: Epoch 5\n",
      "└ @ Main /Users/vhafych/.julia/packages/Flux/q3zeA/src/optimise/train.jl:136\n",
      "┌ Info: 0.62037617\n",
      "│   loss_test = 0.62513137\n",
      "└ @ Main /Users/vhafych/MPP-Server/gitrepos/COVID_Tweets_Analysis/src/nn.jl:81\n"
     ]
    },
    {
     "name": "stdout",
     "output_type": "stream",
     "text": [
      " 39.365845 seconds (456.12 M allocations: 18.021 GiB, 8.90% gc time)\n",
      "i = 28\n"
     ]
    },
    {
     "name": "stderr",
     "output_type": "stream",
     "text": [
      "┌ Info: Epoch 1\n",
      "└ @ Main /Users/vhafych/.julia/packages/Flux/q3zeA/src/optimise/train.jl:136\n",
      "┌ Info: 0.69346386\n",
      "│   loss_test = 0.69319874\n",
      "└ @ Main /Users/vhafych/MPP-Server/gitrepos/COVID_Tweets_Analysis/src/nn.jl:81\n",
      "┌ Info: Epoch 2\n",
      "└ @ Main /Users/vhafych/.julia/packages/Flux/q3zeA/src/optimise/train.jl:136\n",
      "┌ Info: 0.6243526\n",
      "│   loss_test = 0.625579\n",
      "└ @ Main /Users/vhafych/MPP-Server/gitrepos/COVID_Tweets_Analysis/src/nn.jl:81\n",
      "┌ Info: Epoch 3\n",
      "└ @ Main /Users/vhafych/.julia/packages/Flux/q3zeA/src/optimise/train.jl:136\n",
      "┌ Info: 0.62213326\n",
      "│   loss_test = 0.6238881\n",
      "└ @ Main /Users/vhafych/MPP-Server/gitrepos/COVID_Tweets_Analysis/src/nn.jl:81\n",
      "┌ Info: Epoch 4\n",
      "└ @ Main /Users/vhafych/.julia/packages/Flux/q3zeA/src/optimise/train.jl:136\n",
      "┌ Info: 0.6204123\n",
      "│   loss_test = 0.6231115\n",
      "└ @ Main /Users/vhafych/MPP-Server/gitrepos/COVID_Tweets_Analysis/src/nn.jl:81\n",
      "┌ Info: Epoch 5\n",
      "└ @ Main /Users/vhafych/.julia/packages/Flux/q3zeA/src/optimise/train.jl:136\n",
      "┌ Info: 0.618948\n",
      "│   loss_test = 0.62236494\n",
      "└ @ Main /Users/vhafych/MPP-Server/gitrepos/COVID_Tweets_Analysis/src/nn.jl:81\n"
     ]
    },
    {
     "name": "stdout",
     "output_type": "stream",
     "text": [
      " 38.504646 seconds (456.12 M allocations: 18.021 GiB, 7.74% gc time)\n",
      "i = 29\n"
     ]
    },
    {
     "name": "stderr",
     "output_type": "stream",
     "text": [
      "┌ Info: Epoch 1\n",
      "└ @ Main /Users/vhafych/.julia/packages/Flux/q3zeA/src/optimise/train.jl:136\n",
      "┌ Info: 0.6957696\n",
      "│   loss_test = 0.6954768\n",
      "└ @ Main /Users/vhafych/MPP-Server/gitrepos/COVID_Tweets_Analysis/src/nn.jl:81\n",
      "┌ Info: Epoch 2\n",
      "└ @ Main /Users/vhafych/.julia/packages/Flux/q3zeA/src/optimise/train.jl:136\n",
      "┌ Info: 0.6247461\n",
      "│   loss_test = 0.6254696\n",
      "└ @ Main /Users/vhafych/MPP-Server/gitrepos/COVID_Tweets_Analysis/src/nn.jl:81\n",
      "┌ Info: Epoch 3\n",
      "└ @ Main /Users/vhafych/.julia/packages/Flux/q3zeA/src/optimise/train.jl:136\n",
      "┌ Info: 0.6222994\n",
      "│   loss_test = 0.62313265\n",
      "└ @ Main /Users/vhafych/MPP-Server/gitrepos/COVID_Tweets_Analysis/src/nn.jl:81\n",
      "┌ Info: Epoch 4\n",
      "└ @ Main /Users/vhafych/.julia/packages/Flux/q3zeA/src/optimise/train.jl:136\n",
      "┌ Info: 0.6210154\n",
      "│   loss_test = 0.62251246\n",
      "└ @ Main /Users/vhafych/MPP-Server/gitrepos/COVID_Tweets_Analysis/src/nn.jl:81\n",
      "┌ Info: Epoch 5\n",
      "└ @ Main /Users/vhafych/.julia/packages/Flux/q3zeA/src/optimise/train.jl:136\n",
      "┌ Info: 0.6196453\n",
      "│   loss_test = 0.62195104\n",
      "└ @ Main /Users/vhafych/MPP-Server/gitrepos/COVID_Tweets_Analysis/src/nn.jl:81\n"
     ]
    },
    {
     "name": "stdout",
     "output_type": "stream",
     "text": [
      " 38.823685 seconds (456.12 M allocations: 18.021 GiB, 8.97% gc time)\n",
      "i = 30\n"
     ]
    },
    {
     "name": "stderr",
     "output_type": "stream",
     "text": [
      "┌ Info: Epoch 1\n",
      "└ @ Main /Users/vhafych/.julia/packages/Flux/q3zeA/src/optimise/train.jl:136\n",
      "┌ Info: 0.69662106\n",
      "│   loss_test = 0.69652295\n",
      "└ @ Main /Users/vhafych/MPP-Server/gitrepos/COVID_Tweets_Analysis/src/nn.jl:81\n",
      "┌ Info: Epoch 2\n",
      "└ @ Main /Users/vhafych/.julia/packages/Flux/q3zeA/src/optimise/train.jl:136\n",
      "┌ Info: 0.6241359\n",
      "│   loss_test = 0.6258371\n",
      "└ @ Main /Users/vhafych/MPP-Server/gitrepos/COVID_Tweets_Analysis/src/nn.jl:81\n",
      "┌ Info: Epoch 3\n",
      "└ @ Main /Users/vhafych/.julia/packages/Flux/q3zeA/src/optimise/train.jl:136\n",
      "┌ Info: 0.62199533\n",
      "│   loss_test = 0.62448967\n",
      "└ @ Main /Users/vhafych/MPP-Server/gitrepos/COVID_Tweets_Analysis/src/nn.jl:81\n",
      "┌ Info: Epoch 4\n",
      "└ @ Main /Users/vhafych/.julia/packages/Flux/q3zeA/src/optimise/train.jl:136\n",
      "┌ Info: 0.62073356\n",
      "│   loss_test = 0.6235515\n",
      "└ @ Main /Users/vhafych/MPP-Server/gitrepos/COVID_Tweets_Analysis/src/nn.jl:81\n",
      "┌ Info: Epoch 5\n",
      "└ @ Main /Users/vhafych/.julia/packages/Flux/q3zeA/src/optimise/train.jl:136\n",
      "┌ Info: 0.6185244\n",
      "│   loss_test = 0.622472\n",
      "└ @ Main /Users/vhafych/MPP-Server/gitrepos/COVID_Tweets_Analysis/src/nn.jl:81\n"
     ]
    },
    {
     "name": "stdout",
     "output_type": "stream",
     "text": [
      " 38.299628 seconds (456.12 M allocations: 18.021 GiB, 7.78% gc time)\n",
      "i = 31\n"
     ]
    },
    {
     "name": "stderr",
     "output_type": "stream",
     "text": [
      "┌ Info: Epoch 1\n",
      "└ @ Main /Users/vhafych/.julia/packages/Flux/q3zeA/src/optimise/train.jl:136\n",
      "┌ Info: 0.7044107\n",
      "│   loss_test = 0.70501214\n",
      "└ @ Main /Users/vhafych/MPP-Server/gitrepos/COVID_Tweets_Analysis/src/nn.jl:81\n",
      "┌ Info: Epoch 2\n",
      "└ @ Main /Users/vhafych/.julia/packages/Flux/q3zeA/src/optimise/train.jl:136\n",
      "┌ Info: 0.62552005\n",
      "│   loss_test = 0.6266674\n",
      "└ @ Main /Users/vhafych/MPP-Server/gitrepos/COVID_Tweets_Analysis/src/nn.jl:81\n",
      "┌ Info: Epoch 3\n",
      "└ @ Main /Users/vhafych/.julia/packages/Flux/q3zeA/src/optimise/train.jl:136\n",
      "┌ Info: 0.6232246\n",
      "│   loss_test = 0.6244028\n",
      "└ @ Main /Users/vhafych/MPP-Server/gitrepos/COVID_Tweets_Analysis/src/nn.jl:81\n",
      "┌ Info: Epoch 4\n",
      "└ @ Main /Users/vhafych/.julia/packages/Flux/q3zeA/src/optimise/train.jl:136\n",
      "┌ Info: 0.6219208\n",
      "│   loss_test = 0.62337375\n",
      "└ @ Main /Users/vhafych/MPP-Server/gitrepos/COVID_Tweets_Analysis/src/nn.jl:81\n",
      "┌ Info: Epoch 5\n",
      "└ @ Main /Users/vhafych/.julia/packages/Flux/q3zeA/src/optimise/train.jl:136\n",
      "┌ Info: 0.6204273\n",
      "│   loss_test = 0.622504\n",
      "└ @ Main /Users/vhafych/MPP-Server/gitrepos/COVID_Tweets_Analysis/src/nn.jl:81\n"
     ]
    },
    {
     "name": "stdout",
     "output_type": "stream",
     "text": [
      " 38.851119 seconds (456.12 M allocations: 18.021 GiB, 8.98% gc time)\n",
      "i = 32\n"
     ]
    },
    {
     "name": "stderr",
     "output_type": "stream",
     "text": [
      "┌ Info: Epoch 1\n",
      "└ @ Main /Users/vhafych/.julia/packages/Flux/q3zeA/src/optimise/train.jl:136\n",
      "┌ Info: 0.6925063\n",
      "│   loss_test = 0.69261116\n",
      "└ @ Main /Users/vhafych/MPP-Server/gitrepos/COVID_Tweets_Analysis/src/nn.jl:81\n",
      "┌ Info: Epoch 2\n",
      "└ @ Main /Users/vhafych/.julia/packages/Flux/q3zeA/src/optimise/train.jl:136\n",
      "┌ Info: 0.62529695\n",
      "│   loss_test = 0.6268468\n",
      "└ @ Main /Users/vhafych/MPP-Server/gitrepos/COVID_Tweets_Analysis/src/nn.jl:81\n",
      "┌ Info: Epoch 3\n",
      "└ @ Main /Users/vhafych/.julia/packages/Flux/q3zeA/src/optimise/train.jl:136\n",
      "┌ Info: 0.6231982\n",
      "│   loss_test = 0.6255753\n",
      "└ @ Main /Users/vhafych/MPP-Server/gitrepos/COVID_Tweets_Analysis/src/nn.jl:81\n",
      "┌ Info: Epoch 4\n",
      "└ @ Main /Users/vhafych/.julia/packages/Flux/q3zeA/src/optimise/train.jl:136\n",
      "┌ Info: 0.62136894\n",
      "│   loss_test = 0.6244664\n",
      "└ @ Main /Users/vhafych/MPP-Server/gitrepos/COVID_Tweets_Analysis/src/nn.jl:81\n",
      "┌ Info: Epoch 5\n",
      "└ @ Main /Users/vhafych/.julia/packages/Flux/q3zeA/src/optimise/train.jl:136\n",
      "┌ Info: 0.61967707\n",
      "│   loss_test = 0.62357223\n",
      "└ @ Main /Users/vhafych/MPP-Server/gitrepos/COVID_Tweets_Analysis/src/nn.jl:81\n"
     ]
    },
    {
     "name": "stdout",
     "output_type": "stream",
     "text": [
      " 38.271866 seconds (456.12 M allocations: 18.021 GiB, 7.78% gc time)\n",
      "i = 33\n"
     ]
    },
    {
     "name": "stderr",
     "output_type": "stream",
     "text": [
      "┌ Info: Epoch 1\n",
      "└ @ Main /Users/vhafych/.julia/packages/Flux/q3zeA/src/optimise/train.jl:136\n",
      "┌ Info: 0.69595367\n",
      "│   loss_test = 0.69558716\n",
      "└ @ Main /Users/vhafych/MPP-Server/gitrepos/COVID_Tweets_Analysis/src/nn.jl:81\n",
      "┌ Info: Epoch 2\n",
      "└ @ Main /Users/vhafych/.julia/packages/Flux/q3zeA/src/optimise/train.jl:136\n",
      "┌ Info: 0.623672\n",
      "│   loss_test = 0.6256337\n",
      "└ @ Main /Users/vhafych/MPP-Server/gitrepos/COVID_Tweets_Analysis/src/nn.jl:81\n",
      "┌ Info: Epoch 3\n",
      "└ @ Main /Users/vhafych/.julia/packages/Flux/q3zeA/src/optimise/train.jl:136\n",
      "┌ Info: 0.621783\n",
      "│   loss_test = 0.62447745\n",
      "└ @ Main /Users/vhafych/MPP-Server/gitrepos/COVID_Tweets_Analysis/src/nn.jl:81\n",
      "┌ Info: Epoch 4\n",
      "└ @ Main /Users/vhafych/.julia/packages/Flux/q3zeA/src/optimise/train.jl:136\n",
      "┌ Info: 0.62050706\n",
      "│   loss_test = 0.6236583\n",
      "└ @ Main /Users/vhafych/MPP-Server/gitrepos/COVID_Tweets_Analysis/src/nn.jl:81\n",
      "┌ Info: Epoch 5\n",
      "└ @ Main /Users/vhafych/.julia/packages/Flux/q3zeA/src/optimise/train.jl:136\n",
      "┌ Info: 0.6185637\n",
      "│   loss_test = 0.6222633\n",
      "└ @ Main /Users/vhafych/MPP-Server/gitrepos/COVID_Tweets_Analysis/src/nn.jl:81\n"
     ]
    },
    {
     "name": "stdout",
     "output_type": "stream",
     "text": [
      " 38.925827 seconds (456.12 M allocations: 18.021 GiB, 8.99% gc time)\n",
      "i = 34\n"
     ]
    },
    {
     "name": "stderr",
     "output_type": "stream",
     "text": [
      "┌ Info: Epoch 1\n",
      "└ @ Main /Users/vhafych/.julia/packages/Flux/q3zeA/src/optimise/train.jl:136\n",
      "┌ Info: 0.69499385\n",
      "│   loss_test = 0.695067\n",
      "└ @ Main /Users/vhafych/MPP-Server/gitrepos/COVID_Tweets_Analysis/src/nn.jl:81\n",
      "┌ Info: Epoch 2\n",
      "└ @ Main /Users/vhafych/.julia/packages/Flux/q3zeA/src/optimise/train.jl:136\n",
      "┌ Info: 0.6239979\n",
      "│   loss_test = 0.62632185\n",
      "└ @ Main /Users/vhafych/MPP-Server/gitrepos/COVID_Tweets_Analysis/src/nn.jl:81\n",
      "┌ Info: Epoch 3\n",
      "└ @ Main /Users/vhafych/.julia/packages/Flux/q3zeA/src/optimise/train.jl:136\n",
      "┌ Info: 0.6230655\n",
      "│   loss_test = 0.6256307\n",
      "└ @ Main /Users/vhafych/MPP-Server/gitrepos/COVID_Tweets_Analysis/src/nn.jl:81\n",
      "┌ Info: Epoch 4\n",
      "└ @ Main /Users/vhafych/.julia/packages/Flux/q3zeA/src/optimise/train.jl:136\n",
      "┌ Info: 0.62051266\n",
      "│   loss_test = 0.6236097\n",
      "└ @ Main /Users/vhafych/MPP-Server/gitrepos/COVID_Tweets_Analysis/src/nn.jl:81\n",
      "┌ Info: Epoch 5\n",
      "└ @ Main /Users/vhafych/.julia/packages/Flux/q3zeA/src/optimise/train.jl:136\n",
      "┌ Info: 0.61873096\n",
      "│   loss_test = 0.62257415\n",
      "└ @ Main /Users/vhafych/MPP-Server/gitrepos/COVID_Tweets_Analysis/src/nn.jl:81\n"
     ]
    },
    {
     "name": "stdout",
     "output_type": "stream",
     "text": [
      " 38.553848 seconds (456.12 M allocations: 18.021 GiB, 7.73% gc time)\n",
      "i = 35\n"
     ]
    },
    {
     "name": "stderr",
     "output_type": "stream",
     "text": [
      "┌ Info: Epoch 1\n",
      "└ @ Main /Users/vhafych/.julia/packages/Flux/q3zeA/src/optimise/train.jl:136\n",
      "┌ Info: 0.69572604\n",
      "│   loss_test = 0.6960101\n",
      "└ @ Main /Users/vhafych/MPP-Server/gitrepos/COVID_Tweets_Analysis/src/nn.jl:81\n",
      "┌ Info: Epoch 2\n",
      "└ @ Main /Users/vhafych/.julia/packages/Flux/q3zeA/src/optimise/train.jl:136\n",
      "┌ Info: 0.6249636\n",
      "│   loss_test = 0.6254815\n",
      "└ @ Main /Users/vhafych/MPP-Server/gitrepos/COVID_Tweets_Analysis/src/nn.jl:81\n",
      "┌ Info: Epoch 3\n",
      "└ @ Main /Users/vhafych/.julia/packages/Flux/q3zeA/src/optimise/train.jl:136\n",
      "┌ Info: 0.6227521\n",
      "│   loss_test = 0.6238935\n",
      "└ @ Main /Users/vhafych/MPP-Server/gitrepos/COVID_Tweets_Analysis/src/nn.jl:81\n",
      "┌ Info: Epoch 4\n",
      "└ @ Main /Users/vhafych/.julia/packages/Flux/q3zeA/src/optimise/train.jl:136\n",
      "┌ Info: 0.621303\n",
      "│   loss_test = 0.62300444\n",
      "└ @ Main /Users/vhafych/MPP-Server/gitrepos/COVID_Tweets_Analysis/src/nn.jl:81\n",
      "┌ Info: Epoch 5\n",
      "└ @ Main /Users/vhafych/.julia/packages/Flux/q3zeA/src/optimise/train.jl:136\n",
      "┌ Info: 0.6191967\n",
      "│   loss_test = 0.622043\n",
      "└ @ Main /Users/vhafych/MPP-Server/gitrepos/COVID_Tweets_Analysis/src/nn.jl:81\n"
     ]
    },
    {
     "name": "stdout",
     "output_type": "stream",
     "text": [
      " 39.214786 seconds (456.12 M allocations: 18.021 GiB, 8.84% gc time)\n",
      "i = 36\n"
     ]
    },
    {
     "name": "stderr",
     "output_type": "stream",
     "text": [
      "┌ Info: Epoch 1\n",
      "└ @ Main /Users/vhafych/.julia/packages/Flux/q3zeA/src/optimise/train.jl:136\n",
      "┌ Info: 0.70848644\n",
      "│   loss_test = 0.7089915\n",
      "└ @ Main /Users/vhafych/MPP-Server/gitrepos/COVID_Tweets_Analysis/src/nn.jl:81\n",
      "┌ Info: Epoch 2\n",
      "└ @ Main /Users/vhafych/.julia/packages/Flux/q3zeA/src/optimise/train.jl:136\n",
      "┌ Info: 0.6243461\n",
      "│   loss_test = 0.6282288\n",
      "└ @ Main /Users/vhafych/MPP-Server/gitrepos/COVID_Tweets_Analysis/src/nn.jl:81\n",
      "┌ Info: Epoch 3\n",
      "└ @ Main /Users/vhafych/.julia/packages/Flux/q3zeA/src/optimise/train.jl:136\n",
      "┌ Info: 0.6217775\n",
      "│   loss_test = 0.62584776\n",
      "└ @ Main /Users/vhafych/MPP-Server/gitrepos/COVID_Tweets_Analysis/src/nn.jl:81\n",
      "┌ Info: Epoch 4\n",
      "└ @ Main /Users/vhafych/.julia/packages/Flux/q3zeA/src/optimise/train.jl:136\n",
      "┌ Info: 0.62004554\n",
      "│   loss_test = 0.62479234\n",
      "└ @ Main /Users/vhafych/MPP-Server/gitrepos/COVID_Tweets_Analysis/src/nn.jl:81\n",
      "┌ Info: Epoch 5\n",
      "└ @ Main /Users/vhafych/.julia/packages/Flux/q3zeA/src/optimise/train.jl:136\n",
      "┌ Info: 0.61806154\n",
      "│   loss_test = 0.6241539\n",
      "└ @ Main /Users/vhafych/MPP-Server/gitrepos/COVID_Tweets_Analysis/src/nn.jl:81\n"
     ]
    },
    {
     "name": "stdout",
     "output_type": "stream",
     "text": [
      " 38.851274 seconds (456.12 M allocations: 18.021 GiB, 7.63% gc time)\n",
      "i = 37\n"
     ]
    },
    {
     "name": "stderr",
     "output_type": "stream",
     "text": [
      "┌ Info: Epoch 1\n",
      "└ @ Main /Users/vhafych/.julia/packages/Flux/q3zeA/src/optimise/train.jl:136\n",
      "┌ Info: 0.69875115\n",
      "│   loss_test = 0.6987884\n",
      "└ @ Main /Users/vhafych/MPP-Server/gitrepos/COVID_Tweets_Analysis/src/nn.jl:81\n",
      "┌ Info: Epoch 2\n",
      "└ @ Main /Users/vhafych/.julia/packages/Flux/q3zeA/src/optimise/train.jl:136\n",
      "┌ Info: 0.62586796\n",
      "│   loss_test = 0.62592137\n",
      "└ @ Main /Users/vhafych/MPP-Server/gitrepos/COVID_Tweets_Analysis/src/nn.jl:81\n",
      "┌ Info: Epoch 3\n",
      "└ @ Main /Users/vhafych/.julia/packages/Flux/q3zeA/src/optimise/train.jl:136\n",
      "┌ Info: 0.62291634\n",
      "│   loss_test = 0.6238877\n",
      "└ @ Main /Users/vhafych/MPP-Server/gitrepos/COVID_Tweets_Analysis/src/nn.jl:81\n",
      "┌ Info: Epoch 4\n",
      "└ @ Main /Users/vhafych/.julia/packages/Flux/q3zeA/src/optimise/train.jl:136\n",
      "┌ Info: 0.6217806\n",
      "│   loss_test = 0.62320787\n",
      "└ @ Main /Users/vhafych/MPP-Server/gitrepos/COVID_Tweets_Analysis/src/nn.jl:81\n",
      "┌ Info: Epoch 5\n",
      "└ @ Main /Users/vhafych/.julia/packages/Flux/q3zeA/src/optimise/train.jl:136\n",
      "┌ Info: 0.620575\n",
      "│   loss_test = 0.6228477\n",
      "└ @ Main /Users/vhafych/MPP-Server/gitrepos/COVID_Tweets_Analysis/src/nn.jl:81\n"
     ]
    },
    {
     "name": "stdout",
     "output_type": "stream",
     "text": [
      " 39.018013 seconds (456.12 M allocations: 18.021 GiB, 8.97% gc time)\n",
      "i = 38\n"
     ]
    },
    {
     "name": "stderr",
     "output_type": "stream",
     "text": [
      "┌ Info: Epoch 1\n",
      "└ @ Main /Users/vhafych/.julia/packages/Flux/q3zeA/src/optimise/train.jl:136\n",
      "┌ Info: 0.6985843\n",
      "│   loss_test = 0.69686985\n",
      "└ @ Main /Users/vhafych/MPP-Server/gitrepos/COVID_Tweets_Analysis/src/nn.jl:81\n",
      "┌ Info: Epoch 2\n",
      "└ @ Main /Users/vhafych/.julia/packages/Flux/q3zeA/src/optimise/train.jl:136\n",
      "┌ Info: 0.62465495\n",
      "│   loss_test = 0.62504816\n",
      "└ @ Main /Users/vhafych/MPP-Server/gitrepos/COVID_Tweets_Analysis/src/nn.jl:81\n",
      "┌ Info: Epoch 3\n",
      "└ @ Main /Users/vhafych/.julia/packages/Flux/q3zeA/src/optimise/train.jl:136\n",
      "┌ Info: 0.62273365\n",
      "│   loss_test = 0.62415767\n",
      "└ @ Main /Users/vhafych/MPP-Server/gitrepos/COVID_Tweets_Analysis/src/nn.jl:81\n",
      "┌ Info: Epoch 4\n",
      "└ @ Main /Users/vhafych/.julia/packages/Flux/q3zeA/src/optimise/train.jl:136\n",
      "┌ Info: 0.6207303\n",
      "│   loss_test = 0.6227123\n",
      "└ @ Main /Users/vhafych/MPP-Server/gitrepos/COVID_Tweets_Analysis/src/nn.jl:81\n",
      "┌ Info: Epoch 5\n",
      "└ @ Main /Users/vhafych/.julia/packages/Flux/q3zeA/src/optimise/train.jl:136\n",
      "┌ Info: 0.61903846\n",
      "│   loss_test = 0.6218883\n",
      "└ @ Main /Users/vhafych/MPP-Server/gitrepos/COVID_Tweets_Analysis/src/nn.jl:81\n"
     ]
    },
    {
     "name": "stdout",
     "output_type": "stream",
     "text": [
      " 38.321091 seconds (456.12 M allocations: 18.021 GiB, 7.72% gc time)\n",
      "i = 39\n"
     ]
    },
    {
     "name": "stderr",
     "output_type": "stream",
     "text": [
      "┌ Info: Epoch 1\n",
      "└ @ Main /Users/vhafych/.julia/packages/Flux/q3zeA/src/optimise/train.jl:136\n",
      "┌ Info: 0.7076973\n",
      "│   loss_test = 0.7072698\n",
      "└ @ Main /Users/vhafych/MPP-Server/gitrepos/COVID_Tweets_Analysis/src/nn.jl:81\n",
      "┌ Info: Epoch 2\n",
      "└ @ Main /Users/vhafych/.julia/packages/Flux/q3zeA/src/optimise/train.jl:136\n",
      "┌ Info: 0.62536436\n",
      "│   loss_test = 0.6277297\n",
      "└ @ Main /Users/vhafych/MPP-Server/gitrepos/COVID_Tweets_Analysis/src/nn.jl:81\n",
      "┌ Info: Epoch 3\n",
      "└ @ Main /Users/vhafych/.julia/packages/Flux/q3zeA/src/optimise/train.jl:136\n",
      "┌ Info: 0.62310636\n",
      "│   loss_test = 0.6259626\n",
      "└ @ Main /Users/vhafych/MPP-Server/gitrepos/COVID_Tweets_Analysis/src/nn.jl:81\n",
      "┌ Info: Epoch 4\n",
      "└ @ Main /Users/vhafych/.julia/packages/Flux/q3zeA/src/optimise/train.jl:136\n",
      "┌ Info: 0.6217247\n",
      "│   loss_test = 0.624704\n",
      "└ @ Main /Users/vhafych/MPP-Server/gitrepos/COVID_Tweets_Analysis/src/nn.jl:81\n",
      "┌ Info: Epoch 5\n",
      "└ @ Main /Users/vhafych/.julia/packages/Flux/q3zeA/src/optimise/train.jl:136\n",
      "┌ Info: 0.61967003\n",
      "│   loss_test = 0.6237623\n",
      "└ @ Main /Users/vhafych/MPP-Server/gitrepos/COVID_Tweets_Analysis/src/nn.jl:81\n"
     ]
    },
    {
     "name": "stdout",
     "output_type": "stream",
     "text": [
      " 38.813130 seconds (456.12 M allocations: 18.021 GiB, 9.00% gc time)\n",
      "i = 40\n"
     ]
    },
    {
     "name": "stderr",
     "output_type": "stream",
     "text": [
      "┌ Info: Epoch 1\n",
      "└ @ Main /Users/vhafych/.julia/packages/Flux/q3zeA/src/optimise/train.jl:136\n",
      "┌ Info: 0.6946883\n",
      "│   loss_test = 0.69453704\n",
      "└ @ Main /Users/vhafych/MPP-Server/gitrepos/COVID_Tweets_Analysis/src/nn.jl:81\n",
      "┌ Info: Epoch 2\n",
      "└ @ Main /Users/vhafych/.julia/packages/Flux/q3zeA/src/optimise/train.jl:136\n",
      "┌ Info: 0.6248905\n",
      "│   loss_test = 0.6268026\n",
      "└ @ Main /Users/vhafych/MPP-Server/gitrepos/COVID_Tweets_Analysis/src/nn.jl:81\n",
      "┌ Info: Epoch 3\n",
      "└ @ Main /Users/vhafych/.julia/packages/Flux/q3zeA/src/optimise/train.jl:136\n",
      "┌ Info: 0.6222418\n",
      "│   loss_test = 0.6249981\n",
      "└ @ Main /Users/vhafych/MPP-Server/gitrepos/COVID_Tweets_Analysis/src/nn.jl:81\n",
      "┌ Info: Epoch 4\n",
      "└ @ Main /Users/vhafych/.julia/packages/Flux/q3zeA/src/optimise/train.jl:136\n",
      "┌ Info: 0.62046784\n",
      "│   loss_test = 0.624398\n",
      "└ @ Main /Users/vhafych/MPP-Server/gitrepos/COVID_Tweets_Analysis/src/nn.jl:81\n",
      "┌ Info: Epoch 5\n",
      "└ @ Main /Users/vhafych/.julia/packages/Flux/q3zeA/src/optimise/train.jl:136\n",
      "┌ Info: 0.61829054\n",
      "│   loss_test = 0.62246966\n",
      "└ @ Main /Users/vhafych/MPP-Server/gitrepos/COVID_Tweets_Analysis/src/nn.jl:81\n"
     ]
    },
    {
     "name": "stdout",
     "output_type": "stream",
     "text": [
      " 38.310484 seconds (456.12 M allocations: 18.021 GiB, 7.77% gc time)\n",
      "i = 41\n"
     ]
    },
    {
     "name": "stderr",
     "output_type": "stream",
     "text": [
      "┌ Info: Epoch 1\n",
      "└ @ Main /Users/vhafych/.julia/packages/Flux/q3zeA/src/optimise/train.jl:136\n",
      "┌ Info: 0.69864523\n",
      "│   loss_test = 0.6989534\n",
      "└ @ Main /Users/vhafych/MPP-Server/gitrepos/COVID_Tweets_Analysis/src/nn.jl:81\n",
      "┌ Info: Epoch 2\n",
      "└ @ Main /Users/vhafych/.julia/packages/Flux/q3zeA/src/optimise/train.jl:136\n",
      "┌ Info: 0.6246259\n",
      "│   loss_test = 0.62459534\n",
      "└ @ Main /Users/vhafych/MPP-Server/gitrepos/COVID_Tweets_Analysis/src/nn.jl:81\n",
      "┌ Info: Epoch 3\n",
      "└ @ Main /Users/vhafych/.julia/packages/Flux/q3zeA/src/optimise/train.jl:136\n",
      "┌ Info: 0.6224902\n",
      "│   loss_test = 0.6233369\n",
      "└ @ Main /Users/vhafych/MPP-Server/gitrepos/COVID_Tweets_Analysis/src/nn.jl:81\n",
      "┌ Info: Epoch 4\n",
      "└ @ Main /Users/vhafych/.julia/packages/Flux/q3zeA/src/optimise/train.jl:136\n",
      "┌ Info: 0.62197757\n",
      "│   loss_test = 0.6232771\n",
      "└ @ Main /Users/vhafych/MPP-Server/gitrepos/COVID_Tweets_Analysis/src/nn.jl:81\n",
      "┌ Info: Epoch 5\n",
      "└ @ Main /Users/vhafych/.julia/packages/Flux/q3zeA/src/optimise/train.jl:136\n",
      "┌ Info: 0.6191752\n",
      "│   loss_test = 0.6214181\n",
      "└ @ Main /Users/vhafych/MPP-Server/gitrepos/COVID_Tweets_Analysis/src/nn.jl:81\n"
     ]
    },
    {
     "name": "stdout",
     "output_type": "stream",
     "text": [
      " 41.156843 seconds (456.12 M allocations: 18.021 GiB, 8.66% gc time)\n",
      "i = 42\n"
     ]
    },
    {
     "name": "stderr",
     "output_type": "stream",
     "text": [
      "┌ Info: Epoch 1\n",
      "└ @ Main /Users/vhafych/.julia/packages/Flux/q3zeA/src/optimise/train.jl:136\n",
      "┌ Info: 0.696068\n",
      "│   loss_test = 0.6957862\n",
      "└ @ Main /Users/vhafych/MPP-Server/gitrepos/COVID_Tweets_Analysis/src/nn.jl:81\n",
      "┌ Info: Epoch 2\n",
      "└ @ Main /Users/vhafych/.julia/packages/Flux/q3zeA/src/optimise/train.jl:136\n",
      "┌ Info: 0.6242314\n",
      "│   loss_test = 0.62604666\n",
      "└ @ Main /Users/vhafych/MPP-Server/gitrepos/COVID_Tweets_Analysis/src/nn.jl:81\n",
      "┌ Info: Epoch 3\n",
      "└ @ Main /Users/vhafych/.julia/packages/Flux/q3zeA/src/optimise/train.jl:136\n",
      "┌ Info: 0.6221706\n",
      "│   loss_test = 0.624486\n",
      "└ @ Main /Users/vhafych/MPP-Server/gitrepos/COVID_Tweets_Analysis/src/nn.jl:81\n",
      "┌ Info: Epoch 4\n",
      "└ @ Main /Users/vhafych/.julia/packages/Flux/q3zeA/src/optimise/train.jl:136\n",
      "┌ Info: 0.6214017\n",
      "│   loss_test = 0.6250722\n",
      "└ @ Main /Users/vhafych/MPP-Server/gitrepos/COVID_Tweets_Analysis/src/nn.jl:81\n",
      "┌ Info: Epoch 5\n",
      "└ @ Main /Users/vhafych/.julia/packages/Flux/q3zeA/src/optimise/train.jl:136\n",
      "┌ Info: 0.61875117\n",
      "│   loss_test = 0.6224334\n",
      "└ @ Main /Users/vhafych/MPP-Server/gitrepos/COVID_Tweets_Analysis/src/nn.jl:81\n"
     ]
    },
    {
     "name": "stdout",
     "output_type": "stream",
     "text": [
      " 38.652510 seconds (456.12 M allocations: 18.021 GiB, 7.72% gc time)\n",
      "i = 43\n"
     ]
    },
    {
     "name": "stderr",
     "output_type": "stream",
     "text": [
      "┌ Info: Epoch 1\n",
      "└ @ Main /Users/vhafych/.julia/packages/Flux/q3zeA/src/optimise/train.jl:136\n",
      "┌ Info: 0.70949286\n",
      "│   loss_test = 0.7092346\n",
      "└ @ Main /Users/vhafych/MPP-Server/gitrepos/COVID_Tweets_Analysis/src/nn.jl:81\n",
      "┌ Info: Epoch 2\n",
      "└ @ Main /Users/vhafych/.julia/packages/Flux/q3zeA/src/optimise/train.jl:136\n",
      "┌ Info: 0.62461174\n",
      "│   loss_test = 0.62525517\n",
      "└ @ Main /Users/vhafych/MPP-Server/gitrepos/COVID_Tweets_Analysis/src/nn.jl:81\n",
      "┌ Info: Epoch 3\n",
      "└ @ Main /Users/vhafych/.julia/packages/Flux/q3zeA/src/optimise/train.jl:136\n",
      "┌ Info: 0.6224489\n",
      "│   loss_test = 0.62333065\n",
      "└ @ Main /Users/vhafych/MPP-Server/gitrepos/COVID_Tweets_Analysis/src/nn.jl:81\n",
      "┌ Info: Epoch 4\n",
      "└ @ Main /Users/vhafych/.julia/packages/Flux/q3zeA/src/optimise/train.jl:136\n",
      "┌ Info: 0.620558\n",
      "│   loss_test = 0.6227153\n",
      "└ @ Main /Users/vhafych/MPP-Server/gitrepos/COVID_Tweets_Analysis/src/nn.jl:81\n",
      "┌ Info: Epoch 5\n",
      "└ @ Main /Users/vhafych/.julia/packages/Flux/q3zeA/src/optimise/train.jl:136\n",
      "┌ Info: 0.6188904\n",
      "│   loss_test = 0.62157327\n",
      "└ @ Main /Users/vhafych/MPP-Server/gitrepos/COVID_Tweets_Analysis/src/nn.jl:81\n"
     ]
    },
    {
     "name": "stdout",
     "output_type": "stream",
     "text": [
      " 38.848362 seconds (456.12 M allocations: 18.021 GiB, 8.92% gc time)\n",
      "i = 44\n"
     ]
    },
    {
     "name": "stderr",
     "output_type": "stream",
     "text": [
      "┌ Info: Epoch 1\n",
      "└ @ Main /Users/vhafych/.julia/packages/Flux/q3zeA/src/optimise/train.jl:136\n",
      "┌ Info: 0.6974476\n",
      "│   loss_test = 0.69725674\n",
      "└ @ Main /Users/vhafych/MPP-Server/gitrepos/COVID_Tweets_Analysis/src/nn.jl:81\n",
      "┌ Info: Epoch 2\n",
      "└ @ Main /Users/vhafych/.julia/packages/Flux/q3zeA/src/optimise/train.jl:136\n",
      "┌ Info: 0.62378496\n",
      "│   loss_test = 0.6268814\n",
      "└ @ Main /Users/vhafych/MPP-Server/gitrepos/COVID_Tweets_Analysis/src/nn.jl:81\n",
      "┌ Info: Epoch 3\n",
      "└ @ Main /Users/vhafych/.julia/packages/Flux/q3zeA/src/optimise/train.jl:136\n",
      "┌ Info: 0.6219875\n",
      "│   loss_test = 0.62562716\n",
      "└ @ Main /Users/vhafych/MPP-Server/gitrepos/COVID_Tweets_Analysis/src/nn.jl:81\n",
      "┌ Info: Epoch 4\n",
      "└ @ Main /Users/vhafych/.julia/packages/Flux/q3zeA/src/optimise/train.jl:136\n",
      "┌ Info: 0.62029874\n",
      "│   loss_test = 0.6239284\n",
      "└ @ Main /Users/vhafych/MPP-Server/gitrepos/COVID_Tweets_Analysis/src/nn.jl:81\n",
      "┌ Info: Epoch 5\n",
      "└ @ Main /Users/vhafych/.julia/packages/Flux/q3zeA/src/optimise/train.jl:136\n",
      "┌ Info: 0.6185605\n",
      "│   loss_test = 0.6231707\n",
      "└ @ Main /Users/vhafych/MPP-Server/gitrepos/COVID_Tweets_Analysis/src/nn.jl:81\n"
     ]
    },
    {
     "name": "stdout",
     "output_type": "stream",
     "text": [
      " 38.306557 seconds (456.12 M allocations: 18.021 GiB, 7.65% gc time)\n",
      "i = 45\n"
     ]
    },
    {
     "name": "stderr",
     "output_type": "stream",
     "text": [
      "┌ Info: Epoch 1\n",
      "└ @ Main /Users/vhafych/.julia/packages/Flux/q3zeA/src/optimise/train.jl:136\n",
      "┌ Info: 0.69487345\n",
      "│   loss_test = 0.69447166\n",
      "└ @ Main /Users/vhafych/MPP-Server/gitrepos/COVID_Tweets_Analysis/src/nn.jl:81\n",
      "┌ Info: Epoch 2\n",
      "└ @ Main /Users/vhafych/.julia/packages/Flux/q3zeA/src/optimise/train.jl:136\n",
      "┌ Info: 0.62432116\n",
      "│   loss_test = 0.6281961\n",
      "└ @ Main /Users/vhafych/MPP-Server/gitrepos/COVID_Tweets_Analysis/src/nn.jl:81\n",
      "┌ Info: Epoch 3\n",
      "└ @ Main /Users/vhafych/.julia/packages/Flux/q3zeA/src/optimise/train.jl:136\n",
      "┌ Info: 0.6218774\n",
      "│   loss_test = 0.6260866\n",
      "└ @ Main /Users/vhafych/MPP-Server/gitrepos/COVID_Tweets_Analysis/src/nn.jl:81\n",
      "┌ Info: Epoch 4\n",
      "└ @ Main /Users/vhafych/.julia/packages/Flux/q3zeA/src/optimise/train.jl:136\n",
      "┌ Info: 0.6195821\n",
      "│   loss_test = 0.62452847\n",
      "└ @ Main /Users/vhafych/MPP-Server/gitrepos/COVID_Tweets_Analysis/src/nn.jl:81\n",
      "┌ Info: Epoch 5\n",
      "└ @ Main /Users/vhafych/.julia/packages/Flux/q3zeA/src/optimise/train.jl:136\n",
      "┌ Info: 0.6182184\n",
      "│   loss_test = 0.62386066\n",
      "└ @ Main /Users/vhafych/MPP-Server/gitrepos/COVID_Tweets_Analysis/src/nn.jl:81\n"
     ]
    },
    {
     "name": "stdout",
     "output_type": "stream",
     "text": [
      " 39.567703 seconds (456.12 M allocations: 18.021 GiB, 8.93% gc time)\n",
      "i = 46\n"
     ]
    },
    {
     "name": "stderr",
     "output_type": "stream",
     "text": [
      "┌ Info: Epoch 1\n",
      "└ @ Main /Users/vhafych/.julia/packages/Flux/q3zeA/src/optimise/train.jl:136\n",
      "┌ Info: 0.70151967\n",
      "│   loss_test = 0.7021009\n",
      "└ @ Main /Users/vhafych/MPP-Server/gitrepos/COVID_Tweets_Analysis/src/nn.jl:81\n",
      "┌ Info: Epoch 2\n",
      "└ @ Main /Users/vhafych/.julia/packages/Flux/q3zeA/src/optimise/train.jl:136\n",
      "┌ Info: 0.62528825\n",
      "│   loss_test = 0.62704873\n",
      "└ @ Main /Users/vhafych/MPP-Server/gitrepos/COVID_Tweets_Analysis/src/nn.jl:81\n",
      "┌ Info: Epoch 3\n",
      "└ @ Main /Users/vhafych/.julia/packages/Flux/q3zeA/src/optimise/train.jl:136\n",
      "┌ Info: 0.6233214\n",
      "│   loss_test = 0.6258528\n",
      "└ @ Main /Users/vhafych/MPP-Server/gitrepos/COVID_Tweets_Analysis/src/nn.jl:81\n",
      "┌ Info: Epoch 4\n",
      "└ @ Main /Users/vhafych/.julia/packages/Flux/q3zeA/src/optimise/train.jl:136\n",
      "┌ Info: 0.62285846\n",
      "│   loss_test = 0.62604666\n",
      "└ @ Main /Users/vhafych/MPP-Server/gitrepos/COVID_Tweets_Analysis/src/nn.jl:81\n",
      "┌ Info: Epoch 5\n",
      "└ @ Main /Users/vhafych/.julia/packages/Flux/q3zeA/src/optimise/train.jl:136\n",
      "┌ Info: 0.61966807\n",
      "│   loss_test = 0.62397885\n",
      "└ @ Main /Users/vhafych/MPP-Server/gitrepos/COVID_Tweets_Analysis/src/nn.jl:81\n"
     ]
    },
    {
     "name": "stdout",
     "output_type": "stream",
     "text": [
      " 39.927460 seconds (456.12 M allocations: 18.021 GiB, 7.53% gc time)\n",
      "i = 47\n"
     ]
    },
    {
     "name": "stderr",
     "output_type": "stream",
     "text": [
      "┌ Info: Epoch 1\n",
      "└ @ Main /Users/vhafych/.julia/packages/Flux/q3zeA/src/optimise/train.jl:136\n",
      "┌ Info: 0.69203067\n",
      "│   loss_test = 0.6925056\n",
      "└ @ Main /Users/vhafych/MPP-Server/gitrepos/COVID_Tweets_Analysis/src/nn.jl:81\n",
      "┌ Info: Epoch 2\n",
      "└ @ Main /Users/vhafych/.julia/packages/Flux/q3zeA/src/optimise/train.jl:136\n",
      "┌ Info: 0.62467414\n",
      "│   loss_test = 0.6240265\n",
      "└ @ Main /Users/vhafych/MPP-Server/gitrepos/COVID_Tweets_Analysis/src/nn.jl:81\n",
      "┌ Info: Epoch 3\n",
      "└ @ Main /Users/vhafych/.julia/packages/Flux/q3zeA/src/optimise/train.jl:136\n",
      "┌ Info: 0.62245417\n",
      "│   loss_test = 0.6221357\n",
      "└ @ Main /Users/vhafych/MPP-Server/gitrepos/COVID_Tweets_Analysis/src/nn.jl:81\n",
      "┌ Info: Epoch 4\n",
      "└ @ Main /Users/vhafych/.julia/packages/Flux/q3zeA/src/optimise/train.jl:136\n",
      "┌ Info: 0.6216189\n",
      "│   loss_test = 0.62225366\n",
      "└ @ Main /Users/vhafych/MPP-Server/gitrepos/COVID_Tweets_Analysis/src/nn.jl:81\n",
      "┌ Info: Epoch 5\n",
      "└ @ Main /Users/vhafych/.julia/packages/Flux/q3zeA/src/optimise/train.jl:136\n",
      "┌ Info: 0.6197683\n",
      "│   loss_test = 0.6210205\n",
      "└ @ Main /Users/vhafych/MPP-Server/gitrepos/COVID_Tweets_Analysis/src/nn.jl:81\n"
     ]
    },
    {
     "name": "stdout",
     "output_type": "stream",
     "text": [
      " 41.815661 seconds (456.12 M allocations: 18.021 GiB, 8.54% gc time)\n",
      "i = 48\n"
     ]
    },
    {
     "name": "stderr",
     "output_type": "stream",
     "text": [
      "┌ Info: Epoch 1\n",
      "└ @ Main /Users/vhafych/.julia/packages/Flux/q3zeA/src/optimise/train.jl:136\n",
      "┌ Info: 0.6959082\n",
      "│   loss_test = 0.6956599\n",
      "└ @ Main /Users/vhafych/MPP-Server/gitrepos/COVID_Tweets_Analysis/src/nn.jl:81\n",
      "┌ Info: Epoch 2\n",
      "└ @ Main /Users/vhafych/.julia/packages/Flux/q3zeA/src/optimise/train.jl:136\n",
      "┌ Info: 0.6246\n",
      "│   loss_test = 0.6272366\n",
      "└ @ Main /Users/vhafych/MPP-Server/gitrepos/COVID_Tweets_Analysis/src/nn.jl:81\n",
      "┌ Info: Epoch 3\n",
      "└ @ Main /Users/vhafych/.julia/packages/Flux/q3zeA/src/optimise/train.jl:136\n",
      "┌ Info: 0.6220112\n",
      "│   loss_test = 0.62496996\n",
      "└ @ Main /Users/vhafych/MPP-Server/gitrepos/COVID_Tweets_Analysis/src/nn.jl:81\n",
      "┌ Info: Epoch 4\n",
      "└ @ Main /Users/vhafych/.julia/packages/Flux/q3zeA/src/optimise/train.jl:136\n",
      "┌ Info: 0.62070745\n",
      "│   loss_test = 0.6243197\n",
      "└ @ Main /Users/vhafych/MPP-Server/gitrepos/COVID_Tweets_Analysis/src/nn.jl:81\n",
      "┌ Info: Epoch 5\n",
      "└ @ Main /Users/vhafych/.julia/packages/Flux/q3zeA/src/optimise/train.jl:136\n",
      "┌ Info: 0.61870515\n",
      "│   loss_test = 0.62326074\n",
      "└ @ Main /Users/vhafych/MPP-Server/gitrepos/COVID_Tweets_Analysis/src/nn.jl:81\n"
     ]
    },
    {
     "name": "stdout",
     "output_type": "stream",
     "text": [
      " 39.004277 seconds (456.12 M allocations: 18.021 GiB, 7.64% gc time)\n",
      "i = 49\n"
     ]
    },
    {
     "name": "stderr",
     "output_type": "stream",
     "text": [
      "┌ Info: Epoch 1\n",
      "└ @ Main /Users/vhafych/.julia/packages/Flux/q3zeA/src/optimise/train.jl:136\n",
      "┌ Info: 0.69422877\n",
      "│   loss_test = 0.69423956\n",
      "└ @ Main /Users/vhafych/MPP-Server/gitrepos/COVID_Tweets_Analysis/src/nn.jl:81\n",
      "┌ Info: Epoch 2\n",
      "└ @ Main /Users/vhafych/.julia/packages/Flux/q3zeA/src/optimise/train.jl:136\n",
      "┌ Info: 0.62461036\n",
      "│   loss_test = 0.62452805\n",
      "└ @ Main /Users/vhafych/MPP-Server/gitrepos/COVID_Tweets_Analysis/src/nn.jl:81\n",
      "┌ Info: Epoch 3\n",
      "└ @ Main /Users/vhafych/.julia/packages/Flux/q3zeA/src/optimise/train.jl:136\n",
      "┌ Info: 0.6220202\n",
      "│   loss_test = 0.623537\n",
      "└ @ Main /Users/vhafych/MPP-Server/gitrepos/COVID_Tweets_Analysis/src/nn.jl:81\n",
      "┌ Info: Epoch 4\n",
      "└ @ Main /Users/vhafych/.julia/packages/Flux/q3zeA/src/optimise/train.jl:136\n",
      "┌ Info: 0.6205878\n",
      "│   loss_test = 0.6227529\n",
      "└ @ Main /Users/vhafych/MPP-Server/gitrepos/COVID_Tweets_Analysis/src/nn.jl:81\n",
      "┌ Info: Epoch 5\n",
      "└ @ Main /Users/vhafych/.julia/packages/Flux/q3zeA/src/optimise/train.jl:136\n",
      "┌ Info: 0.6185119\n",
      "│   loss_test = 0.6213234\n",
      "└ @ Main /Users/vhafych/MPP-Server/gitrepos/COVID_Tweets_Analysis/src/nn.jl:81\n"
     ]
    },
    {
     "name": "stdout",
     "output_type": "stream",
     "text": [
      " 39.540681 seconds (456.12 M allocations: 18.021 GiB, 8.85% gc time)\n",
      "i = 50\n"
     ]
    },
    {
     "name": "stderr",
     "output_type": "stream",
     "text": [
      "┌ Info: Epoch 1\n",
      "└ @ Main /Users/vhafych/.julia/packages/Flux/q3zeA/src/optimise/train.jl:136\n",
      "┌ Info: 0.7198125\n",
      "│   loss_test = 0.71936816\n",
      "└ @ Main /Users/vhafych/MPP-Server/gitrepos/COVID_Tweets_Analysis/src/nn.jl:81\n",
      "┌ Info: Epoch 2\n",
      "└ @ Main /Users/vhafych/.julia/packages/Flux/q3zeA/src/optimise/train.jl:136\n",
      "┌ Info: 0.6253666\n",
      "│   loss_test = 0.6277329\n",
      "└ @ Main /Users/vhafych/MPP-Server/gitrepos/COVID_Tweets_Analysis/src/nn.jl:81\n",
      "┌ Info: Epoch 3\n",
      "└ @ Main /Users/vhafych/.julia/packages/Flux/q3zeA/src/optimise/train.jl:136\n",
      "┌ Info: 0.62254685\n",
      "│   loss_test = 0.62616676\n",
      "└ @ Main /Users/vhafych/MPP-Server/gitrepos/COVID_Tweets_Analysis/src/nn.jl:81\n",
      "┌ Info: Epoch 4\n",
      "└ @ Main /Users/vhafych/.julia/packages/Flux/q3zeA/src/optimise/train.jl:136\n",
      "┌ Info: 0.6208936\n",
      "│   loss_test = 0.6251481\n",
      "└ @ Main /Users/vhafych/MPP-Server/gitrepos/COVID_Tweets_Analysis/src/nn.jl:81\n",
      "┌ Info: Epoch 5\n",
      "└ @ Main /Users/vhafych/.julia/packages/Flux/q3zeA/src/optimise/train.jl:136\n",
      "┌ Info: 0.6180631\n",
      "│   loss_test = 0.62370074\n",
      "└ @ Main /Users/vhafych/MPP-Server/gitrepos/COVID_Tweets_Analysis/src/nn.jl:81\n"
     ]
    },
    {
     "name": "stdout",
     "output_type": "stream",
     "text": [
      " 39.715530 seconds (456.12 M allocations: 18.021 GiB, 9.06% gc time)\n",
      "i = 51\n"
     ]
    },
    {
     "name": "stderr",
     "output_type": "stream",
     "text": [
      "┌ Info: Epoch 1\n",
      "└ @ Main /Users/vhafych/.julia/packages/Flux/q3zeA/src/optimise/train.jl:136\n",
      "┌ Info: 0.7123162\n",
      "│   loss_test = 0.7109544\n",
      "└ @ Main /Users/vhafych/MPP-Server/gitrepos/COVID_Tweets_Analysis/src/nn.jl:81\n",
      "┌ Info: Epoch 2\n",
      "└ @ Main /Users/vhafych/.julia/packages/Flux/q3zeA/src/optimise/train.jl:136\n",
      "┌ Info: 0.6237112\n",
      "│   loss_test = 0.6269555\n",
      "└ @ Main /Users/vhafych/MPP-Server/gitrepos/COVID_Tweets_Analysis/src/nn.jl:81\n",
      "┌ Info: Epoch 3\n",
      "└ @ Main /Users/vhafych/.julia/packages/Flux/q3zeA/src/optimise/train.jl:136\n",
      "┌ Info: 0.62121224\n",
      "│   loss_test = 0.6250969\n",
      "└ @ Main /Users/vhafych/MPP-Server/gitrepos/COVID_Tweets_Analysis/src/nn.jl:81\n",
      "┌ Info: Epoch 4\n",
      "└ @ Main /Users/vhafych/.julia/packages/Flux/q3zeA/src/optimise/train.jl:136\n",
      "┌ Info: 0.61987984\n",
      "│   loss_test = 0.6243258\n",
      "└ @ Main /Users/vhafych/MPP-Server/gitrepos/COVID_Tweets_Analysis/src/nn.jl:81\n",
      "┌ Info: Epoch 5\n",
      "└ @ Main /Users/vhafych/.julia/packages/Flux/q3zeA/src/optimise/train.jl:136\n",
      "┌ Info: 0.61835855\n",
      "│   loss_test = 0.62376904\n",
      "└ @ Main /Users/vhafych/MPP-Server/gitrepos/COVID_Tweets_Analysis/src/nn.jl:81\n"
     ]
    },
    {
     "name": "stdout",
     "output_type": "stream",
     "text": [
      " 38.968934 seconds (456.12 M allocations: 18.021 GiB, 8.94% gc time)\n",
      "i = 52\n"
     ]
    },
    {
     "name": "stderr",
     "output_type": "stream",
     "text": [
      "┌ Info: Epoch 1\n",
      "└ @ Main /Users/vhafych/.julia/packages/Flux/q3zeA/src/optimise/train.jl:136\n",
      "┌ Info: 0.6911023\n",
      "│   loss_test = 0.69131845\n",
      "└ @ Main /Users/vhafych/MPP-Server/gitrepos/COVID_Tweets_Analysis/src/nn.jl:81\n",
      "┌ Info: Epoch 2\n",
      "└ @ Main /Users/vhafych/.julia/packages/Flux/q3zeA/src/optimise/train.jl:136\n",
      "┌ Info: 0.6251983\n",
      "│   loss_test = 0.62534463\n",
      "└ @ Main /Users/vhafych/MPP-Server/gitrepos/COVID_Tweets_Analysis/src/nn.jl:81\n",
      "┌ Info: Epoch 3\n",
      "└ @ Main /Users/vhafych/.julia/packages/Flux/q3zeA/src/optimise/train.jl:136\n",
      "┌ Info: 0.6226528\n",
      "│   loss_test = 0.6237707\n",
      "└ @ Main /Users/vhafych/MPP-Server/gitrepos/COVID_Tweets_Analysis/src/nn.jl:81\n",
      "┌ Info: Epoch 4\n",
      "└ @ Main /Users/vhafych/.julia/packages/Flux/q3zeA/src/optimise/train.jl:136\n",
      "┌ Info: 0.62132126\n",
      "│   loss_test = 0.6230209\n",
      "└ @ Main /Users/vhafych/MPP-Server/gitrepos/COVID_Tweets_Analysis/src/nn.jl:81\n",
      "┌ Info: Epoch 5\n",
      "└ @ Main /Users/vhafych/.julia/packages/Flux/q3zeA/src/optimise/train.jl:136\n",
      "┌ Info: 0.6188918\n",
      "│   loss_test = 0.62116796\n",
      "└ @ Main /Users/vhafych/MPP-Server/gitrepos/COVID_Tweets_Analysis/src/nn.jl:81\n"
     ]
    },
    {
     "name": "stdout",
     "output_type": "stream",
     "text": [
      " 39.062918 seconds (456.12 M allocations: 18.021 GiB, 8.95% gc time)\n",
      "i = 53\n"
     ]
    },
    {
     "name": "stderr",
     "output_type": "stream",
     "text": [
      "┌ Info: Epoch 1\n",
      "└ @ Main /Users/vhafych/.julia/packages/Flux/q3zeA/src/optimise/train.jl:136\n",
      "┌ Info: 0.6943595\n",
      "│   loss_test = 0.69410354\n",
      "└ @ Main /Users/vhafych/MPP-Server/gitrepos/COVID_Tweets_Analysis/src/nn.jl:81\n",
      "┌ Info: Epoch 2\n",
      "└ @ Main /Users/vhafych/.julia/packages/Flux/q3zeA/src/optimise/train.jl:136\n",
      "┌ Info: 0.6252104\n",
      "│   loss_test = 0.6244097\n",
      "└ @ Main /Users/vhafych/MPP-Server/gitrepos/COVID_Tweets_Analysis/src/nn.jl:81\n",
      "┌ Info: Epoch 3\n",
      "└ @ Main /Users/vhafych/.julia/packages/Flux/q3zeA/src/optimise/train.jl:136\n",
      "┌ Info: 0.62268656\n",
      "│   loss_test = 0.62262756\n",
      "└ @ Main /Users/vhafych/MPP-Server/gitrepos/COVID_Tweets_Analysis/src/nn.jl:81\n",
      "┌ Info: Epoch 4\n",
      "└ @ Main /Users/vhafych/.julia/packages/Flux/q3zeA/src/optimise/train.jl:136\n",
      "┌ Info: 0.6219528\n",
      "│   loss_test = 0.62175673\n",
      "└ @ Main /Users/vhafych/MPP-Server/gitrepos/COVID_Tweets_Analysis/src/nn.jl:81\n",
      "┌ Info: Epoch 5\n",
      "└ @ Main /Users/vhafych/.julia/packages/Flux/q3zeA/src/optimise/train.jl:136\n",
      "┌ Info: 0.6193496\n",
      "│   loss_test = 0.6202855\n",
      "└ @ Main /Users/vhafych/MPP-Server/gitrepos/COVID_Tweets_Analysis/src/nn.jl:81\n"
     ]
    },
    {
     "name": "stdout",
     "output_type": "stream",
     "text": [
      " 39.425116 seconds (456.12 M allocations: 18.021 GiB, 8.91% gc time)\n",
      "i = 54\n"
     ]
    },
    {
     "name": "stderr",
     "output_type": "stream",
     "text": [
      "┌ Info: Epoch 1\n",
      "└ @ Main /Users/vhafych/.julia/packages/Flux/q3zeA/src/optimise/train.jl:136\n",
      "┌ Info: 0.6954802\n",
      "│   loss_test = 0.6961522\n",
      "└ @ Main /Users/vhafych/MPP-Server/gitrepos/COVID_Tweets_Analysis/src/nn.jl:81\n",
      "┌ Info: Epoch 2\n",
      "└ @ Main /Users/vhafych/.julia/packages/Flux/q3zeA/src/optimise/train.jl:136\n",
      "┌ Info: 0.6248207\n",
      "│   loss_test = 0.62774074\n",
      "└ @ Main /Users/vhafych/MPP-Server/gitrepos/COVID_Tweets_Analysis/src/nn.jl:81\n",
      "┌ Info: Epoch 3\n",
      "└ @ Main /Users/vhafych/.julia/packages/Flux/q3zeA/src/optimise/train.jl:136\n",
      "┌ Info: 0.62246436\n",
      "│   loss_test = 0.6255937\n",
      "└ @ Main /Users/vhafych/MPP-Server/gitrepos/COVID_Tweets_Analysis/src/nn.jl:81\n",
      "┌ Info: Epoch 4\n",
      "└ @ Main /Users/vhafych/.julia/packages/Flux/q3zeA/src/optimise/train.jl:136\n",
      "┌ Info: 0.62011516\n",
      "│   loss_test = 0.6235408\n",
      "└ @ Main /Users/vhafych/MPP-Server/gitrepos/COVID_Tweets_Analysis/src/nn.jl:81\n",
      "┌ Info: Epoch 5\n",
      "└ @ Main /Users/vhafych/.julia/packages/Flux/q3zeA/src/optimise/train.jl:136\n",
      "┌ Info: 0.6182726\n",
      "│   loss_test = 0.6227533\n",
      "└ @ Main /Users/vhafych/MPP-Server/gitrepos/COVID_Tweets_Analysis/src/nn.jl:81\n"
     ]
    },
    {
     "name": "stdout",
     "output_type": "stream",
     "text": [
      " 38.830484 seconds (456.12 M allocations: 18.021 GiB, 8.97% gc time)\n",
      "i = 55\n"
     ]
    },
    {
     "name": "stderr",
     "output_type": "stream",
     "text": [
      "┌ Info: Epoch 1\n",
      "└ @ Main /Users/vhafych/.julia/packages/Flux/q3zeA/src/optimise/train.jl:136\n",
      "┌ Info: 0.7123472\n",
      "│   loss_test = 0.711701\n",
      "└ @ Main /Users/vhafych/MPP-Server/gitrepos/COVID_Tweets_Analysis/src/nn.jl:81\n",
      "┌ Info: Epoch 2\n",
      "└ @ Main /Users/vhafych/.julia/packages/Flux/q3zeA/src/optimise/train.jl:136\n",
      "┌ Info: 0.6240032\n",
      "│   loss_test = 0.6255384\n",
      "└ @ Main /Users/vhafych/MPP-Server/gitrepos/COVID_Tweets_Analysis/src/nn.jl:81\n",
      "┌ Info: Epoch 3\n",
      "└ @ Main /Users/vhafych/.julia/packages/Flux/q3zeA/src/optimise/train.jl:136\n",
      "┌ Info: 0.6220015\n",
      "│   loss_test = 0.62388915\n",
      "└ @ Main /Users/vhafych/MPP-Server/gitrepos/COVID_Tweets_Analysis/src/nn.jl:81\n",
      "┌ Info: Epoch 4\n",
      "└ @ Main /Users/vhafych/.julia/packages/Flux/q3zeA/src/optimise/train.jl:136\n",
      "┌ Info: 0.62061924\n",
      "│   loss_test = 0.6237753\n",
      "└ @ Main /Users/vhafych/MPP-Server/gitrepos/COVID_Tweets_Analysis/src/nn.jl:81\n",
      "┌ Info: Epoch 5\n",
      "└ @ Main /Users/vhafych/.julia/packages/Flux/q3zeA/src/optimise/train.jl:136\n",
      "┌ Info: 0.6191673\n",
      "│   loss_test = 0.62274235\n",
      "└ @ Main /Users/vhafych/MPP-Server/gitrepos/COVID_Tweets_Analysis/src/nn.jl:81\n"
     ]
    },
    {
     "name": "stdout",
     "output_type": "stream",
     "text": [
      " 38.920306 seconds (456.12 M allocations: 18.021 GiB, 8.94% gc time)\n",
      "i = 56\n"
     ]
    },
    {
     "name": "stderr",
     "output_type": "stream",
     "text": [
      "┌ Info: Epoch 1\n",
      "└ @ Main /Users/vhafych/.julia/packages/Flux/q3zeA/src/optimise/train.jl:136\n",
      "┌ Info: 0.6910644\n",
      "│   loss_test = 0.6914837\n",
      "└ @ Main /Users/vhafych/MPP-Server/gitrepos/COVID_Tweets_Analysis/src/nn.jl:81\n",
      "┌ Info: Epoch 2\n",
      "└ @ Main /Users/vhafych/.julia/packages/Flux/q3zeA/src/optimise/train.jl:136\n",
      "┌ Info: 0.62378675\n",
      "│   loss_test = 0.62589926\n",
      "└ @ Main /Users/vhafych/MPP-Server/gitrepos/COVID_Tweets_Analysis/src/nn.jl:81\n",
      "┌ Info: Epoch 3\n",
      "└ @ Main /Users/vhafych/.julia/packages/Flux/q3zeA/src/optimise/train.jl:136\n",
      "┌ Info: 0.6223157\n",
      "│   loss_test = 0.6247981\n",
      "└ @ Main /Users/vhafych/MPP-Server/gitrepos/COVID_Tweets_Analysis/src/nn.jl:81\n",
      "┌ Info: Epoch 4\n",
      "└ @ Main /Users/vhafych/.julia/packages/Flux/q3zeA/src/optimise/train.jl:136\n",
      "┌ Info: 0.6199352\n",
      "│   loss_test = 0.6231145\n",
      "└ @ Main /Users/vhafych/MPP-Server/gitrepos/COVID_Tweets_Analysis/src/nn.jl:81\n",
      "┌ Info: Epoch 5\n",
      "└ @ Main /Users/vhafych/.julia/packages/Flux/q3zeA/src/optimise/train.jl:136\n",
      "┌ Info: 0.6182907\n",
      "│   loss_test = 0.6229367\n",
      "└ @ Main /Users/vhafych/MPP-Server/gitrepos/COVID_Tweets_Analysis/src/nn.jl:81\n"
     ]
    },
    {
     "name": "stdout",
     "output_type": "stream",
     "text": [
      " 39.248135 seconds (456.12 M allocations: 18.021 GiB, 8.97% gc time)\n",
      "i = 57\n"
     ]
    },
    {
     "name": "stderr",
     "output_type": "stream",
     "text": [
      "┌ Info: Epoch 1\n",
      "└ @ Main /Users/vhafych/.julia/packages/Flux/q3zeA/src/optimise/train.jl:136\n",
      "┌ Info: 0.7028575\n",
      "│   loss_test = 0.7028876\n",
      "└ @ Main /Users/vhafych/MPP-Server/gitrepos/COVID_Tweets_Analysis/src/nn.jl:81\n",
      "┌ Info: Epoch 2\n",
      "└ @ Main /Users/vhafych/.julia/packages/Flux/q3zeA/src/optimise/train.jl:136\n",
      "┌ Info: 0.62410694\n",
      "│   loss_test = 0.62828964\n",
      "└ @ Main /Users/vhafych/MPP-Server/gitrepos/COVID_Tweets_Analysis/src/nn.jl:81\n",
      "┌ Info: Epoch 3\n",
      "└ @ Main /Users/vhafych/.julia/packages/Flux/q3zeA/src/optimise/train.jl:136\n",
      "┌ Info: 0.6212903\n",
      "│   loss_test = 0.6261824\n",
      "└ @ Main /Users/vhafych/MPP-Server/gitrepos/COVID_Tweets_Analysis/src/nn.jl:81\n",
      "┌ Info: Epoch 4\n",
      "└ @ Main /Users/vhafych/.julia/packages/Flux/q3zeA/src/optimise/train.jl:136\n",
      "┌ Info: 0.61959165\n",
      "│   loss_test = 0.62543064\n",
      "└ @ Main /Users/vhafych/MPP-Server/gitrepos/COVID_Tweets_Analysis/src/nn.jl:81\n",
      "┌ Info: Epoch 5\n",
      "└ @ Main /Users/vhafych/.julia/packages/Flux/q3zeA/src/optimise/train.jl:136\n",
      "┌ Info: 0.61861414\n",
      "│   loss_test = 0.6248512\n",
      "└ @ Main /Users/vhafych/MPP-Server/gitrepos/COVID_Tweets_Analysis/src/nn.jl:81\n"
     ]
    },
    {
     "name": "stdout",
     "output_type": "stream",
     "text": [
      " 39.127750 seconds (456.12 M allocations: 18.021 GiB, 9.12% gc time)\n",
      "i = 58\n"
     ]
    },
    {
     "name": "stderr",
     "output_type": "stream",
     "text": [
      "┌ Info: Epoch 1\n",
      "└ @ Main /Users/vhafych/.julia/packages/Flux/q3zeA/src/optimise/train.jl:136\n",
      "┌ Info: 0.6947134\n",
      "│   loss_test = 0.69505584\n",
      "└ @ Main /Users/vhafych/MPP-Server/gitrepos/COVID_Tweets_Analysis/src/nn.jl:81\n",
      "┌ Info: Epoch 2\n",
      "└ @ Main /Users/vhafych/.julia/packages/Flux/q3zeA/src/optimise/train.jl:136\n",
      "┌ Info: 0.62541926\n",
      "│   loss_test = 0.627897\n",
      "└ @ Main /Users/vhafych/MPP-Server/gitrepos/COVID_Tweets_Analysis/src/nn.jl:81\n",
      "┌ Info: Epoch 3\n",
      "└ @ Main /Users/vhafych/.julia/packages/Flux/q3zeA/src/optimise/train.jl:136\n",
      "┌ Info: 0.6232256\n",
      "│   loss_test = 0.6260658\n",
      "└ @ Main /Users/vhafych/MPP-Server/gitrepos/COVID_Tweets_Analysis/src/nn.jl:81\n",
      "┌ Info: Epoch 4\n",
      "└ @ Main /Users/vhafych/.julia/packages/Flux/q3zeA/src/optimise/train.jl:136\n",
      "┌ Info: 0.62181574\n",
      "│   loss_test = 0.6253302\n",
      "└ @ Main /Users/vhafych/MPP-Server/gitrepos/COVID_Tweets_Analysis/src/nn.jl:81\n",
      "┌ Info: Epoch 5\n",
      "└ @ Main /Users/vhafych/.julia/packages/Flux/q3zeA/src/optimise/train.jl:136\n",
      "┌ Info: 0.6198508\n",
      "│   loss_test = 0.623826\n",
      "└ @ Main /Users/vhafych/MPP-Server/gitrepos/COVID_Tweets_Analysis/src/nn.jl:81\n"
     ]
    },
    {
     "name": "stdout",
     "output_type": "stream",
     "text": [
      " 38.831410 seconds (456.12 M allocations: 18.021 GiB, 9.01% gc time)\n",
      "i = 59\n"
     ]
    },
    {
     "name": "stderr",
     "output_type": "stream",
     "text": [
      "┌ Info: Epoch 1\n",
      "└ @ Main /Users/vhafych/.julia/packages/Flux/q3zeA/src/optimise/train.jl:136\n",
      "┌ Info: 0.691632\n",
      "│   loss_test = 0.69170564\n",
      "└ @ Main /Users/vhafych/MPP-Server/gitrepos/COVID_Tweets_Analysis/src/nn.jl:81\n",
      "┌ Info: Epoch 2\n",
      "└ @ Main /Users/vhafych/.julia/packages/Flux/q3zeA/src/optimise/train.jl:136\n",
      "┌ Info: 0.6244534\n",
      "│   loss_test = 0.6256199\n",
      "└ @ Main /Users/vhafych/MPP-Server/gitrepos/COVID_Tweets_Analysis/src/nn.jl:81\n",
      "┌ Info: Epoch 3\n",
      "└ @ Main /Users/vhafych/.julia/packages/Flux/q3zeA/src/optimise/train.jl:136\n",
      "┌ Info: 0.62224877\n",
      "│   loss_test = 0.6236761\n",
      "└ @ Main /Users/vhafych/MPP-Server/gitrepos/COVID_Tweets_Analysis/src/nn.jl:81\n",
      "┌ Info: Epoch 4\n",
      "└ @ Main /Users/vhafych/.julia/packages/Flux/q3zeA/src/optimise/train.jl:136\n",
      "┌ Info: 0.62070245\n",
      "│   loss_test = 0.62302816\n",
      "└ @ Main /Users/vhafych/MPP-Server/gitrepos/COVID_Tweets_Analysis/src/nn.jl:81\n",
      "┌ Info: Epoch 5\n",
      "└ @ Main /Users/vhafych/.julia/packages/Flux/q3zeA/src/optimise/train.jl:136\n",
      "┌ Info: 0.61925423\n",
      "│   loss_test = 0.62182975\n",
      "└ @ Main /Users/vhafych/MPP-Server/gitrepos/COVID_Tweets_Analysis/src/nn.jl:81\n"
     ]
    },
    {
     "name": "stdout",
     "output_type": "stream",
     "text": [
      " 38.900765 seconds (456.12 M allocations: 18.021 GiB, 8.99% gc time)\n",
      "i = 60\n"
     ]
    },
    {
     "name": "stderr",
     "output_type": "stream",
     "text": [
      "┌ Info: Epoch 1\n",
      "└ @ Main /Users/vhafych/.julia/packages/Flux/q3zeA/src/optimise/train.jl:136\n",
      "┌ Info: 0.6955312\n",
      "│   loss_test = 0.6952484\n",
      "└ @ Main /Users/vhafych/MPP-Server/gitrepos/COVID_Tweets_Analysis/src/nn.jl:81\n",
      "┌ Info: Epoch 2\n",
      "└ @ Main /Users/vhafych/.julia/packages/Flux/q3zeA/src/optimise/train.jl:136\n",
      "┌ Info: 0.6249453\n",
      "│   loss_test = 0.6241049\n",
      "└ @ Main /Users/vhafych/MPP-Server/gitrepos/COVID_Tweets_Analysis/src/nn.jl:81\n",
      "┌ Info: Epoch 3\n",
      "└ @ Main /Users/vhafych/.julia/packages/Flux/q3zeA/src/optimise/train.jl:136\n",
      "┌ Info: 0.6226415\n",
      "│   loss_test = 0.62268955\n",
      "└ @ Main /Users/vhafych/MPP-Server/gitrepos/COVID_Tweets_Analysis/src/nn.jl:81\n",
      "┌ Info: Epoch 4\n",
      "└ @ Main /Users/vhafych/.julia/packages/Flux/q3zeA/src/optimise/train.jl:136\n",
      "┌ Info: 0.62109774\n",
      "│   loss_test = 0.6219442\n",
      "└ @ Main /Users/vhafych/MPP-Server/gitrepos/COVID_Tweets_Analysis/src/nn.jl:81\n",
      "┌ Info: Epoch 5\n",
      "└ @ Main /Users/vhafych/.julia/packages/Flux/q3zeA/src/optimise/train.jl:136\n",
      "┌ Info: 0.6196703\n",
      "│   loss_test = 0.62025386\n",
      "└ @ Main /Users/vhafych/MPP-Server/gitrepos/COVID_Tweets_Analysis/src/nn.jl:81\n"
     ]
    },
    {
     "name": "stdout",
     "output_type": "stream",
     "text": [
      " 38.693897 seconds (456.12 M allocations: 18.021 GiB, 8.97% gc time)\n",
      "i = 61\n"
     ]
    },
    {
     "name": "stderr",
     "output_type": "stream",
     "text": [
      "┌ Info: Epoch 1\n",
      "└ @ Main /Users/vhafych/.julia/packages/Flux/q3zeA/src/optimise/train.jl:136\n",
      "┌ Info: 0.69331205\n",
      "│   loss_test = 0.6931535\n",
      "└ @ Main /Users/vhafych/MPP-Server/gitrepos/COVID_Tweets_Analysis/src/nn.jl:81\n",
      "┌ Info: Epoch 2\n",
      "└ @ Main /Users/vhafych/.julia/packages/Flux/q3zeA/src/optimise/train.jl:136\n",
      "┌ Info: 0.62441343\n",
      "│   loss_test = 0.6247472\n",
      "└ @ Main /Users/vhafych/MPP-Server/gitrepos/COVID_Tweets_Analysis/src/nn.jl:81\n",
      "┌ Info: Epoch 3\n",
      "└ @ Main /Users/vhafych/.julia/packages/Flux/q3zeA/src/optimise/train.jl:136\n",
      "┌ Info: 0.6221347\n",
      "│   loss_test = 0.6236578\n",
      "└ @ Main /Users/vhafych/MPP-Server/gitrepos/COVID_Tweets_Analysis/src/nn.jl:81\n",
      "┌ Info: Epoch 4\n",
      "└ @ Main /Users/vhafych/.julia/packages/Flux/q3zeA/src/optimise/train.jl:136\n",
      "┌ Info: 0.6213376\n",
      "│   loss_test = 0.6232161\n",
      "└ @ Main /Users/vhafych/MPP-Server/gitrepos/COVID_Tweets_Analysis/src/nn.jl:81\n",
      "┌ Info: Epoch 5\n",
      "└ @ Main /Users/vhafych/.julia/packages/Flux/q3zeA/src/optimise/train.jl:136\n",
      "┌ Info: 0.6191725\n",
      "│   loss_test = 0.6222921\n",
      "└ @ Main /Users/vhafych/MPP-Server/gitrepos/COVID_Tweets_Analysis/src/nn.jl:81\n"
     ]
    },
    {
     "name": "stdout",
     "output_type": "stream",
     "text": [
      " 39.315884 seconds (456.12 M allocations: 18.021 GiB, 9.07% gc time)\n",
      "i = 62\n"
     ]
    },
    {
     "name": "stderr",
     "output_type": "stream",
     "text": [
      "┌ Info: Epoch 1\n",
      "└ @ Main /Users/vhafych/.julia/packages/Flux/q3zeA/src/optimise/train.jl:136\n",
      "┌ Info: 0.69592\n",
      "│   loss_test = 0.6955436\n",
      "└ @ Main /Users/vhafych/MPP-Server/gitrepos/COVID_Tweets_Analysis/src/nn.jl:81\n",
      "┌ Info: Epoch 2\n",
      "└ @ Main /Users/vhafych/.julia/packages/Flux/q3zeA/src/optimise/train.jl:136\n",
      "┌ Info: 0.62471884\n",
      "│   loss_test = 0.6254183\n",
      "└ @ Main /Users/vhafych/MPP-Server/gitrepos/COVID_Tweets_Analysis/src/nn.jl:81\n",
      "┌ Info: Epoch 3\n",
      "└ @ Main /Users/vhafych/.julia/packages/Flux/q3zeA/src/optimise/train.jl:136\n",
      "┌ Info: 0.6222589\n",
      "│   loss_test = 0.62367994\n",
      "└ @ Main /Users/vhafych/MPP-Server/gitrepos/COVID_Tweets_Analysis/src/nn.jl:81\n",
      "┌ Info: Epoch 4\n",
      "└ @ Main /Users/vhafych/.julia/packages/Flux/q3zeA/src/optimise/train.jl:136\n",
      "┌ Info: 0.62100357\n",
      "│   loss_test = 0.62301993\n",
      "└ @ Main /Users/vhafych/MPP-Server/gitrepos/COVID_Tweets_Analysis/src/nn.jl:81\n",
      "┌ Info: Epoch 5\n",
      "└ @ Main /Users/vhafych/.julia/packages/Flux/q3zeA/src/optimise/train.jl:136\n",
      "┌ Info: 0.6189802\n",
      "│   loss_test = 0.6210381\n",
      "└ @ Main /Users/vhafych/MPP-Server/gitrepos/COVID_Tweets_Analysis/src/nn.jl:81\n"
     ]
    },
    {
     "name": "stdout",
     "output_type": "stream",
     "text": [
      " 38.946999 seconds (456.12 M allocations: 18.021 GiB, 9.07% gc time)\n",
      "i = 63\n"
     ]
    },
    {
     "name": "stderr",
     "output_type": "stream",
     "text": [
      "┌ Info: Epoch 1\n",
      "└ @ Main /Users/vhafych/.julia/packages/Flux/q3zeA/src/optimise/train.jl:136\n",
      "┌ Info: 0.6937871\n",
      "│   loss_test = 0.69358355\n",
      "└ @ Main /Users/vhafych/MPP-Server/gitrepos/COVID_Tweets_Analysis/src/nn.jl:81\n",
      "┌ Info: Epoch 2\n",
      "└ @ Main /Users/vhafych/.julia/packages/Flux/q3zeA/src/optimise/train.jl:136\n",
      "┌ Info: 0.62457937\n",
      "│   loss_test = 0.62803805\n",
      "└ @ Main /Users/vhafych/MPP-Server/gitrepos/COVID_Tweets_Analysis/src/nn.jl:81\n",
      "┌ Info: Epoch 3\n",
      "└ @ Main /Users/vhafych/.julia/packages/Flux/q3zeA/src/optimise/train.jl:136\n",
      "┌ Info: 0.6217367\n",
      "│   loss_test = 0.62551445\n",
      "└ @ Main /Users/vhafych/MPP-Server/gitrepos/COVID_Tweets_Analysis/src/nn.jl:81\n",
      "┌ Info: Epoch 4\n",
      "└ @ Main /Users/vhafych/.julia/packages/Flux/q3zeA/src/optimise/train.jl:136\n",
      "┌ Info: 0.6199201\n",
      "│   loss_test = 0.6242056\n",
      "└ @ Main /Users/vhafych/MPP-Server/gitrepos/COVID_Tweets_Analysis/src/nn.jl:81\n",
      "┌ Info: Epoch 5\n",
      "└ @ Main /Users/vhafych/.julia/packages/Flux/q3zeA/src/optimise/train.jl:136\n",
      "┌ Info: 0.6183599\n",
      "│   loss_test = 0.6231213\n",
      "└ @ Main /Users/vhafych/MPP-Server/gitrepos/COVID_Tweets_Analysis/src/nn.jl:81\n"
     ]
    },
    {
     "name": "stdout",
     "output_type": "stream",
     "text": [
      " 39.706698 seconds (456.12 M allocations: 18.021 GiB, 9.03% gc time)\n",
      "i = 64\n"
     ]
    },
    {
     "name": "stderr",
     "output_type": "stream",
     "text": [
      "┌ Info: Epoch 1\n",
      "└ @ Main /Users/vhafych/.julia/packages/Flux/q3zeA/src/optimise/train.jl:136\n",
      "┌ Info: 0.7045662\n",
      "│   loss_test = 0.7049588\n",
      "└ @ Main /Users/vhafych/MPP-Server/gitrepos/COVID_Tweets_Analysis/src/nn.jl:81\n",
      "┌ Info: Epoch 2\n",
      "└ @ Main /Users/vhafych/.julia/packages/Flux/q3zeA/src/optimise/train.jl:136\n",
      "┌ Info: 0.62510926\n",
      "│   loss_test = 0.6281813\n",
      "└ @ Main /Users/vhafych/MPP-Server/gitrepos/COVID_Tweets_Analysis/src/nn.jl:81\n",
      "┌ Info: Epoch 3\n",
      "└ @ Main /Users/vhafych/.julia/packages/Flux/q3zeA/src/optimise/train.jl:136\n",
      "┌ Info: 0.62167376\n",
      "│   loss_test = 0.62472814\n",
      "└ @ Main /Users/vhafych/MPP-Server/gitrepos/COVID_Tweets_Analysis/src/nn.jl:81\n",
      "┌ Info: Epoch 4\n",
      "└ @ Main /Users/vhafych/.julia/packages/Flux/q3zeA/src/optimise/train.jl:136\n",
      "┌ Info: 0.6209588\n",
      "│   loss_test = 0.62453026\n",
      "└ @ Main /Users/vhafych/MPP-Server/gitrepos/COVID_Tweets_Analysis/src/nn.jl:81\n",
      "┌ Info: Epoch 5\n",
      "└ @ Main /Users/vhafych/.julia/packages/Flux/q3zeA/src/optimise/train.jl:136\n",
      "┌ Info: 0.6180672\n",
      "│   loss_test = 0.62243915\n",
      "└ @ Main /Users/vhafych/MPP-Server/gitrepos/COVID_Tweets_Analysis/src/nn.jl:81\n"
     ]
    },
    {
     "name": "stdout",
     "output_type": "stream",
     "text": [
      " 40.501572 seconds (456.12 M allocations: 18.021 GiB, 8.73% gc time)\n",
      "i = 65\n"
     ]
    },
    {
     "name": "stderr",
     "output_type": "stream",
     "text": [
      "┌ Info: Epoch 1\n",
      "└ @ Main /Users/vhafych/.julia/packages/Flux/q3zeA/src/optimise/train.jl:136\n",
      "┌ Info: 0.6961239\n",
      "│   loss_test = 0.6962155\n",
      "└ @ Main /Users/vhafych/MPP-Server/gitrepos/COVID_Tweets_Analysis/src/nn.jl:81\n",
      "┌ Info: Epoch 2\n",
      "└ @ Main /Users/vhafych/.julia/packages/Flux/q3zeA/src/optimise/train.jl:136\n",
      "┌ Info: 0.6244043\n",
      "│   loss_test = 0.6247612\n",
      "└ @ Main /Users/vhafych/MPP-Server/gitrepos/COVID_Tweets_Analysis/src/nn.jl:81\n",
      "┌ Info: Epoch 3\n",
      "└ @ Main /Users/vhafych/.julia/packages/Flux/q3zeA/src/optimise/train.jl:136\n",
      "┌ Info: 0.6224731\n",
      "│   loss_test = 0.62374264\n",
      "└ @ Main /Users/vhafych/MPP-Server/gitrepos/COVID_Tweets_Analysis/src/nn.jl:81\n",
      "┌ Info: Epoch 4\n",
      "└ @ Main /Users/vhafych/.julia/packages/Flux/q3zeA/src/optimise/train.jl:136\n",
      "┌ Info: 0.6209813\n",
      "│   loss_test = 0.6229078\n",
      "└ @ Main /Users/vhafych/MPP-Server/gitrepos/COVID_Tweets_Analysis/src/nn.jl:81\n",
      "┌ Info: Epoch 5\n",
      "└ @ Main /Users/vhafych/.julia/packages/Flux/q3zeA/src/optimise/train.jl:136\n",
      "┌ Info: 0.6193028\n",
      "│   loss_test = 0.6216152\n",
      "└ @ Main /Users/vhafych/MPP-Server/gitrepos/COVID_Tweets_Analysis/src/nn.jl:81\n"
     ]
    },
    {
     "name": "stdout",
     "output_type": "stream",
     "text": [
      " 39.735790 seconds (456.12 M allocations: 18.021 GiB, 9.01% gc time)\n",
      "i = 66\n"
     ]
    },
    {
     "name": "stderr",
     "output_type": "stream",
     "text": [
      "┌ Info: Epoch 1\n",
      "└ @ Main /Users/vhafych/.julia/packages/Flux/q3zeA/src/optimise/train.jl:136\n",
      "┌ Info: 0.6938976\n",
      "│   loss_test = 0.6938857\n",
      "└ @ Main /Users/vhafych/MPP-Server/gitrepos/COVID_Tweets_Analysis/src/nn.jl:81\n",
      "┌ Info: Epoch 2\n",
      "└ @ Main /Users/vhafych/.julia/packages/Flux/q3zeA/src/optimise/train.jl:136\n",
      "┌ Info: 0.62435377\n",
      "│   loss_test = 0.6267189\n",
      "└ @ Main /Users/vhafych/MPP-Server/gitrepos/COVID_Tweets_Analysis/src/nn.jl:81\n",
      "┌ Info: Epoch 3\n",
      "└ @ Main /Users/vhafych/.julia/packages/Flux/q3zeA/src/optimise/train.jl:136\n",
      "┌ Info: 0.62168103\n",
      "│   loss_test = 0.62509304\n",
      "└ @ Main /Users/vhafych/MPP-Server/gitrepos/COVID_Tweets_Analysis/src/nn.jl:81\n",
      "┌ Info: Epoch 4\n",
      "└ @ Main /Users/vhafych/.julia/packages/Flux/q3zeA/src/optimise/train.jl:136\n",
      "┌ Info: 0.62072265\n",
      "│   loss_test = 0.62555623\n",
      "└ @ Main /Users/vhafych/MPP-Server/gitrepos/COVID_Tweets_Analysis/src/nn.jl:81\n",
      "┌ Info: Epoch 5\n",
      "└ @ Main /Users/vhafych/.julia/packages/Flux/q3zeA/src/optimise/train.jl:136\n",
      "┌ Info: 0.61829555\n",
      "│   loss_test = 0.6233743\n",
      "└ @ Main /Users/vhafych/MPP-Server/gitrepos/COVID_Tweets_Analysis/src/nn.jl:81\n"
     ]
    },
    {
     "name": "stdout",
     "output_type": "stream",
     "text": [
      " 39.064498 seconds (456.12 M allocations: 18.021 GiB, 9.02% gc time)\n",
      "i = 67\n"
     ]
    },
    {
     "name": "stderr",
     "output_type": "stream",
     "text": [
      "┌ Info: Epoch 1\n",
      "└ @ Main /Users/vhafych/.julia/packages/Flux/q3zeA/src/optimise/train.jl:136\n",
      "┌ Info: 0.6948167\n",
      "│   loss_test = 0.6951009\n",
      "└ @ Main /Users/vhafych/MPP-Server/gitrepos/COVID_Tweets_Analysis/src/nn.jl:81\n",
      "┌ Info: Epoch 2\n",
      "└ @ Main /Users/vhafych/.julia/packages/Flux/q3zeA/src/optimise/train.jl:136\n",
      "┌ Info: 0.6236067\n",
      "│   loss_test = 0.6269343\n",
      "└ @ Main /Users/vhafych/MPP-Server/gitrepos/COVID_Tweets_Analysis/src/nn.jl:81\n",
      "┌ Info: Epoch 3\n",
      "└ @ Main /Users/vhafych/.julia/packages/Flux/q3zeA/src/optimise/train.jl:136\n",
      "┌ Info: 0.62161934\n",
      "│   loss_test = 0.6254469\n",
      "└ @ Main /Users/vhafych/MPP-Server/gitrepos/COVID_Tweets_Analysis/src/nn.jl:81\n",
      "┌ Info: Epoch 4\n",
      "└ @ Main /Users/vhafych/.julia/packages/Flux/q3zeA/src/optimise/train.jl:136\n",
      "┌ Info: 0.62119395\n",
      "│   loss_test = 0.62573767\n",
      "└ @ Main /Users/vhafych/MPP-Server/gitrepos/COVID_Tweets_Analysis/src/nn.jl:81\n",
      "┌ Info: Epoch 5\n",
      "└ @ Main /Users/vhafych/.julia/packages/Flux/q3zeA/src/optimise/train.jl:136\n",
      "┌ Info: 0.6184543\n",
      "│   loss_test = 0.62342316\n",
      "└ @ Main /Users/vhafych/MPP-Server/gitrepos/COVID_Tweets_Analysis/src/nn.jl:81\n"
     ]
    },
    {
     "name": "stdout",
     "output_type": "stream",
     "text": [
      " 39.089099 seconds (456.12 M allocations: 18.021 GiB, 9.03% gc time)\n",
      "i = 68\n"
     ]
    },
    {
     "name": "stderr",
     "output_type": "stream",
     "text": [
      "┌ Info: Epoch 1\n",
      "└ @ Main /Users/vhafych/.julia/packages/Flux/q3zeA/src/optimise/train.jl:136\n",
      "┌ Info: 0.69791836\n",
      "│   loss_test = 0.69792396\n",
      "└ @ Main /Users/vhafych/MPP-Server/gitrepos/COVID_Tweets_Analysis/src/nn.jl:81\n",
      "┌ Info: Epoch 2\n",
      "└ @ Main /Users/vhafych/.julia/packages/Flux/q3zeA/src/optimise/train.jl:136\n",
      "┌ Info: 0.6248102\n",
      "│   loss_test = 0.62590337\n",
      "└ @ Main /Users/vhafych/MPP-Server/gitrepos/COVID_Tweets_Analysis/src/nn.jl:81\n",
      "┌ Info: Epoch 3\n",
      "└ @ Main /Users/vhafych/.julia/packages/Flux/q3zeA/src/optimise/train.jl:136\n",
      "┌ Info: 0.6225949\n",
      "│   loss_test = 0.6246236\n",
      "└ @ Main /Users/vhafych/MPP-Server/gitrepos/COVID_Tweets_Analysis/src/nn.jl:81\n",
      "┌ Info: Epoch 4\n",
      "└ @ Main /Users/vhafych/.julia/packages/Flux/q3zeA/src/optimise/train.jl:136\n",
      "┌ Info: 0.62110275\n",
      "│   loss_test = 0.62396914\n",
      "└ @ Main /Users/vhafych/MPP-Server/gitrepos/COVID_Tweets_Analysis/src/nn.jl:81\n",
      "┌ Info: Epoch 5\n",
      "└ @ Main /Users/vhafych/.julia/packages/Flux/q3zeA/src/optimise/train.jl:136\n",
      "┌ Info: 0.6190972\n",
      "│   loss_test = 0.62191486\n",
      "└ @ Main /Users/vhafych/MPP-Server/gitrepos/COVID_Tweets_Analysis/src/nn.jl:81\n"
     ]
    },
    {
     "name": "stdout",
     "output_type": "stream",
     "text": [
      " 39.064008 seconds (456.12 M allocations: 18.021 GiB, 9.08% gc time)\n",
      "i = 69\n"
     ]
    },
    {
     "name": "stderr",
     "output_type": "stream",
     "text": [
      "┌ Info: Epoch 1\n",
      "└ @ Main /Users/vhafych/.julia/packages/Flux/q3zeA/src/optimise/train.jl:136\n",
      "┌ Info: 0.7374973\n",
      "│   loss_test = 0.7368337\n",
      "└ @ Main /Users/vhafych/MPP-Server/gitrepos/COVID_Tweets_Analysis/src/nn.jl:81\n",
      "┌ Info: Epoch 2\n",
      "└ @ Main /Users/vhafych/.julia/packages/Flux/q3zeA/src/optimise/train.jl:136\n",
      "┌ Info: 0.62609273\n",
      "│   loss_test = 0.6248354\n",
      "└ @ Main /Users/vhafych/MPP-Server/gitrepos/COVID_Tweets_Analysis/src/nn.jl:81\n",
      "┌ Info: Epoch 3\n",
      "└ @ Main /Users/vhafych/.julia/packages/Flux/q3zeA/src/optimise/train.jl:136\n",
      "┌ Info: 0.62264264\n",
      "│   loss_test = 0.62222415\n",
      "└ @ Main /Users/vhafych/MPP-Server/gitrepos/COVID_Tweets_Analysis/src/nn.jl:81\n",
      "┌ Info: Epoch 4\n",
      "└ @ Main /Users/vhafych/.julia/packages/Flux/q3zeA/src/optimise/train.jl:136\n",
      "┌ Info: 0.62121695\n",
      "│   loss_test = 0.6216096\n",
      "└ @ Main /Users/vhafych/MPP-Server/gitrepos/COVID_Tweets_Analysis/src/nn.jl:81\n",
      "┌ Info: Epoch 5\n",
      "└ @ Main /Users/vhafych/.julia/packages/Flux/q3zeA/src/optimise/train.jl:136\n",
      "┌ Info: 0.6201518\n",
      "│   loss_test = 0.621446\n",
      "└ @ Main /Users/vhafych/MPP-Server/gitrepos/COVID_Tweets_Analysis/src/nn.jl:81\n"
     ]
    },
    {
     "name": "stdout",
     "output_type": "stream",
     "text": [
      " 39.096975 seconds (456.12 M allocations: 18.021 GiB, 9.00% gc time)\n",
      "i = 70\n"
     ]
    },
    {
     "name": "stderr",
     "output_type": "stream",
     "text": [
      "┌ Info: Epoch 1\n",
      "└ @ Main /Users/vhafych/.julia/packages/Flux/q3zeA/src/optimise/train.jl:136\n",
      "┌ Info: 0.69612575\n",
      "│   loss_test = 0.69568855\n",
      "└ @ Main /Users/vhafych/MPP-Server/gitrepos/COVID_Tweets_Analysis/src/nn.jl:81\n",
      "┌ Info: Epoch 2\n",
      "└ @ Main /Users/vhafych/.julia/packages/Flux/q3zeA/src/optimise/train.jl:136\n",
      "┌ Info: 0.62618\n",
      "│   loss_test = 0.62562066\n",
      "└ @ Main /Users/vhafych/MPP-Server/gitrepos/COVID_Tweets_Analysis/src/nn.jl:81\n",
      "┌ Info: Epoch 3\n",
      "└ @ Main /Users/vhafych/.julia/packages/Flux/q3zeA/src/optimise/train.jl:136\n",
      "┌ Info: 0.6226599\n",
      "│   loss_test = 0.6228737\n",
      "└ @ Main /Users/vhafych/MPP-Server/gitrepos/COVID_Tweets_Analysis/src/nn.jl:81\n",
      "┌ Info: Epoch 4\n",
      "└ @ Main /Users/vhafych/.julia/packages/Flux/q3zeA/src/optimise/train.jl:136\n",
      "┌ Info: 0.62104833\n",
      "│   loss_test = 0.62156355\n",
      "└ @ Main /Users/vhafych/MPP-Server/gitrepos/COVID_Tweets_Analysis/src/nn.jl:81\n",
      "┌ Info: Epoch 5\n",
      "└ @ Main /Users/vhafych/.julia/packages/Flux/q3zeA/src/optimise/train.jl:136\n",
      "┌ Info: 0.6193934\n",
      "│   loss_test = 0.62066245\n",
      "└ @ Main /Users/vhafych/MPP-Server/gitrepos/COVID_Tweets_Analysis/src/nn.jl:81\n"
     ]
    },
    {
     "name": "stdout",
     "output_type": "stream",
     "text": [
      " 38.965346 seconds (456.12 M allocations: 18.021 GiB, 9.05% gc time)\n",
      "i = 71\n"
     ]
    },
    {
     "name": "stderr",
     "output_type": "stream",
     "text": [
      "┌ Info: Epoch 1\n",
      "└ @ Main /Users/vhafych/.julia/packages/Flux/q3zeA/src/optimise/train.jl:136\n",
      "┌ Info: 0.70315516\n",
      "│   loss_test = 0.70278597\n",
      "└ @ Main /Users/vhafych/MPP-Server/gitrepos/COVID_Tweets_Analysis/src/nn.jl:81\n",
      "┌ Info: Epoch 2\n",
      "└ @ Main /Users/vhafych/.julia/packages/Flux/q3zeA/src/optimise/train.jl:136\n",
      "┌ Info: 0.62383515\n",
      "│   loss_test = 0.6265896\n",
      "└ @ Main /Users/vhafych/MPP-Server/gitrepos/COVID_Tweets_Analysis/src/nn.jl:81\n",
      "┌ Info: Epoch 3\n",
      "└ @ Main /Users/vhafych/.julia/packages/Flux/q3zeA/src/optimise/train.jl:136\n",
      "┌ Info: 0.6216572\n",
      "│   loss_test = 0.62478876\n",
      "└ @ Main /Users/vhafych/MPP-Server/gitrepos/COVID_Tweets_Analysis/src/nn.jl:81\n",
      "┌ Info: Epoch 4\n",
      "└ @ Main /Users/vhafych/.julia/packages/Flux/q3zeA/src/optimise/train.jl:136\n",
      "┌ Info: 0.6202366\n",
      "│   loss_test = 0.6242374\n",
      "└ @ Main /Users/vhafych/MPP-Server/gitrepos/COVID_Tweets_Analysis/src/nn.jl:81\n",
      "┌ Info: Epoch 5\n",
      "└ @ Main /Users/vhafych/.julia/packages/Flux/q3zeA/src/optimise/train.jl:136\n",
      "┌ Info: 0.61825794\n",
      "│   loss_test = 0.6235354\n",
      "└ @ Main /Users/vhafych/MPP-Server/gitrepos/COVID_Tweets_Analysis/src/nn.jl:81\n"
     ]
    },
    {
     "name": "stdout",
     "output_type": "stream",
     "text": [
      " 39.439314 seconds (456.12 M allocations: 18.021 GiB, 8.93% gc time)\n",
      "i = 72\n"
     ]
    },
    {
     "name": "stderr",
     "output_type": "stream",
     "text": [
      "┌ Info: Epoch 1\n",
      "└ @ Main /Users/vhafych/.julia/packages/Flux/q3zeA/src/optimise/train.jl:136\n",
      "┌ Info: 0.70171195\n",
      "│   loss_test = 0.7018025\n",
      "└ @ Main /Users/vhafych/MPP-Server/gitrepos/COVID_Tweets_Analysis/src/nn.jl:81\n",
      "┌ Info: Epoch 2\n",
      "└ @ Main /Users/vhafych/.julia/packages/Flux/q3zeA/src/optimise/train.jl:136\n",
      "┌ Info: 0.62497896\n",
      "│   loss_test = 0.62560993\n",
      "└ @ Main /Users/vhafych/MPP-Server/gitrepos/COVID_Tweets_Analysis/src/nn.jl:81\n",
      "┌ Info: Epoch 3\n",
      "└ @ Main /Users/vhafych/.julia/packages/Flux/q3zeA/src/optimise/train.jl:136\n",
      "┌ Info: 0.62232965\n",
      "│   loss_test = 0.623669\n",
      "└ @ Main /Users/vhafych/MPP-Server/gitrepos/COVID_Tweets_Analysis/src/nn.jl:81\n",
      "┌ Info: Epoch 4\n",
      "└ @ Main /Users/vhafych/.julia/packages/Flux/q3zeA/src/optimise/train.jl:136\n",
      "┌ Info: 0.6210088\n",
      "│   loss_test = 0.62269694\n",
      "└ @ Main /Users/vhafych/MPP-Server/gitrepos/COVID_Tweets_Analysis/src/nn.jl:81\n",
      "┌ Info: Epoch 5\n",
      "└ @ Main /Users/vhafych/.julia/packages/Flux/q3zeA/src/optimise/train.jl:136\n",
      "┌ Info: 0.61914563\n",
      "│   loss_test = 0.62155443\n",
      "└ @ Main /Users/vhafych/MPP-Server/gitrepos/COVID_Tweets_Analysis/src/nn.jl:81\n"
     ]
    },
    {
     "name": "stdout",
     "output_type": "stream",
     "text": [
      " 39.051198 seconds (456.12 M allocations: 18.021 GiB, 9.04% gc time)\n",
      "i = 73\n"
     ]
    },
    {
     "name": "stderr",
     "output_type": "stream",
     "text": [
      "┌ Info: Epoch 1\n",
      "└ @ Main /Users/vhafych/.julia/packages/Flux/q3zeA/src/optimise/train.jl:136\n",
      "┌ Info: 0.6924516\n",
      "│   loss_test = 0.69293135\n",
      "└ @ Main /Users/vhafych/MPP-Server/gitrepos/COVID_Tweets_Analysis/src/nn.jl:81\n",
      "┌ Info: Epoch 2\n",
      "└ @ Main /Users/vhafych/.julia/packages/Flux/q3zeA/src/optimise/train.jl:136\n",
      "┌ Info: 0.6241298\n",
      "│   loss_test = 0.6262306\n",
      "└ @ Main /Users/vhafych/MPP-Server/gitrepos/COVID_Tweets_Analysis/src/nn.jl:81\n",
      "┌ Info: Epoch 3\n",
      "└ @ Main /Users/vhafych/.julia/packages/Flux/q3zeA/src/optimise/train.jl:136\n",
      "┌ Info: 0.6226993\n",
      "│   loss_test = 0.62576777\n",
      "└ @ Main /Users/vhafych/MPP-Server/gitrepos/COVID_Tweets_Analysis/src/nn.jl:81\n",
      "┌ Info: Epoch 4\n",
      "└ @ Main /Users/vhafych/.julia/packages/Flux/q3zeA/src/optimise/train.jl:136\n",
      "┌ Info: 0.62049997\n",
      "│   loss_test = 0.6244967\n",
      "└ @ Main /Users/vhafych/MPP-Server/gitrepos/COVID_Tweets_Analysis/src/nn.jl:81\n",
      "┌ Info: Epoch 5\n",
      "└ @ Main /Users/vhafych/.julia/packages/Flux/q3zeA/src/optimise/train.jl:136\n",
      "┌ Info: 0.6184586\n",
      "│   loss_test = 0.6227536\n",
      "└ @ Main /Users/vhafych/MPP-Server/gitrepos/COVID_Tweets_Analysis/src/nn.jl:81\n"
     ]
    },
    {
     "name": "stdout",
     "output_type": "stream",
     "text": [
      " 38.994181 seconds (456.12 M allocations: 18.021 GiB, 9.09% gc time)\n",
      "i = 74\n"
     ]
    },
    {
     "name": "stderr",
     "output_type": "stream",
     "text": [
      "┌ Info: Epoch 1\n",
      "└ @ Main /Users/vhafych/.julia/packages/Flux/q3zeA/src/optimise/train.jl:136\n",
      "┌ Info: 0.6950949\n",
      "│   loss_test = 0.69491136\n",
      "└ @ Main /Users/vhafych/MPP-Server/gitrepos/COVID_Tweets_Analysis/src/nn.jl:81\n",
      "┌ Info: Epoch 2\n",
      "└ @ Main /Users/vhafych/.julia/packages/Flux/q3zeA/src/optimise/train.jl:136\n",
      "┌ Info: 0.6242966\n",
      "│   loss_test = 0.6266926\n",
      "└ @ Main /Users/vhafych/MPP-Server/gitrepos/COVID_Tweets_Analysis/src/nn.jl:81\n",
      "┌ Info: Epoch 3\n",
      "└ @ Main /Users/vhafych/.julia/packages/Flux/q3zeA/src/optimise/train.jl:136\n",
      "┌ Info: 0.62280446\n",
      "│   loss_test = 0.6254367\n",
      "└ @ Main /Users/vhafych/MPP-Server/gitrepos/COVID_Tweets_Analysis/src/nn.jl:81\n",
      "┌ Info: Epoch 4\n",
      "└ @ Main /Users/vhafych/.julia/packages/Flux/q3zeA/src/optimise/train.jl:136\n",
      "┌ Info: 0.6198474\n",
      "│   loss_test = 0.6233716\n",
      "└ @ Main /Users/vhafych/MPP-Server/gitrepos/COVID_Tweets_Analysis/src/nn.jl:81\n",
      "┌ Info: Epoch 5\n",
      "└ @ Main /Users/vhafych/.julia/packages/Flux/q3zeA/src/optimise/train.jl:136\n",
      "┌ Info: 0.6186823\n",
      "│   loss_test = 0.62290645\n",
      "└ @ Main /Users/vhafych/MPP-Server/gitrepos/COVID_Tweets_Analysis/src/nn.jl:81\n"
     ]
    },
    {
     "name": "stdout",
     "output_type": "stream",
     "text": [
      " 39.019549 seconds (456.12 M allocations: 18.021 GiB, 9.05% gc time)\n",
      "i = 75\n"
     ]
    },
    {
     "name": "stderr",
     "output_type": "stream",
     "text": [
      "┌ Info: Epoch 1\n",
      "└ @ Main /Users/vhafych/.julia/packages/Flux/q3zeA/src/optimise/train.jl:136\n",
      "┌ Info: 0.69063556\n",
      "│   loss_test = 0.690604\n",
      "└ @ Main /Users/vhafych/MPP-Server/gitrepos/COVID_Tweets_Analysis/src/nn.jl:81\n",
      "┌ Info: Epoch 2\n",
      "└ @ Main /Users/vhafych/.julia/packages/Flux/q3zeA/src/optimise/train.jl:136\n",
      "┌ Info: 0.62476003\n",
      "│   loss_test = 0.6260472\n",
      "└ @ Main /Users/vhafych/MPP-Server/gitrepos/COVID_Tweets_Analysis/src/nn.jl:81\n",
      "┌ Info: Epoch 3\n",
      "└ @ Main /Users/vhafych/.julia/packages/Flux/q3zeA/src/optimise/train.jl:136\n",
      "┌ Info: 0.62243944\n",
      "│   loss_test = 0.6240753\n",
      "└ @ Main /Users/vhafych/MPP-Server/gitrepos/COVID_Tweets_Analysis/src/nn.jl:81\n",
      "┌ Info: Epoch 4\n",
      "└ @ Main /Users/vhafych/.julia/packages/Flux/q3zeA/src/optimise/train.jl:136\n",
      "┌ Info: 0.62106067\n",
      "│   loss_test = 0.6235834\n",
      "└ @ Main /Users/vhafych/MPP-Server/gitrepos/COVID_Tweets_Analysis/src/nn.jl:81\n",
      "┌ Info: Epoch 5\n",
      "└ @ Main /Users/vhafych/.julia/packages/Flux/q3zeA/src/optimise/train.jl:136\n",
      "┌ Info: 0.6196748\n",
      "│   loss_test = 0.62233055\n",
      "└ @ Main /Users/vhafych/MPP-Server/gitrepos/COVID_Tweets_Analysis/src/nn.jl:81\n"
     ]
    },
    {
     "name": "stdout",
     "output_type": "stream",
     "text": [
      " 39.140257 seconds (456.12 M allocations: 18.021 GiB, 9.01% gc time)\n",
      "i = 76\n"
     ]
    },
    {
     "name": "stderr",
     "output_type": "stream",
     "text": [
      "┌ Info: Epoch 1\n",
      "└ @ Main /Users/vhafych/.julia/packages/Flux/q3zeA/src/optimise/train.jl:136\n",
      "┌ Info: 0.69027543\n",
      "│   loss_test = 0.69058883\n",
      "└ @ Main /Users/vhafych/MPP-Server/gitrepos/COVID_Tweets_Analysis/src/nn.jl:81\n",
      "┌ Info: Epoch 2\n",
      "└ @ Main /Users/vhafych/.julia/packages/Flux/q3zeA/src/optimise/train.jl:136\n",
      "┌ Info: 0.6242256\n",
      "│   loss_test = 0.62613523\n",
      "└ @ Main /Users/vhafych/MPP-Server/gitrepos/COVID_Tweets_Analysis/src/nn.jl:81\n",
      "┌ Info: Epoch 3\n",
      "└ @ Main /Users/vhafych/.julia/packages/Flux/q3zeA/src/optimise/train.jl:136\n",
      "┌ Info: 0.62201965\n",
      "│   loss_test = 0.62510186\n",
      "└ @ Main /Users/vhafych/MPP-Server/gitrepos/COVID_Tweets_Analysis/src/nn.jl:81\n",
      "┌ Info: Epoch 4\n",
      "└ @ Main /Users/vhafych/.julia/packages/Flux/q3zeA/src/optimise/train.jl:136\n",
      "┌ Info: 0.6207262\n",
      "│   loss_test = 0.6243692\n",
      "└ @ Main /Users/vhafych/MPP-Server/gitrepos/COVID_Tweets_Analysis/src/nn.jl:81\n",
      "┌ Info: Epoch 5\n",
      "└ @ Main /Users/vhafych/.julia/packages/Flux/q3zeA/src/optimise/train.jl:136\n",
      "┌ Info: 0.61866534\n",
      "│   loss_test = 0.6223489\n",
      "└ @ Main /Users/vhafych/MPP-Server/gitrepos/COVID_Tweets_Analysis/src/nn.jl:81\n"
     ]
    },
    {
     "name": "stdout",
     "output_type": "stream",
     "text": [
      " 39.285274 seconds (456.12 M allocations: 18.021 GiB, 9.02% gc time)\n",
      "i = 77\n"
     ]
    },
    {
     "name": "stderr",
     "output_type": "stream",
     "text": [
      "┌ Info: Epoch 1\n",
      "└ @ Main /Users/vhafych/.julia/packages/Flux/q3zeA/src/optimise/train.jl:136\n",
      "┌ Info: 0.69686264\n",
      "│   loss_test = 0.69721866\n",
      "└ @ Main /Users/vhafych/MPP-Server/gitrepos/COVID_Tweets_Analysis/src/nn.jl:81\n",
      "┌ Info: Epoch 2\n",
      "└ @ Main /Users/vhafych/.julia/packages/Flux/q3zeA/src/optimise/train.jl:136\n",
      "┌ Info: 0.62512875\n",
      "│   loss_test = 0.6256782\n",
      "└ @ Main /Users/vhafych/MPP-Server/gitrepos/COVID_Tweets_Analysis/src/nn.jl:81\n",
      "┌ Info: Epoch 3\n",
      "└ @ Main /Users/vhafych/.julia/packages/Flux/q3zeA/src/optimise/train.jl:136\n",
      "┌ Info: 0.6224114\n",
      "│   loss_test = 0.6235199\n",
      "└ @ Main /Users/vhafych/MPP-Server/gitrepos/COVID_Tweets_Analysis/src/nn.jl:81\n",
      "┌ Info: Epoch 4\n",
      "└ @ Main /Users/vhafych/.julia/packages/Flux/q3zeA/src/optimise/train.jl:136\n",
      "┌ Info: 0.6210341\n",
      "│   loss_test = 0.62299883\n",
      "└ @ Main /Users/vhafych/MPP-Server/gitrepos/COVID_Tweets_Analysis/src/nn.jl:81\n",
      "┌ Info: Epoch 5\n",
      "└ @ Main /Users/vhafych/.julia/packages/Flux/q3zeA/src/optimise/train.jl:136\n",
      "┌ Info: 0.6191982\n",
      "│   loss_test = 0.6216506\n",
      "└ @ Main /Users/vhafych/MPP-Server/gitrepos/COVID_Tweets_Analysis/src/nn.jl:81\n"
     ]
    },
    {
     "name": "stdout",
     "output_type": "stream",
     "text": [
      " 38.940631 seconds (456.12 M allocations: 18.021 GiB, 9.08% gc time)\n",
      "i = 78\n"
     ]
    },
    {
     "name": "stderr",
     "output_type": "stream",
     "text": [
      "┌ Info: Epoch 1\n",
      "└ @ Main /Users/vhafych/.julia/packages/Flux/q3zeA/src/optimise/train.jl:136\n",
      "┌ Info: 0.6918683\n",
      "│   loss_test = 0.69182986\n",
      "└ @ Main /Users/vhafych/MPP-Server/gitrepos/COVID_Tweets_Analysis/src/nn.jl:81\n",
      "┌ Info: Epoch 2\n",
      "└ @ Main /Users/vhafych/.julia/packages/Flux/q3zeA/src/optimise/train.jl:136\n",
      "┌ Info: 0.6243354\n",
      "│   loss_test = 0.6263321\n",
      "└ @ Main /Users/vhafych/MPP-Server/gitrepos/COVID_Tweets_Analysis/src/nn.jl:81\n",
      "┌ Info: Epoch 3\n",
      "└ @ Main /Users/vhafych/.julia/packages/Flux/q3zeA/src/optimise/train.jl:136\n",
      "┌ Info: 0.6217338\n",
      "│   loss_test = 0.6244577\n",
      "└ @ Main /Users/vhafych/MPP-Server/gitrepos/COVID_Tweets_Analysis/src/nn.jl:81\n",
      "┌ Info: Epoch 4\n",
      "└ @ Main /Users/vhafych/.julia/packages/Flux/q3zeA/src/optimise/train.jl:136\n",
      "┌ Info: 0.620368\n",
      "│   loss_test = 0.6237192\n",
      "└ @ Main /Users/vhafych/MPP-Server/gitrepos/COVID_Tweets_Analysis/src/nn.jl:81\n",
      "┌ Info: Epoch 5\n",
      "└ @ Main /Users/vhafych/.julia/packages/Flux/q3zeA/src/optimise/train.jl:136\n",
      "┌ Info: 0.61853284\n",
      "│   loss_test = 0.6224388\n",
      "└ @ Main /Users/vhafych/MPP-Server/gitrepos/COVID_Tweets_Analysis/src/nn.jl:81\n"
     ]
    },
    {
     "name": "stdout",
     "output_type": "stream",
     "text": [
      " 39.031392 seconds (456.12 M allocations: 18.021 GiB, 9.03% gc time)\n",
      "i = 79\n"
     ]
    },
    {
     "name": "stderr",
     "output_type": "stream",
     "text": [
      "┌ Info: Epoch 1\n",
      "└ @ Main /Users/vhafych/.julia/packages/Flux/q3zeA/src/optimise/train.jl:136\n",
      "┌ Info: 0.7009604\n",
      "│   loss_test = 0.7010852\n",
      "└ @ Main /Users/vhafych/MPP-Server/gitrepos/COVID_Tweets_Analysis/src/nn.jl:81\n",
      "┌ Info: Epoch 2\n",
      "└ @ Main /Users/vhafych/.julia/packages/Flux/q3zeA/src/optimise/train.jl:136\n",
      "┌ Info: 0.62504864\n",
      "│   loss_test = 0.62560344\n",
      "└ @ Main /Users/vhafych/MPP-Server/gitrepos/COVID_Tweets_Analysis/src/nn.jl:81\n",
      "┌ Info: Epoch 3\n",
      "└ @ Main /Users/vhafych/.julia/packages/Flux/q3zeA/src/optimise/train.jl:136\n",
      "┌ Info: 0.62201256\n",
      "│   loss_test = 0.6233327\n",
      "└ @ Main /Users/vhafych/MPP-Server/gitrepos/COVID_Tweets_Analysis/src/nn.jl:81\n",
      "┌ Info: Epoch 4\n",
      "└ @ Main /Users/vhafych/.julia/packages/Flux/q3zeA/src/optimise/train.jl:136\n",
      "┌ Info: 0.62041754\n",
      "│   loss_test = 0.62254286\n",
      "└ @ Main /Users/vhafych/MPP-Server/gitrepos/COVID_Tweets_Analysis/src/nn.jl:81\n",
      "┌ Info: Epoch 5\n",
      "└ @ Main /Users/vhafych/.julia/packages/Flux/q3zeA/src/optimise/train.jl:136\n",
      "┌ Info: 0.61904097\n",
      "│   loss_test = 0.62188756\n",
      "└ @ Main /Users/vhafych/MPP-Server/gitrepos/COVID_Tweets_Analysis/src/nn.jl:81\n"
     ]
    },
    {
     "name": "stdout",
     "output_type": "stream",
     "text": [
      " 39.501508 seconds (456.12 M allocations: 18.021 GiB, 9.03% gc time)\n",
      "i = 80\n"
     ]
    },
    {
     "name": "stderr",
     "output_type": "stream",
     "text": [
      "┌ Info: Epoch 1\n",
      "└ @ Main /Users/vhafych/.julia/packages/Flux/q3zeA/src/optimise/train.jl:136\n",
      "┌ Info: 0.69392496\n",
      "│   loss_test = 0.6937868\n",
      "└ @ Main /Users/vhafych/MPP-Server/gitrepos/COVID_Tweets_Analysis/src/nn.jl:81\n",
      "┌ Info: Epoch 2\n",
      "└ @ Main /Users/vhafych/.julia/packages/Flux/q3zeA/src/optimise/train.jl:136\n",
      "┌ Info: 0.6248026\n",
      "│   loss_test = 0.6239187\n",
      "└ @ Main /Users/vhafych/MPP-Server/gitrepos/COVID_Tweets_Analysis/src/nn.jl:81\n",
      "┌ Info: Epoch 3\n",
      "└ @ Main /Users/vhafych/.julia/packages/Flux/q3zeA/src/optimise/train.jl:136\n",
      "┌ Info: 0.62286353\n",
      "│   loss_test = 0.6224212\n",
      "└ @ Main /Users/vhafych/MPP-Server/gitrepos/COVID_Tweets_Analysis/src/nn.jl:81\n",
      "┌ Info: Epoch 4\n",
      "└ @ Main /Users/vhafych/.julia/packages/Flux/q3zeA/src/optimise/train.jl:136\n",
      "┌ Info: 0.6213915\n",
      "│   loss_test = 0.6212967\n",
      "└ @ Main /Users/vhafych/MPP-Server/gitrepos/COVID_Tweets_Analysis/src/nn.jl:81\n",
      "┌ Info: Epoch 5\n",
      "└ @ Main /Users/vhafych/.julia/packages/Flux/q3zeA/src/optimise/train.jl:136\n",
      "┌ Info: 0.61938715\n",
      "│   loss_test = 0.62062573\n",
      "└ @ Main /Users/vhafych/MPP-Server/gitrepos/COVID_Tweets_Analysis/src/nn.jl:81\n"
     ]
    },
    {
     "name": "stdout",
     "output_type": "stream",
     "text": [
      " 39.070036 seconds (456.12 M allocations: 18.021 GiB, 9.07% gc time)\n",
      "i = 81\n"
     ]
    },
    {
     "name": "stderr",
     "output_type": "stream",
     "text": [
      "┌ Info: Epoch 1\n",
      "└ @ Main /Users/vhafych/.julia/packages/Flux/q3zeA/src/optimise/train.jl:136\n",
      "┌ Info: 0.70087934\n",
      "│   loss_test = 0.6999922\n",
      "└ @ Main /Users/vhafych/MPP-Server/gitrepos/COVID_Tweets_Analysis/src/nn.jl:81\n",
      "┌ Info: Epoch 2\n",
      "└ @ Main /Users/vhafych/.julia/packages/Flux/q3zeA/src/optimise/train.jl:136\n",
      "┌ Info: 0.623996\n",
      "│   loss_test = 0.62543654\n",
      "└ @ Main /Users/vhafych/MPP-Server/gitrepos/COVID_Tweets_Analysis/src/nn.jl:81\n",
      "┌ Info: Epoch 3\n",
      "└ @ Main /Users/vhafych/.julia/packages/Flux/q3zeA/src/optimise/train.jl:136\n",
      "┌ Info: 0.6220216\n",
      "│   loss_test = 0.6237113\n",
      "└ @ Main /Users/vhafych/MPP-Server/gitrepos/COVID_Tweets_Analysis/src/nn.jl:81\n",
      "┌ Info: Epoch 4\n",
      "└ @ Main /Users/vhafych/.julia/packages/Flux/q3zeA/src/optimise/train.jl:136\n",
      "┌ Info: 0.6209137\n",
      "│   loss_test = 0.62342376\n",
      "└ @ Main /Users/vhafych/MPP-Server/gitrepos/COVID_Tweets_Analysis/src/nn.jl:81\n",
      "┌ Info: Epoch 5\n",
      "└ @ Main /Users/vhafych/.julia/packages/Flux/q3zeA/src/optimise/train.jl:136\n",
      "┌ Info: 0.6189424\n",
      "│   loss_test = 0.6222085\n",
      "└ @ Main /Users/vhafych/MPP-Server/gitrepos/COVID_Tweets_Analysis/src/nn.jl:81\n"
     ]
    },
    {
     "name": "stdout",
     "output_type": "stream",
     "text": [
      " 39.399511 seconds (456.12 M allocations: 18.021 GiB, 9.02% gc time)\n",
      "i = 82\n"
     ]
    },
    {
     "name": "stderr",
     "output_type": "stream",
     "text": [
      "┌ Info: Epoch 1\n",
      "└ @ Main /Users/vhafych/.julia/packages/Flux/q3zeA/src/optimise/train.jl:136\n",
      "┌ Info: 0.6924079\n",
      "│   loss_test = 0.69244415\n",
      "└ @ Main /Users/vhafych/MPP-Server/gitrepos/COVID_Tweets_Analysis/src/nn.jl:81\n",
      "┌ Info: Epoch 2\n",
      "└ @ Main /Users/vhafych/.julia/packages/Flux/q3zeA/src/optimise/train.jl:136\n",
      "┌ Info: 0.62462866\n",
      "│   loss_test = 0.62631565\n",
      "└ @ Main /Users/vhafych/MPP-Server/gitrepos/COVID_Tweets_Analysis/src/nn.jl:81\n",
      "┌ Info: Epoch 3\n",
      "└ @ Main /Users/vhafych/.julia/packages/Flux/q3zeA/src/optimise/train.jl:136\n",
      "┌ Info: 0.6220579\n",
      "│   loss_test = 0.624134\n",
      "└ @ Main /Users/vhafych/MPP-Server/gitrepos/COVID_Tweets_Analysis/src/nn.jl:81\n",
      "┌ Info: Epoch 4\n",
      "└ @ Main /Users/vhafych/.julia/packages/Flux/q3zeA/src/optimise/train.jl:136\n",
      "┌ Info: 0.6214239\n",
      "│   loss_test = 0.62335527\n",
      "└ @ Main /Users/vhafych/MPP-Server/gitrepos/COVID_Tweets_Analysis/src/nn.jl:81\n",
      "┌ Info: Epoch 5\n",
      "└ @ Main /Users/vhafych/.julia/packages/Flux/q3zeA/src/optimise/train.jl:136\n",
      "┌ Info: 0.61890197\n",
      "│   loss_test = 0.62200105\n",
      "└ @ Main /Users/vhafych/MPP-Server/gitrepos/COVID_Tweets_Analysis/src/nn.jl:81\n"
     ]
    },
    {
     "name": "stdout",
     "output_type": "stream",
     "text": [
      " 39.327349 seconds (456.12 M allocations: 18.021 GiB, 9.04% gc time)\n",
      "i = 83\n"
     ]
    },
    {
     "name": "stderr",
     "output_type": "stream",
     "text": [
      "┌ Info: Epoch 1\n",
      "└ @ Main /Users/vhafych/.julia/packages/Flux/q3zeA/src/optimise/train.jl:136\n",
      "┌ Info: 0.6919497\n",
      "│   loss_test = 0.69207025\n",
      "└ @ Main /Users/vhafych/MPP-Server/gitrepos/COVID_Tweets_Analysis/src/nn.jl:81\n",
      "┌ Info: Epoch 2\n",
      "└ @ Main /Users/vhafych/.julia/packages/Flux/q3zeA/src/optimise/train.jl:136\n",
      "┌ Info: 0.62405854\n",
      "│   loss_test = 0.6257835\n",
      "└ @ Main /Users/vhafych/MPP-Server/gitrepos/COVID_Tweets_Analysis/src/nn.jl:81\n",
      "┌ Info: Epoch 3\n",
      "└ @ Main /Users/vhafych/.julia/packages/Flux/q3zeA/src/optimise/train.jl:136\n",
      "┌ Info: 0.6220367\n",
      "│   loss_test = 0.62369055\n",
      "└ @ Main /Users/vhafych/MPP-Server/gitrepos/COVID_Tweets_Analysis/src/nn.jl:81\n",
      "┌ Info: Epoch 4\n",
      "└ @ Main /Users/vhafych/.julia/packages/Flux/q3zeA/src/optimise/train.jl:136\n",
      "┌ Info: 0.62040734\n",
      "│   loss_test = 0.62283117\n",
      "└ @ Main /Users/vhafych/MPP-Server/gitrepos/COVID_Tweets_Analysis/src/nn.jl:81\n",
      "┌ Info: Epoch 5\n",
      "└ @ Main /Users/vhafych/.julia/packages/Flux/q3zeA/src/optimise/train.jl:136\n",
      "┌ Info: 0.6190045\n",
      "│   loss_test = 0.6219164\n",
      "└ @ Main /Users/vhafych/MPP-Server/gitrepos/COVID_Tweets_Analysis/src/nn.jl:81\n"
     ]
    },
    {
     "name": "stdout",
     "output_type": "stream",
     "text": [
      " 39.119879 seconds (456.12 M allocations: 18.021 GiB, 9.05% gc time)\n",
      "i = 84\n"
     ]
    },
    {
     "name": "stderr",
     "output_type": "stream",
     "text": [
      "┌ Info: Epoch 1\n",
      "└ @ Main /Users/vhafych/.julia/packages/Flux/q3zeA/src/optimise/train.jl:136\n",
      "┌ Info: 0.7011167\n",
      "│   loss_test = 0.70025176\n",
      "└ @ Main /Users/vhafych/MPP-Server/gitrepos/COVID_Tweets_Analysis/src/nn.jl:81\n",
      "┌ Info: Epoch 2\n",
      "└ @ Main /Users/vhafych/.julia/packages/Flux/q3zeA/src/optimise/train.jl:136\n",
      "┌ Info: 0.62614024\n",
      "│   loss_test = 0.6289125\n",
      "└ @ Main /Users/vhafych/MPP-Server/gitrepos/COVID_Tweets_Analysis/src/nn.jl:81\n",
      "┌ Info: Epoch 3\n",
      "└ @ Main /Users/vhafych/.julia/packages/Flux/q3zeA/src/optimise/train.jl:136\n",
      "┌ Info: 0.6213847\n",
      "│   loss_test = 0.6248834\n",
      "└ @ Main /Users/vhafych/MPP-Server/gitrepos/COVID_Tweets_Analysis/src/nn.jl:81\n",
      "┌ Info: Epoch 4\n",
      "└ @ Main /Users/vhafych/.julia/packages/Flux/q3zeA/src/optimise/train.jl:136\n",
      "┌ Info: 0.61998683\n",
      "│   loss_test = 0.6242029\n",
      "└ @ Main /Users/vhafych/MPP-Server/gitrepos/COVID_Tweets_Analysis/src/nn.jl:81\n",
      "┌ Info: Epoch 5\n",
      "└ @ Main /Users/vhafych/.julia/packages/Flux/q3zeA/src/optimise/train.jl:136\n",
      "┌ Info: 0.6185176\n",
      "│   loss_test = 0.6234415\n",
      "└ @ Main /Users/vhafych/MPP-Server/gitrepos/COVID_Tweets_Analysis/src/nn.jl:81\n"
     ]
    },
    {
     "name": "stdout",
     "output_type": "stream",
     "text": [
      " 39.187814 seconds (456.12 M allocations: 18.021 GiB, 9.06% gc time)\n",
      "i = 85\n"
     ]
    },
    {
     "name": "stderr",
     "output_type": "stream",
     "text": [
      "┌ Info: Epoch 1\n",
      "└ @ Main /Users/vhafych/.julia/packages/Flux/q3zeA/src/optimise/train.jl:136\n",
      "┌ Info: 0.69828117\n",
      "│   loss_test = 0.6981304\n",
      "└ @ Main /Users/vhafych/MPP-Server/gitrepos/COVID_Tweets_Analysis/src/nn.jl:81\n",
      "┌ Info: Epoch 2\n",
      "└ @ Main /Users/vhafych/.julia/packages/Flux/q3zeA/src/optimise/train.jl:136\n",
      "┌ Info: 0.6266453\n",
      "│   loss_test = 0.62860185\n",
      "└ @ Main /Users/vhafych/MPP-Server/gitrepos/COVID_Tweets_Analysis/src/nn.jl:81\n",
      "┌ Info: Epoch 3\n",
      "└ @ Main /Users/vhafych/.julia/packages/Flux/q3zeA/src/optimise/train.jl:136\n",
      "┌ Info: 0.6223511\n",
      "│   loss_test = 0.6245491\n",
      "└ @ Main /Users/vhafych/MPP-Server/gitrepos/COVID_Tweets_Analysis/src/nn.jl:81\n",
      "┌ Info: Epoch 4\n",
      "└ @ Main /Users/vhafych/.julia/packages/Flux/q3zeA/src/optimise/train.jl:136\n",
      "┌ Info: 0.62069297\n",
      "│   loss_test = 0.6235328\n",
      "└ @ Main /Users/vhafych/MPP-Server/gitrepos/COVID_Tweets_Analysis/src/nn.jl:81\n",
      "┌ Info: Epoch 5\n",
      "└ @ Main /Users/vhafych/.julia/packages/Flux/q3zeA/src/optimise/train.jl:136\n",
      "┌ Info: 0.61937004\n",
      "│   loss_test = 0.62268555\n",
      "└ @ Main /Users/vhafych/MPP-Server/gitrepos/COVID_Tweets_Analysis/src/nn.jl:81\n"
     ]
    },
    {
     "name": "stdout",
     "output_type": "stream",
     "text": [
      " 38.951135 seconds (456.12 M allocations: 18.021 GiB, 9.08% gc time)\n",
      "i = 86\n"
     ]
    },
    {
     "name": "stderr",
     "output_type": "stream",
     "text": [
      "┌ Info: Epoch 1\n",
      "└ @ Main /Users/vhafych/.julia/packages/Flux/q3zeA/src/optimise/train.jl:136\n",
      "┌ Info: 0.7069492\n",
      "│   loss_test = 0.7065579\n",
      "└ @ Main /Users/vhafych/MPP-Server/gitrepos/COVID_Tweets_Analysis/src/nn.jl:81\n",
      "┌ Info: Epoch 2\n",
      "└ @ Main /Users/vhafych/.julia/packages/Flux/q3zeA/src/optimise/train.jl:136\n",
      "┌ Info: 0.6244599\n",
      "│   loss_test = 0.62641436\n",
      "└ @ Main /Users/vhafych/MPP-Server/gitrepos/COVID_Tweets_Analysis/src/nn.jl:81\n",
      "┌ Info: Epoch 3\n",
      "└ @ Main /Users/vhafych/.julia/packages/Flux/q3zeA/src/optimise/train.jl:136\n",
      "┌ Info: 0.6221334\n",
      "│   loss_test = 0.6243296\n",
      "└ @ Main /Users/vhafych/MPP-Server/gitrepos/COVID_Tweets_Analysis/src/nn.jl:81\n",
      "┌ Info: Epoch 4\n",
      "└ @ Main /Users/vhafych/.julia/packages/Flux/q3zeA/src/optimise/train.jl:136\n",
      "┌ Info: 0.62150526\n",
      "│   loss_test = 0.62392503\n",
      "└ @ Main /Users/vhafych/MPP-Server/gitrepos/COVID_Tweets_Analysis/src/nn.jl:81\n",
      "┌ Info: Epoch 5\n",
      "└ @ Main /Users/vhafych/.julia/packages/Flux/q3zeA/src/optimise/train.jl:136\n",
      "┌ Info: 0.6191314\n",
      "│   loss_test = 0.62263703\n",
      "└ @ Main /Users/vhafych/MPP-Server/gitrepos/COVID_Tweets_Analysis/src/nn.jl:81\n"
     ]
    },
    {
     "name": "stdout",
     "output_type": "stream",
     "text": [
      " 39.236765 seconds (456.12 M allocations: 18.021 GiB, 8.96% gc time)\n",
      "i = 87\n"
     ]
    },
    {
     "name": "stderr",
     "output_type": "stream",
     "text": [
      "┌ Info: Epoch 1\n",
      "└ @ Main /Users/vhafych/.julia/packages/Flux/q3zeA/src/optimise/train.jl:136\n",
      "┌ Info: 0.6983419\n",
      "│   loss_test = 0.6983536\n",
      "└ @ Main /Users/vhafych/MPP-Server/gitrepos/COVID_Tweets_Analysis/src/nn.jl:81\n",
      "┌ Info: Epoch 2\n",
      "└ @ Main /Users/vhafych/.julia/packages/Flux/q3zeA/src/optimise/train.jl:136\n",
      "┌ Info: 0.6242778\n",
      "│   loss_test = 0.6251557\n",
      "└ @ Main /Users/vhafych/MPP-Server/gitrepos/COVID_Tweets_Analysis/src/nn.jl:81\n",
      "┌ Info: Epoch 3\n",
      "└ @ Main /Users/vhafych/.julia/packages/Flux/q3zeA/src/optimise/train.jl:136\n",
      "┌ Info: 0.6218286\n",
      "│   loss_test = 0.62378854\n",
      "└ @ Main /Users/vhafych/MPP-Server/gitrepos/COVID_Tweets_Analysis/src/nn.jl:81\n",
      "┌ Info: Epoch 4\n",
      "└ @ Main /Users/vhafych/.julia/packages/Flux/q3zeA/src/optimise/train.jl:136\n",
      "┌ Info: 0.6203765\n",
      "│   loss_test = 0.62308806\n",
      "└ @ Main /Users/vhafych/MPP-Server/gitrepos/COVID_Tweets_Analysis/src/nn.jl:81\n",
      "┌ Info: Epoch 5\n",
      "└ @ Main /Users/vhafych/.julia/packages/Flux/q3zeA/src/optimise/train.jl:136\n",
      "┌ Info: 0.6187197\n",
      "│   loss_test = 0.6227177\n",
      "└ @ Main /Users/vhafych/MPP-Server/gitrepos/COVID_Tweets_Analysis/src/nn.jl:81\n"
     ]
    },
    {
     "name": "stdout",
     "output_type": "stream",
     "text": [
      " 38.908260 seconds (456.12 M allocations: 18.021 GiB, 9.13% gc time)\n",
      "i = 88\n"
     ]
    },
    {
     "name": "stderr",
     "output_type": "stream",
     "text": [
      "┌ Info: Epoch 1\n",
      "└ @ Main /Users/vhafych/.julia/packages/Flux/q3zeA/src/optimise/train.jl:136\n",
      "┌ Info: 0.6955246\n",
      "│   loss_test = 0.6953817\n",
      "└ @ Main /Users/vhafych/MPP-Server/gitrepos/COVID_Tweets_Analysis/src/nn.jl:81\n",
      "┌ Info: Epoch 2\n",
      "└ @ Main /Users/vhafych/.julia/packages/Flux/q3zeA/src/optimise/train.jl:136\n",
      "┌ Info: 0.62490845\n",
      "│   loss_test = 0.62441164\n",
      "└ @ Main /Users/vhafych/MPP-Server/gitrepos/COVID_Tweets_Analysis/src/nn.jl:81\n",
      "┌ Info: Epoch 3\n",
      "└ @ Main /Users/vhafych/.julia/packages/Flux/q3zeA/src/optimise/train.jl:136\n",
      "┌ Info: 0.62279457\n",
      "│   loss_test = 0.6233946\n",
      "└ @ Main /Users/vhafych/MPP-Server/gitrepos/COVID_Tweets_Analysis/src/nn.jl:81\n",
      "┌ Info: Epoch 4\n",
      "└ @ Main /Users/vhafych/.julia/packages/Flux/q3zeA/src/optimise/train.jl:136\n",
      "┌ Info: 0.6208581\n",
      "│   loss_test = 0.62222695\n",
      "└ @ Main /Users/vhafych/MPP-Server/gitrepos/COVID_Tweets_Analysis/src/nn.jl:81\n",
      "┌ Info: Epoch 5\n",
      "└ @ Main /Users/vhafych/.julia/packages/Flux/q3zeA/src/optimise/train.jl:136\n",
      "┌ Info: 0.6192646\n",
      "│   loss_test = 0.62084454\n",
      "└ @ Main /Users/vhafych/MPP-Server/gitrepos/COVID_Tweets_Analysis/src/nn.jl:81\n"
     ]
    },
    {
     "name": "stdout",
     "output_type": "stream",
     "text": [
      " 38.847260 seconds (456.12 M allocations: 18.021 GiB, 9.11% gc time)\n",
      "i = 89\n"
     ]
    },
    {
     "name": "stderr",
     "output_type": "stream",
     "text": [
      "┌ Info: Epoch 1\n",
      "└ @ Main /Users/vhafych/.julia/packages/Flux/q3zeA/src/optimise/train.jl:136\n",
      "┌ Info: 0.6934254\n",
      "│   loss_test = 0.69268394\n",
      "└ @ Main /Users/vhafych/MPP-Server/gitrepos/COVID_Tweets_Analysis/src/nn.jl:81\n",
      "┌ Info: Epoch 2\n",
      "└ @ Main /Users/vhafych/.julia/packages/Flux/q3zeA/src/optimise/train.jl:136\n",
      "┌ Info: 0.6244842\n",
      "│   loss_test = 0.6259446\n",
      "└ @ Main /Users/vhafych/MPP-Server/gitrepos/COVID_Tweets_Analysis/src/nn.jl:81\n",
      "┌ Info: Epoch 3\n",
      "└ @ Main /Users/vhafych/.julia/packages/Flux/q3zeA/src/optimise/train.jl:136\n",
      "┌ Info: 0.6219341\n",
      "│   loss_test = 0.6242836\n",
      "└ @ Main /Users/vhafych/MPP-Server/gitrepos/COVID_Tweets_Analysis/src/nn.jl:81\n",
      "┌ Info: Epoch 4\n",
      "└ @ Main /Users/vhafych/.julia/packages/Flux/q3zeA/src/optimise/train.jl:136\n",
      "┌ Info: 0.62077135\n",
      "│   loss_test = 0.62412876\n",
      "└ @ Main /Users/vhafych/MPP-Server/gitrepos/COVID_Tweets_Analysis/src/nn.jl:81\n",
      "┌ Info: Epoch 5\n",
      "└ @ Main /Users/vhafych/.julia/packages/Flux/q3zeA/src/optimise/train.jl:136\n",
      "┌ Info: 0.6192856\n",
      "│   loss_test = 0.6231391\n",
      "└ @ Main /Users/vhafych/MPP-Server/gitrepos/COVID_Tweets_Analysis/src/nn.jl:81\n"
     ]
    },
    {
     "name": "stdout",
     "output_type": "stream",
     "text": [
      " 38.854112 seconds (456.12 M allocations: 18.021 GiB, 9.10% gc time)\n",
      "i = 90\n"
     ]
    },
    {
     "name": "stderr",
     "output_type": "stream",
     "text": [
      "┌ Info: Epoch 1\n",
      "└ @ Main /Users/vhafych/.julia/packages/Flux/q3zeA/src/optimise/train.jl:136\n",
      "┌ Info: 0.7182895\n",
      "│   loss_test = 0.7184195\n",
      "└ @ Main /Users/vhafych/MPP-Server/gitrepos/COVID_Tweets_Analysis/src/nn.jl:81\n",
      "┌ Info: Epoch 2\n",
      "└ @ Main /Users/vhafych/.julia/packages/Flux/q3zeA/src/optimise/train.jl:136\n",
      "┌ Info: 0.6252686\n",
      "│   loss_test = 0.6249408\n",
      "└ @ Main /Users/vhafych/MPP-Server/gitrepos/COVID_Tweets_Analysis/src/nn.jl:81\n",
      "┌ Info: Epoch 3\n",
      "└ @ Main /Users/vhafych/.julia/packages/Flux/q3zeA/src/optimise/train.jl:136\n",
      "┌ Info: 0.6228376\n",
      "│   loss_test = 0.6232671\n",
      "└ @ Main /Users/vhafych/MPP-Server/gitrepos/COVID_Tweets_Analysis/src/nn.jl:81\n",
      "┌ Info: Epoch 4\n",
      "└ @ Main /Users/vhafych/.julia/packages/Flux/q3zeA/src/optimise/train.jl:136\n",
      "┌ Info: 0.6210533\n",
      "│   loss_test = 0.6218115\n",
      "└ @ Main /Users/vhafych/MPP-Server/gitrepos/COVID_Tweets_Analysis/src/nn.jl:81\n",
      "┌ Info: Epoch 5\n",
      "└ @ Main /Users/vhafych/.julia/packages/Flux/q3zeA/src/optimise/train.jl:136\n",
      "┌ Info: 0.61898106\n",
      "│   loss_test = 0.6205728\n",
      "└ @ Main /Users/vhafych/MPP-Server/gitrepos/COVID_Tweets_Analysis/src/nn.jl:81\n"
     ]
    },
    {
     "name": "stdout",
     "output_type": "stream",
     "text": [
      " 38.838417 seconds (456.12 M allocations: 18.021 GiB, 9.10% gc time)\n",
      "i = 91\n"
     ]
    },
    {
     "name": "stderr",
     "output_type": "stream",
     "text": [
      "┌ Info: Epoch 1\n",
      "└ @ Main /Users/vhafych/.julia/packages/Flux/q3zeA/src/optimise/train.jl:136\n",
      "┌ Info: 0.6921658\n",
      "│   loss_test = 0.6920661\n",
      "└ @ Main /Users/vhafych/MPP-Server/gitrepos/COVID_Tweets_Analysis/src/nn.jl:81\n",
      "┌ Info: Epoch 2\n",
      "└ @ Main /Users/vhafych/.julia/packages/Flux/q3zeA/src/optimise/train.jl:136\n",
      "┌ Info: 0.62460446\n",
      "│   loss_test = 0.626312\n",
      "└ @ Main /Users/vhafych/MPP-Server/gitrepos/COVID_Tweets_Analysis/src/nn.jl:81\n",
      "┌ Info: Epoch 3\n",
      "└ @ Main /Users/vhafych/.julia/packages/Flux/q3zeA/src/optimise/train.jl:136\n",
      "┌ Info: 0.62277645\n",
      "│   loss_test = 0.62497276\n",
      "└ @ Main /Users/vhafych/MPP-Server/gitrepos/COVID_Tweets_Analysis/src/nn.jl:81\n",
      "┌ Info: Epoch 4\n",
      "└ @ Main /Users/vhafych/.julia/packages/Flux/q3zeA/src/optimise/train.jl:136\n",
      "┌ Info: 0.6211259\n",
      "│   loss_test = 0.6243733\n",
      "└ @ Main /Users/vhafych/MPP-Server/gitrepos/COVID_Tweets_Analysis/src/nn.jl:81\n",
      "┌ Info: Epoch 5\n",
      "└ @ Main /Users/vhafych/.julia/packages/Flux/q3zeA/src/optimise/train.jl:136\n",
      "┌ Info: 0.61981297\n",
      "│   loss_test = 0.6229016\n",
      "└ @ Main /Users/vhafych/MPP-Server/gitrepos/COVID_Tweets_Analysis/src/nn.jl:81\n"
     ]
    },
    {
     "name": "stdout",
     "output_type": "stream",
     "text": [
      " 38.956035 seconds (456.12 M allocations: 18.021 GiB, 9.09% gc time)\n",
      "i = 92\n"
     ]
    },
    {
     "name": "stderr",
     "output_type": "stream",
     "text": [
      "┌ Info: Epoch 1\n",
      "└ @ Main /Users/vhafych/.julia/packages/Flux/q3zeA/src/optimise/train.jl:136\n",
      "┌ Info: 0.69206434\n",
      "│   loss_test = 0.69192284\n",
      "└ @ Main /Users/vhafych/MPP-Server/gitrepos/COVID_Tweets_Analysis/src/nn.jl:81\n",
      "┌ Info: Epoch 2\n",
      "└ @ Main /Users/vhafych/.julia/packages/Flux/q3zeA/src/optimise/train.jl:136\n",
      "┌ Info: 0.6245848\n",
      "│   loss_test = 0.62390715\n",
      "└ @ Main /Users/vhafych/MPP-Server/gitrepos/COVID_Tweets_Analysis/src/nn.jl:81\n",
      "┌ Info: Epoch 3\n",
      "└ @ Main /Users/vhafych/.julia/packages/Flux/q3zeA/src/optimise/train.jl:136\n",
      "┌ Info: 0.6228165\n",
      "│   loss_test = 0.62251025\n",
      "└ @ Main /Users/vhafych/MPP-Server/gitrepos/COVID_Tweets_Analysis/src/nn.jl:81\n",
      "┌ Info: Epoch 4\n",
      "└ @ Main /Users/vhafych/.julia/packages/Flux/q3zeA/src/optimise/train.jl:136\n",
      "┌ Info: 0.620859\n",
      "│   loss_test = 0.6211244\n",
      "└ @ Main /Users/vhafych/MPP-Server/gitrepos/COVID_Tweets_Analysis/src/nn.jl:81\n",
      "┌ Info: Epoch 5\n",
      "└ @ Main /Users/vhafych/.julia/packages/Flux/q3zeA/src/optimise/train.jl:136\n",
      "┌ Info: 0.61920744\n",
      "│   loss_test = 0.6205969\n",
      "└ @ Main /Users/vhafych/MPP-Server/gitrepos/COVID_Tweets_Analysis/src/nn.jl:81\n"
     ]
    },
    {
     "name": "stdout",
     "output_type": "stream",
     "text": [
      " 38.873139 seconds (456.12 M allocations: 18.021 GiB, 9.08% gc time)\n",
      "i = 93\n"
     ]
    },
    {
     "name": "stderr",
     "output_type": "stream",
     "text": [
      "┌ Info: Epoch 1\n",
      "└ @ Main /Users/vhafych/.julia/packages/Flux/q3zeA/src/optimise/train.jl:136\n",
      "┌ Info: 0.69288\n",
      "│   loss_test = 0.6923662\n",
      "└ @ Main /Users/vhafych/MPP-Server/gitrepos/COVID_Tweets_Analysis/src/nn.jl:81\n",
      "┌ Info: Epoch 2\n",
      "└ @ Main /Users/vhafych/.julia/packages/Flux/q3zeA/src/optimise/train.jl:136\n",
      "┌ Info: 0.6246883\n",
      "│   loss_test = 0.6247665\n",
      "└ @ Main /Users/vhafych/MPP-Server/gitrepos/COVID_Tweets_Analysis/src/nn.jl:81\n",
      "┌ Info: Epoch 3\n",
      "└ @ Main /Users/vhafych/.julia/packages/Flux/q3zeA/src/optimise/train.jl:136\n",
      "┌ Info: 0.6226426\n",
      "│   loss_test = 0.6236996\n",
      "└ @ Main /Users/vhafych/MPP-Server/gitrepos/COVID_Tweets_Analysis/src/nn.jl:81\n",
      "┌ Info: Epoch 4\n",
      "└ @ Main /Users/vhafych/.julia/packages/Flux/q3zeA/src/optimise/train.jl:136\n",
      "┌ Info: 0.62109584\n",
      "│   loss_test = 0.62283957\n",
      "└ @ Main /Users/vhafych/MPP-Server/gitrepos/COVID_Tweets_Analysis/src/nn.jl:81\n",
      "┌ Info: Epoch 5\n",
      "└ @ Main /Users/vhafych/.julia/packages/Flux/q3zeA/src/optimise/train.jl:136\n",
      "┌ Info: 0.6191806\n",
      "│   loss_test = 0.6217393\n",
      "└ @ Main /Users/vhafych/MPP-Server/gitrepos/COVID_Tweets_Analysis/src/nn.jl:81\n"
     ]
    },
    {
     "name": "stdout",
     "output_type": "stream",
     "text": [
      " 39.082715 seconds (456.12 M allocations: 18.021 GiB, 9.03% gc time)\n",
      "i = 94\n"
     ]
    },
    {
     "name": "stderr",
     "output_type": "stream",
     "text": [
      "┌ Info: Epoch 1\n",
      "└ @ Main /Users/vhafych/.julia/packages/Flux/q3zeA/src/optimise/train.jl:136\n",
      "┌ Info: 0.6987431\n",
      "│   loss_test = 0.69885236\n",
      "└ @ Main /Users/vhafych/MPP-Server/gitrepos/COVID_Tweets_Analysis/src/nn.jl:81\n",
      "┌ Info: Epoch 2\n",
      "└ @ Main /Users/vhafych/.julia/packages/Flux/q3zeA/src/optimise/train.jl:136\n",
      "┌ Info: 0.62535197\n",
      "│   loss_test = 0.62527186\n",
      "└ @ Main /Users/vhafych/MPP-Server/gitrepos/COVID_Tweets_Analysis/src/nn.jl:81\n",
      "┌ Info: Epoch 3\n",
      "└ @ Main /Users/vhafych/.julia/packages/Flux/q3zeA/src/optimise/train.jl:136\n",
      "┌ Info: 0.6229911\n",
      "│   loss_test = 0.62360716\n",
      "└ @ Main /Users/vhafych/MPP-Server/gitrepos/COVID_Tweets_Analysis/src/nn.jl:81\n",
      "┌ Info: Epoch 4\n",
      "└ @ Main /Users/vhafych/.julia/packages/Flux/q3zeA/src/optimise/train.jl:136\n",
      "┌ Info: 0.6211157\n",
      "│   loss_test = 0.62243235\n",
      "└ @ Main /Users/vhafych/MPP-Server/gitrepos/COVID_Tweets_Analysis/src/nn.jl:81\n",
      "┌ Info: Epoch 5\n",
      "└ @ Main /Users/vhafych/.julia/packages/Flux/q3zeA/src/optimise/train.jl:136\n",
      "┌ Info: 0.6193883\n",
      "│   loss_test = 0.62080127\n",
      "└ @ Main /Users/vhafych/MPP-Server/gitrepos/COVID_Tweets_Analysis/src/nn.jl:81\n"
     ]
    },
    {
     "name": "stdout",
     "output_type": "stream",
     "text": [
      " 39.120102 seconds (456.12 M allocations: 18.021 GiB, 9.03% gc time)\n",
      "i = 95\n"
     ]
    },
    {
     "name": "stderr",
     "output_type": "stream",
     "text": [
      "┌ Info: Epoch 1\n",
      "└ @ Main /Users/vhafych/.julia/packages/Flux/q3zeA/src/optimise/train.jl:136\n",
      "┌ Info: 0.6955807\n",
      "│   loss_test = 0.6959247\n",
      "└ @ Main /Users/vhafych/MPP-Server/gitrepos/COVID_Tweets_Analysis/src/nn.jl:81\n",
      "┌ Info: Epoch 2\n",
      "└ @ Main /Users/vhafych/.julia/packages/Flux/q3zeA/src/optimise/train.jl:136\n",
      "┌ Info: 0.6254593\n",
      "│   loss_test = 0.6275484\n",
      "└ @ Main /Users/vhafych/MPP-Server/gitrepos/COVID_Tweets_Analysis/src/nn.jl:81\n",
      "┌ Info: Epoch 3\n",
      "└ @ Main /Users/vhafych/.julia/packages/Flux/q3zeA/src/optimise/train.jl:136\n",
      "┌ Info: 0.62243235\n",
      "│   loss_test = 0.62461257\n",
      "└ @ Main /Users/vhafych/MPP-Server/gitrepos/COVID_Tweets_Analysis/src/nn.jl:81\n",
      "┌ Info: Epoch 4\n",
      "└ @ Main /Users/vhafych/.julia/packages/Flux/q3zeA/src/optimise/train.jl:136\n",
      "┌ Info: 0.62145424\n",
      "│   loss_test = 0.6243115\n",
      "└ @ Main /Users/vhafych/MPP-Server/gitrepos/COVID_Tweets_Analysis/src/nn.jl:81\n",
      "┌ Info: Epoch 5\n",
      "└ @ Main /Users/vhafych/.julia/packages/Flux/q3zeA/src/optimise/train.jl:136\n",
      "┌ Info: 0.61910444\n",
      "│   loss_test = 0.6225251\n",
      "└ @ Main /Users/vhafych/MPP-Server/gitrepos/COVID_Tweets_Analysis/src/nn.jl:81\n"
     ]
    },
    {
     "name": "stdout",
     "output_type": "stream",
     "text": [
      " 38.967104 seconds (456.12 M allocations: 18.021 GiB, 9.07% gc time)\n",
      "i = 96\n"
     ]
    },
    {
     "name": "stderr",
     "output_type": "stream",
     "text": [
      "┌ Info: Epoch 1\n",
      "└ @ Main /Users/vhafych/.julia/packages/Flux/q3zeA/src/optimise/train.jl:136\n",
      "┌ Info: 0.69366294\n",
      "│   loss_test = 0.6935385\n",
      "└ @ Main /Users/vhafych/MPP-Server/gitrepos/COVID_Tweets_Analysis/src/nn.jl:81\n",
      "┌ Info: Epoch 2\n",
      "└ @ Main /Users/vhafych/.julia/packages/Flux/q3zeA/src/optimise/train.jl:136\n",
      "┌ Info: 0.6245858\n",
      "│   loss_test = 0.6274392\n",
      "└ @ Main /Users/vhafych/MPP-Server/gitrepos/COVID_Tweets_Analysis/src/nn.jl:81\n",
      "┌ Info: Epoch 3\n",
      "└ @ Main /Users/vhafych/.julia/packages/Flux/q3zeA/src/optimise/train.jl:136\n",
      "┌ Info: 0.62187403\n",
      "│   loss_test = 0.62566334\n",
      "└ @ Main /Users/vhafych/MPP-Server/gitrepos/COVID_Tweets_Analysis/src/nn.jl:81\n",
      "┌ Info: Epoch 4\n",
      "└ @ Main /Users/vhafych/.julia/packages/Flux/q3zeA/src/optimise/train.jl:136\n",
      "┌ Info: 0.6211982\n",
      "│   loss_test = 0.62550807\n",
      "└ @ Main /Users/vhafych/MPP-Server/gitrepos/COVID_Tweets_Analysis/src/nn.jl:81\n",
      "┌ Info: Epoch 5\n",
      "└ @ Main /Users/vhafych/.julia/packages/Flux/q3zeA/src/optimise/train.jl:136\n",
      "┌ Info: 0.6181136\n",
      "│   loss_test = 0.62335455\n",
      "└ @ Main /Users/vhafych/MPP-Server/gitrepos/COVID_Tweets_Analysis/src/nn.jl:81\n"
     ]
    },
    {
     "name": "stdout",
     "output_type": "stream",
     "text": [
      " 38.900328 seconds (456.12 M allocations: 18.021 GiB, 9.07% gc time)\n",
      "i = 97\n"
     ]
    },
    {
     "name": "stderr",
     "output_type": "stream",
     "text": [
      "┌ Info: Epoch 1\n",
      "└ @ Main /Users/vhafych/.julia/packages/Flux/q3zeA/src/optimise/train.jl:136\n",
      "┌ Info: 0.69850266\n",
      "│   loss_test = 0.6997615\n",
      "└ @ Main /Users/vhafych/MPP-Server/gitrepos/COVID_Tweets_Analysis/src/nn.jl:81\n",
      "┌ Info: Epoch 2\n",
      "└ @ Main /Users/vhafych/.julia/packages/Flux/q3zeA/src/optimise/train.jl:136\n",
      "┌ Info: 0.6241573\n",
      "│   loss_test = 0.62752324\n",
      "└ @ Main /Users/vhafych/MPP-Server/gitrepos/COVID_Tweets_Analysis/src/nn.jl:81\n",
      "┌ Info: Epoch 3\n",
      "└ @ Main /Users/vhafych/.julia/packages/Flux/q3zeA/src/optimise/train.jl:136\n",
      "┌ Info: 0.62163514\n",
      "│   loss_test = 0.6259038\n",
      "└ @ Main /Users/vhafych/MPP-Server/gitrepos/COVID_Tweets_Analysis/src/nn.jl:81\n",
      "┌ Info: Epoch 4\n",
      "└ @ Main /Users/vhafych/.julia/packages/Flux/q3zeA/src/optimise/train.jl:136\n",
      "┌ Info: 0.61987245\n",
      "│   loss_test = 0.624555\n",
      "└ @ Main /Users/vhafych/MPP-Server/gitrepos/COVID_Tweets_Analysis/src/nn.jl:81\n",
      "┌ Info: Epoch 5\n",
      "└ @ Main /Users/vhafych/.julia/packages/Flux/q3zeA/src/optimise/train.jl:136\n",
      "┌ Info: 0.61842656\n",
      "│   loss_test = 0.62395674\n",
      "└ @ Main /Users/vhafych/MPP-Server/gitrepos/COVID_Tweets_Analysis/src/nn.jl:81\n"
     ]
    },
    {
     "name": "stdout",
     "output_type": "stream",
     "text": [
      " 38.761989 seconds (456.12 M allocations: 18.021 GiB, 9.09% gc time)\n",
      "i = 98\n"
     ]
    },
    {
     "name": "stderr",
     "output_type": "stream",
     "text": [
      "┌ Info: Epoch 1\n",
      "└ @ Main /Users/vhafych/.julia/packages/Flux/q3zeA/src/optimise/train.jl:136\n",
      "┌ Info: 0.69463646\n",
      "│   loss_test = 0.69465345\n",
      "└ @ Main /Users/vhafych/MPP-Server/gitrepos/COVID_Tweets_Analysis/src/nn.jl:81\n",
      "┌ Info: Epoch 2\n",
      "└ @ Main /Users/vhafych/.julia/packages/Flux/q3zeA/src/optimise/train.jl:136\n",
      "┌ Info: 0.6248454\n",
      "│   loss_test = 0.6267937\n",
      "└ @ Main /Users/vhafych/MPP-Server/gitrepos/COVID_Tweets_Analysis/src/nn.jl:81\n",
      "┌ Info: Epoch 3\n",
      "└ @ Main /Users/vhafych/.julia/packages/Flux/q3zeA/src/optimise/train.jl:136\n",
      "┌ Info: 0.62272286\n",
      "│   loss_test = 0.62541115\n",
      "└ @ Main /Users/vhafych/MPP-Server/gitrepos/COVID_Tweets_Analysis/src/nn.jl:81\n",
      "┌ Info: Epoch 4\n",
      "└ @ Main /Users/vhafych/.julia/packages/Flux/q3zeA/src/optimise/train.jl:136\n",
      "┌ Info: 0.62067896\n",
      "│   loss_test = 0.6230029\n",
      "└ @ Main /Users/vhafych/MPP-Server/gitrepos/COVID_Tweets_Analysis/src/nn.jl:81\n",
      "┌ Info: Epoch 5\n",
      "└ @ Main /Users/vhafych/.julia/packages/Flux/q3zeA/src/optimise/train.jl:136\n",
      "┌ Info: 0.61867857\n",
      "│   loss_test = 0.62177193\n",
      "└ @ Main /Users/vhafych/MPP-Server/gitrepos/COVID_Tweets_Analysis/src/nn.jl:81\n"
     ]
    },
    {
     "name": "stdout",
     "output_type": "stream",
     "text": [
      " 38.772124 seconds (456.12 M allocations: 18.021 GiB, 9.11% gc time)\n",
      "i = 99\n"
     ]
    },
    {
     "name": "stderr",
     "output_type": "stream",
     "text": [
      "┌ Info: Epoch 1\n",
      "└ @ Main /Users/vhafych/.julia/packages/Flux/q3zeA/src/optimise/train.jl:136\n",
      "┌ Info: 0.6984065\n",
      "│   loss_test = 0.7001864\n",
      "└ @ Main /Users/vhafych/MPP-Server/gitrepos/COVID_Tweets_Analysis/src/nn.jl:81\n",
      "┌ Info: Epoch 2\n",
      "└ @ Main /Users/vhafych/.julia/packages/Flux/q3zeA/src/optimise/train.jl:136\n",
      "┌ Info: 0.6247565\n",
      "│   loss_test = 0.6260676\n",
      "└ @ Main /Users/vhafych/MPP-Server/gitrepos/COVID_Tweets_Analysis/src/nn.jl:81\n",
      "┌ Info: Epoch 3\n",
      "└ @ Main /Users/vhafych/.julia/packages/Flux/q3zeA/src/optimise/train.jl:136\n",
      "┌ Info: 0.62196016\n",
      "│   loss_test = 0.6233914\n",
      "└ @ Main /Users/vhafych/MPP-Server/gitrepos/COVID_Tweets_Analysis/src/nn.jl:81\n",
      "┌ Info: Epoch 4\n",
      "└ @ Main /Users/vhafych/.julia/packages/Flux/q3zeA/src/optimise/train.jl:136\n",
      "┌ Info: 0.6206328\n",
      "│   loss_test = 0.6224936\n",
      "└ @ Main /Users/vhafych/MPP-Server/gitrepos/COVID_Tweets_Analysis/src/nn.jl:81\n",
      "┌ Info: Epoch 5\n",
      "└ @ Main /Users/vhafych/.julia/packages/Flux/q3zeA/src/optimise/train.jl:136\n",
      "┌ Info: 0.61927706\n",
      "│   loss_test = 0.62213963\n",
      "└ @ Main /Users/vhafych/MPP-Server/gitrepos/COVID_Tweets_Analysis/src/nn.jl:81\n"
     ]
    },
    {
     "name": "stdout",
     "output_type": "stream",
     "text": [
      " 38.861089 seconds (456.12 M allocations: 18.021 GiB, 9.09% gc time)\n",
      "i = 100\n"
     ]
    },
    {
     "name": "stderr",
     "output_type": "stream",
     "text": [
      "┌ Info: Epoch 1\n",
      "└ @ Main /Users/vhafych/.julia/packages/Flux/q3zeA/src/optimise/train.jl:136\n",
      "┌ Info: 0.6962707\n",
      "│   loss_test = 0.69619983\n",
      "└ @ Main /Users/vhafych/MPP-Server/gitrepos/COVID_Tweets_Analysis/src/nn.jl:81\n",
      "┌ Info: Epoch 2\n",
      "└ @ Main /Users/vhafych/.julia/packages/Flux/q3zeA/src/optimise/train.jl:136\n",
      "┌ Info: 0.62436366\n",
      "│   loss_test = 0.6284979\n",
      "└ @ Main /Users/vhafych/MPP-Server/gitrepos/COVID_Tweets_Analysis/src/nn.jl:81\n",
      "┌ Info: Epoch 3\n",
      "└ @ Main /Users/vhafych/.julia/packages/Flux/q3zeA/src/optimise/train.jl:136\n",
      "┌ Info: 0.6212658\n",
      "│   loss_test = 0.6257739\n",
      "└ @ Main /Users/vhafych/MPP-Server/gitrepos/COVID_Tweets_Analysis/src/nn.jl:81\n",
      "┌ Info: Epoch 4\n",
      "└ @ Main /Users/vhafych/.julia/packages/Flux/q3zeA/src/optimise/train.jl:136\n",
      "┌ Info: 0.619724\n",
      "│   loss_test = 0.6246162\n",
      "└ @ Main /Users/vhafych/MPP-Server/gitrepos/COVID_Tweets_Analysis/src/nn.jl:81\n",
      "┌ Info: Epoch 5\n",
      "└ @ Main /Users/vhafych/.julia/packages/Flux/q3zeA/src/optimise/train.jl:136\n",
      "┌ Info: 0.61836576\n",
      "│   loss_test = 0.62369096\n",
      "└ @ Main /Users/vhafych/MPP-Server/gitrepos/COVID_Tweets_Analysis/src/nn.jl:81\n"
     ]
    },
    {
     "name": "stdout",
     "output_type": "stream",
     "text": [
      " 39.191618 seconds (456.12 M allocations: 18.021 GiB, 9.10% gc time)\n",
      "i = 101\n"
     ]
    },
    {
     "name": "stderr",
     "output_type": "stream",
     "text": [
      "┌ Info: Epoch 1\n",
      "└ @ Main /Users/vhafych/.julia/packages/Flux/q3zeA/src/optimise/train.jl:136\n",
      "┌ Info: 0.6987241\n",
      "│   loss_test = 0.70029056\n",
      "└ @ Main /Users/vhafych/MPP-Server/gitrepos/COVID_Tweets_Analysis/src/nn.jl:81\n",
      "┌ Info: Epoch 2\n",
      "└ @ Main /Users/vhafych/.julia/packages/Flux/q3zeA/src/optimise/train.jl:136\n",
      "┌ Info: 0.62527984\n",
      "│   loss_test = 0.6274152\n",
      "└ @ Main /Users/vhafych/MPP-Server/gitrepos/COVID_Tweets_Analysis/src/nn.jl:81\n",
      "┌ Info: Epoch 3\n",
      "└ @ Main /Users/vhafych/.julia/packages/Flux/q3zeA/src/optimise/train.jl:136\n",
      "┌ Info: 0.62168574\n",
      "│   loss_test = 0.6239355\n",
      "└ @ Main /Users/vhafych/MPP-Server/gitrepos/COVID_Tweets_Analysis/src/nn.jl:81\n",
      "┌ Info: Epoch 4\n",
      "└ @ Main /Users/vhafych/.julia/packages/Flux/q3zeA/src/optimise/train.jl:136\n",
      "┌ Info: 0.6203484\n",
      "│   loss_test = 0.6237224\n",
      "└ @ Main /Users/vhafych/MPP-Server/gitrepos/COVID_Tweets_Analysis/src/nn.jl:81\n",
      "┌ Info: Epoch 5\n",
      "└ @ Main /Users/vhafych/.julia/packages/Flux/q3zeA/src/optimise/train.jl:136\n",
      "┌ Info: 0.61840045\n",
      "│   loss_test = 0.62197214\n",
      "└ @ Main /Users/vhafych/MPP-Server/gitrepos/COVID_Tweets_Analysis/src/nn.jl:81\n"
     ]
    },
    {
     "name": "stdout",
     "output_type": "stream",
     "text": [
      " 38.941028 seconds (456.12 M allocations: 18.021 GiB, 9.12% gc time)\n",
      "i = 102\n"
     ]
    },
    {
     "name": "stderr",
     "output_type": "stream",
     "text": [
      "┌ Info: Epoch 1\n",
      "└ @ Main /Users/vhafych/.julia/packages/Flux/q3zeA/src/optimise/train.jl:136\n",
      "┌ Info: 0.69772786\n",
      "│   loss_test = 0.6974295\n",
      "└ @ Main /Users/vhafych/MPP-Server/gitrepos/COVID_Tweets_Analysis/src/nn.jl:81\n",
      "┌ Info: Epoch 2\n",
      "└ @ Main /Users/vhafych/.julia/packages/Flux/q3zeA/src/optimise/train.jl:136\n",
      "┌ Info: 0.6257986\n",
      "│   loss_test = 0.6254069\n",
      "└ @ Main /Users/vhafych/MPP-Server/gitrepos/COVID_Tweets_Analysis/src/nn.jl:81\n",
      "┌ Info: Epoch 3\n",
      "└ @ Main /Users/vhafych/.julia/packages/Flux/q3zeA/src/optimise/train.jl:136\n",
      "┌ Info: 0.62342036\n",
      "│   loss_test = 0.623702\n",
      "└ @ Main /Users/vhafych/MPP-Server/gitrepos/COVID_Tweets_Analysis/src/nn.jl:81\n",
      "┌ Info: Epoch 4\n",
      "└ @ Main /Users/vhafych/.julia/packages/Flux/q3zeA/src/optimise/train.jl:136\n",
      "┌ Info: 0.6210811\n",
      "│   loss_test = 0.622095\n",
      "└ @ Main /Users/vhafych/MPP-Server/gitrepos/COVID_Tweets_Analysis/src/nn.jl:81\n",
      "┌ Info: Epoch 5\n",
      "└ @ Main /Users/vhafych/.julia/packages/Flux/q3zeA/src/optimise/train.jl:136\n",
      "┌ Info: 0.61983776\n",
      "│   loss_test = 0.6216598\n",
      "└ @ Main /Users/vhafych/MPP-Server/gitrepos/COVID_Tweets_Analysis/src/nn.jl:81\n"
     ]
    },
    {
     "name": "stdout",
     "output_type": "stream",
     "text": [
      " 38.777967 seconds (456.12 M allocations: 18.021 GiB, 9.11% gc time)\n",
      "i = 103\n"
     ]
    },
    {
     "name": "stderr",
     "output_type": "stream",
     "text": [
      "┌ Info: Epoch 1\n",
      "└ @ Main /Users/vhafych/.julia/packages/Flux/q3zeA/src/optimise/train.jl:136\n",
      "┌ Info: 0.69187266\n",
      "│   loss_test = 0.6920237\n",
      "└ @ Main /Users/vhafych/MPP-Server/gitrepos/COVID_Tweets_Analysis/src/nn.jl:81\n",
      "┌ Info: Epoch 2\n",
      "└ @ Main /Users/vhafych/.julia/packages/Flux/q3zeA/src/optimise/train.jl:136\n",
      "┌ Info: 0.62480426\n",
      "│   loss_test = 0.62760144\n",
      "└ @ Main /Users/vhafych/MPP-Server/gitrepos/COVID_Tweets_Analysis/src/nn.jl:81\n",
      "┌ Info: Epoch 3\n",
      "└ @ Main /Users/vhafych/.julia/packages/Flux/q3zeA/src/optimise/train.jl:136\n",
      "┌ Info: 0.6221347\n",
      "│   loss_test = 0.62514716\n",
      "└ @ Main /Users/vhafych/MPP-Server/gitrepos/COVID_Tweets_Analysis/src/nn.jl:81\n",
      "┌ Info: Epoch 4\n",
      "└ @ Main /Users/vhafych/.julia/packages/Flux/q3zeA/src/optimise/train.jl:136\n",
      "┌ Info: 0.6212358\n",
      "│   loss_test = 0.62565863\n",
      "└ @ Main /Users/vhafych/MPP-Server/gitrepos/COVID_Tweets_Analysis/src/nn.jl:81\n",
      "┌ Info: Epoch 5\n",
      "└ @ Main /Users/vhafych/.julia/packages/Flux/q3zeA/src/optimise/train.jl:136\n",
      "┌ Info: 0.61881924\n",
      "│   loss_test = 0.6233389\n",
      "└ @ Main /Users/vhafych/MPP-Server/gitrepos/COVID_Tweets_Analysis/src/nn.jl:81\n"
     ]
    },
    {
     "name": "stdout",
     "output_type": "stream",
     "text": [
      " 38.780243 seconds (456.12 M allocations: 18.021 GiB, 9.09% gc time)\n",
      "i = 104\n"
     ]
    },
    {
     "name": "stderr",
     "output_type": "stream",
     "text": [
      "┌ Info: Epoch 1\n",
      "└ @ Main /Users/vhafych/.julia/packages/Flux/q3zeA/src/optimise/train.jl:136\n",
      "┌ Info: 0.6961615\n",
      "│   loss_test = 0.69667995\n",
      "└ @ Main /Users/vhafych/MPP-Server/gitrepos/COVID_Tweets_Analysis/src/nn.jl:81\n",
      "┌ Info: Epoch 2\n",
      "└ @ Main /Users/vhafych/.julia/packages/Flux/q3zeA/src/optimise/train.jl:136\n",
      "┌ Info: 0.6250168\n",
      "│   loss_test = 0.6251009\n",
      "└ @ Main /Users/vhafych/MPP-Server/gitrepos/COVID_Tweets_Analysis/src/nn.jl:81\n",
      "┌ Info: Epoch 3\n",
      "└ @ Main /Users/vhafych/.julia/packages/Flux/q3zeA/src/optimise/train.jl:136\n",
      "┌ Info: 0.6224654\n",
      "│   loss_test = 0.6231488\n",
      "└ @ Main /Users/vhafych/MPP-Server/gitrepos/COVID_Tweets_Analysis/src/nn.jl:81\n",
      "┌ Info: Epoch 4\n",
      "└ @ Main /Users/vhafych/.julia/packages/Flux/q3zeA/src/optimise/train.jl:136\n",
      "┌ Info: 0.6208971\n",
      "│   loss_test = 0.6224063\n",
      "└ @ Main /Users/vhafych/MPP-Server/gitrepos/COVID_Tweets_Analysis/src/nn.jl:81\n",
      "┌ Info: Epoch 5\n",
      "└ @ Main /Users/vhafych/.julia/packages/Flux/q3zeA/src/optimise/train.jl:136\n",
      "┌ Info: 0.61912066\n",
      "│   loss_test = 0.62128425\n",
      "└ @ Main /Users/vhafych/MPP-Server/gitrepos/COVID_Tweets_Analysis/src/nn.jl:81\n"
     ]
    },
    {
     "name": "stdout",
     "output_type": "stream",
     "text": [
      " 38.752087 seconds (456.12 M allocations: 18.021 GiB, 9.14% gc time)\n",
      "i = 105\n"
     ]
    },
    {
     "name": "stderr",
     "output_type": "stream",
     "text": [
      "┌ Info: Epoch 1\n",
      "└ @ Main /Users/vhafych/.julia/packages/Flux/q3zeA/src/optimise/train.jl:136\n",
      "┌ Info: 0.7030003\n",
      "│   loss_test = 0.70317054\n",
      "└ @ Main /Users/vhafych/MPP-Server/gitrepos/COVID_Tweets_Analysis/src/nn.jl:81\n",
      "┌ Info: Epoch 2\n",
      "└ @ Main /Users/vhafych/.julia/packages/Flux/q3zeA/src/optimise/train.jl:136\n",
      "┌ Info: 0.62470233\n",
      "│   loss_test = 0.6265962\n",
      "└ @ Main /Users/vhafych/MPP-Server/gitrepos/COVID_Tweets_Analysis/src/nn.jl:81\n",
      "┌ Info: Epoch 3\n",
      "└ @ Main /Users/vhafych/.julia/packages/Flux/q3zeA/src/optimise/train.jl:136\n",
      "┌ Info: 0.6218824\n",
      "│   loss_test = 0.6245599\n",
      "└ @ Main /Users/vhafych/MPP-Server/gitrepos/COVID_Tweets_Analysis/src/nn.jl:81\n",
      "┌ Info: Epoch 4\n",
      "└ @ Main /Users/vhafych/.julia/packages/Flux/q3zeA/src/optimise/train.jl:136\n",
      "┌ Info: 0.6206949\n",
      "│   loss_test = 0.62417495\n",
      "└ @ Main /Users/vhafych/MPP-Server/gitrepos/COVID_Tweets_Analysis/src/nn.jl:81\n",
      "┌ Info: Epoch 5\n",
      "└ @ Main /Users/vhafych/.julia/packages/Flux/q3zeA/src/optimise/train.jl:136\n",
      "┌ Info: 0.61849827\n",
      "│   loss_test = 0.6228158\n",
      "└ @ Main /Users/vhafych/MPP-Server/gitrepos/COVID_Tweets_Analysis/src/nn.jl:81\n"
     ]
    },
    {
     "name": "stdout",
     "output_type": "stream",
     "text": [
      " 38.951566 seconds (456.12 M allocations: 18.021 GiB, 9.13% gc time)\n",
      "i = 106\n"
     ]
    },
    {
     "name": "stderr",
     "output_type": "stream",
     "text": [
      "┌ Info: Epoch 1\n",
      "└ @ Main /Users/vhafych/.julia/packages/Flux/q3zeA/src/optimise/train.jl:136\n",
      "┌ Info: 0.6975154\n",
      "│   loss_test = 0.69763774\n",
      "└ @ Main /Users/vhafych/MPP-Server/gitrepos/COVID_Tweets_Analysis/src/nn.jl:81\n",
      "┌ Info: Epoch 2\n",
      "└ @ Main /Users/vhafych/.julia/packages/Flux/q3zeA/src/optimise/train.jl:136\n",
      "┌ Info: 0.62516516\n",
      "│   loss_test = 0.62727576\n",
      "└ @ Main /Users/vhafych/MPP-Server/gitrepos/COVID_Tweets_Analysis/src/nn.jl:81\n",
      "┌ Info: Epoch 3\n",
      "└ @ Main /Users/vhafych/.julia/packages/Flux/q3zeA/src/optimise/train.jl:136\n",
      "┌ Info: 0.6230804\n",
      "│   loss_test = 0.62508667\n",
      "└ @ Main /Users/vhafych/MPP-Server/gitrepos/COVID_Tweets_Analysis/src/nn.jl:81\n",
      "┌ Info: Epoch 4\n",
      "└ @ Main /Users/vhafych/.julia/packages/Flux/q3zeA/src/optimise/train.jl:136\n",
      "┌ Info: 0.6212558\n",
      "│   loss_test = 0.62435806\n",
      "└ @ Main /Users/vhafych/MPP-Server/gitrepos/COVID_Tweets_Analysis/src/nn.jl:81\n",
      "┌ Info: Epoch 5\n",
      "└ @ Main /Users/vhafych/.julia/packages/Flux/q3zeA/src/optimise/train.jl:136\n",
      "┌ Info: 0.6189542\n",
      "│   loss_test = 0.6227917\n",
      "└ @ Main /Users/vhafych/MPP-Server/gitrepos/COVID_Tweets_Analysis/src/nn.jl:81\n"
     ]
    },
    {
     "name": "stdout",
     "output_type": "stream",
     "text": [
      " 40.863434 seconds (456.12 M allocations: 18.021 GiB, 8.91% gc time)\n",
      "i = 107\n"
     ]
    },
    {
     "name": "stderr",
     "output_type": "stream",
     "text": [
      "┌ Info: Epoch 1\n",
      "└ @ Main /Users/vhafych/.julia/packages/Flux/q3zeA/src/optimise/train.jl:136\n",
      "┌ Info: 0.6937361\n",
      "│   loss_test = 0.69352555\n",
      "└ @ Main /Users/vhafych/MPP-Server/gitrepos/COVID_Tweets_Analysis/src/nn.jl:81\n",
      "┌ Info: Epoch 2\n",
      "└ @ Main /Users/vhafych/.julia/packages/Flux/q3zeA/src/optimise/train.jl:136\n",
      "┌ Info: 0.6244945\n",
      "│   loss_test = 0.62757695\n",
      "└ @ Main /Users/vhafych/MPP-Server/gitrepos/COVID_Tweets_Analysis/src/nn.jl:81\n",
      "┌ Info: Epoch 3\n",
      "└ @ Main /Users/vhafych/.julia/packages/Flux/q3zeA/src/optimise/train.jl:136\n",
      "┌ Info: 0.6218804\n",
      "│   loss_test = 0.62569875\n",
      "└ @ Main /Users/vhafych/MPP-Server/gitrepos/COVID_Tweets_Analysis/src/nn.jl:81\n",
      "┌ Info: Epoch 4\n",
      "└ @ Main /Users/vhafych/.julia/packages/Flux/q3zeA/src/optimise/train.jl:136\n",
      "┌ Info: 0.6204405\n",
      "│   loss_test = 0.6254206\n",
      "└ @ Main /Users/vhafych/MPP-Server/gitrepos/COVID_Tweets_Analysis/src/nn.jl:81\n",
      "┌ Info: Epoch 5\n",
      "└ @ Main /Users/vhafych/.julia/packages/Flux/q3zeA/src/optimise/train.jl:136\n",
      "┌ Info: 0.619158\n",
      "│   loss_test = 0.62413126\n",
      "└ @ Main /Users/vhafych/MPP-Server/gitrepos/COVID_Tweets_Analysis/src/nn.jl:81\n"
     ]
    },
    {
     "name": "stdout",
     "output_type": "stream",
     "text": [
      " 39.017492 seconds (456.12 M allocations: 18.021 GiB, 9.10% gc time)\n",
      "i = 108\n"
     ]
    },
    {
     "name": "stderr",
     "output_type": "stream",
     "text": [
      "┌ Info: Epoch 1\n",
      "└ @ Main /Users/vhafych/.julia/packages/Flux/q3zeA/src/optimise/train.jl:136\n",
      "┌ Info: 0.6904798\n",
      "│   loss_test = 0.69032\n",
      "└ @ Main /Users/vhafych/MPP-Server/gitrepos/COVID_Tweets_Analysis/src/nn.jl:81\n",
      "┌ Info: Epoch 2\n",
      "└ @ Main /Users/vhafych/.julia/packages/Flux/q3zeA/src/optimise/train.jl:136\n",
      "┌ Info: 0.6253764\n",
      "│   loss_test = 0.62392384\n",
      "└ @ Main /Users/vhafych/MPP-Server/gitrepos/COVID_Tweets_Analysis/src/nn.jl:81\n",
      "┌ Info: Epoch 3\n",
      "└ @ Main /Users/vhafych/.julia/packages/Flux/q3zeA/src/optimise/train.jl:136\n",
      "┌ Info: 0.6230306\n",
      "│   loss_test = 0.6219657\n",
      "└ @ Main /Users/vhafych/MPP-Server/gitrepos/COVID_Tweets_Analysis/src/nn.jl:81\n",
      "┌ Info: Epoch 4\n",
      "└ @ Main /Users/vhafych/.julia/packages/Flux/q3zeA/src/optimise/train.jl:136\n",
      "┌ Info: 0.62204564\n",
      "│   loss_test = 0.6208904\n",
      "└ @ Main /Users/vhafych/MPP-Server/gitrepos/COVID_Tweets_Analysis/src/nn.jl:81\n",
      "┌ Info: Epoch 5\n",
      "└ @ Main /Users/vhafych/.julia/packages/Flux/q3zeA/src/optimise/train.jl:136\n",
      "┌ Info: 0.6195479\n",
      "│   loss_test = 0.6186597\n",
      "└ @ Main /Users/vhafych/MPP-Server/gitrepos/COVID_Tweets_Analysis/src/nn.jl:81\n"
     ]
    },
    {
     "name": "stdout",
     "output_type": "stream",
     "text": [
      " 39.457773 seconds (456.12 M allocations: 18.021 GiB, 8.99% gc time)\n",
      "i = 109\n"
     ]
    },
    {
     "name": "stderr",
     "output_type": "stream",
     "text": [
      "┌ Info: Epoch 1\n",
      "└ @ Main /Users/vhafych/.julia/packages/Flux/q3zeA/src/optimise/train.jl:136\n",
      "┌ Info: 0.69380707\n",
      "│   loss_test = 0.69387937\n",
      "└ @ Main /Users/vhafych/MPP-Server/gitrepos/COVID_Tweets_Analysis/src/nn.jl:81\n",
      "┌ Info: Epoch 2\n",
      "└ @ Main /Users/vhafych/.julia/packages/Flux/q3zeA/src/optimise/train.jl:136\n",
      "┌ Info: 0.6270581\n",
      "│   loss_test = 0.6276007\n",
      "└ @ Main /Users/vhafych/MPP-Server/gitrepos/COVID_Tweets_Analysis/src/nn.jl:81\n",
      "┌ Info: Epoch 3\n",
      "└ @ Main /Users/vhafych/.julia/packages/Flux/q3zeA/src/optimise/train.jl:136\n",
      "┌ Info: 0.62484026\n",
      "│   loss_test = 0.62519\n",
      "└ @ Main /Users/vhafych/MPP-Server/gitrepos/COVID_Tweets_Analysis/src/nn.jl:81\n",
      "┌ Info: Epoch 4\n",
      "└ @ Main /Users/vhafych/.julia/packages/Flux/q3zeA/src/optimise/train.jl:136\n",
      "┌ Info: 0.6236406\n",
      "│   loss_test = 0.62507045\n",
      "└ @ Main /Users/vhafych/MPP-Server/gitrepos/COVID_Tweets_Analysis/src/nn.jl:81\n",
      "┌ Info: Epoch 5\n",
      "└ @ Main /Users/vhafych/.julia/packages/Flux/q3zeA/src/optimise/train.jl:136\n",
      "┌ Info: 0.6215753\n",
      "│   loss_test = 0.6234943\n",
      "└ @ Main /Users/vhafych/MPP-Server/gitrepos/COVID_Tweets_Analysis/src/nn.jl:81\n"
     ]
    },
    {
     "name": "stdout",
     "output_type": "stream",
     "text": [
      " 39.310551 seconds (456.12 M allocations: 18.021 GiB, 9.09% gc time)\n",
      "i = 110\n"
     ]
    },
    {
     "name": "stderr",
     "output_type": "stream",
     "text": [
      "┌ Info: Epoch 1\n",
      "└ @ Main /Users/vhafych/.julia/packages/Flux/q3zeA/src/optimise/train.jl:136\n",
      "┌ Info: 0.69509274\n",
      "│   loss_test = 0.6949672\n",
      "└ @ Main /Users/vhafych/MPP-Server/gitrepos/COVID_Tweets_Analysis/src/nn.jl:81\n",
      "┌ Info: Epoch 2\n",
      "└ @ Main /Users/vhafych/.julia/packages/Flux/q3zeA/src/optimise/train.jl:136\n",
      "┌ Info: 0.6247206\n",
      "│   loss_test = 0.6252501\n",
      "└ @ Main /Users/vhafych/MPP-Server/gitrepos/COVID_Tweets_Analysis/src/nn.jl:81\n",
      "┌ Info: Epoch 3\n",
      "└ @ Main /Users/vhafych/.julia/packages/Flux/q3zeA/src/optimise/train.jl:136\n",
      "┌ Info: 0.6219914\n",
      "│   loss_test = 0.6229866\n",
      "└ @ Main /Users/vhafych/MPP-Server/gitrepos/COVID_Tweets_Analysis/src/nn.jl:81\n",
      "┌ Info: Epoch 4\n",
      "└ @ Main /Users/vhafych/.julia/packages/Flux/q3zeA/src/optimise/train.jl:136\n",
      "┌ Info: 0.6206584\n",
      "│   loss_test = 0.6223922\n",
      "└ @ Main /Users/vhafych/MPP-Server/gitrepos/COVID_Tweets_Analysis/src/nn.jl:81\n",
      "┌ Info: Epoch 5\n",
      "└ @ Main /Users/vhafych/.julia/packages/Flux/q3zeA/src/optimise/train.jl:136\n",
      "┌ Info: 0.6189907\n",
      "│   loss_test = 0.6215331\n",
      "└ @ Main /Users/vhafych/MPP-Server/gitrepos/COVID_Tweets_Analysis/src/nn.jl:81\n"
     ]
    },
    {
     "name": "stdout",
     "output_type": "stream",
     "text": [
      " 39.164986 seconds (456.12 M allocations: 18.021 GiB, 9.13% gc time)\n",
      "i = 111\n"
     ]
    },
    {
     "name": "stderr",
     "output_type": "stream",
     "text": [
      "┌ Info: Epoch 1\n",
      "└ @ Main /Users/vhafych/.julia/packages/Flux/q3zeA/src/optimise/train.jl:136\n",
      "┌ Info: 0.6944359\n",
      "│   loss_test = 0.694442\n",
      "└ @ Main /Users/vhafych/MPP-Server/gitrepos/COVID_Tweets_Analysis/src/nn.jl:81\n",
      "┌ Info: Epoch 2\n",
      "└ @ Main /Users/vhafych/.julia/packages/Flux/q3zeA/src/optimise/train.jl:136\n",
      "┌ Info: 0.6249386\n",
      "│   loss_test = 0.6246074\n",
      "└ @ Main /Users/vhafych/MPP-Server/gitrepos/COVID_Tweets_Analysis/src/nn.jl:81\n",
      "┌ Info: Epoch 3\n",
      "└ @ Main /Users/vhafych/.julia/packages/Flux/q3zeA/src/optimise/train.jl:136\n",
      "┌ Info: 0.6228565\n",
      "│   loss_test = 0.6230256\n",
      "└ @ Main /Users/vhafych/MPP-Server/gitrepos/COVID_Tweets_Analysis/src/nn.jl:81\n",
      "┌ Info: Epoch 4\n",
      "└ @ Main /Users/vhafych/.julia/packages/Flux/q3zeA/src/optimise/train.jl:136\n",
      "┌ Info: 0.6211018\n",
      "│   loss_test = 0.62202585\n",
      "└ @ Main /Users/vhafych/MPP-Server/gitrepos/COVID_Tweets_Analysis/src/nn.jl:81\n",
      "┌ Info: Epoch 5\n",
      "└ @ Main /Users/vhafych/.julia/packages/Flux/q3zeA/src/optimise/train.jl:136\n",
      "┌ Info: 0.6192384\n",
      "│   loss_test = 0.62094903\n",
      "└ @ Main /Users/vhafych/MPP-Server/gitrepos/COVID_Tweets_Analysis/src/nn.jl:81\n"
     ]
    },
    {
     "name": "stdout",
     "output_type": "stream",
     "text": [
      " 39.304302 seconds (456.12 M allocations: 18.021 GiB, 9.10% gc time)\n",
      "i = 112\n"
     ]
    },
    {
     "name": "stderr",
     "output_type": "stream",
     "text": [
      "┌ Info: Epoch 1\n",
      "└ @ Main /Users/vhafych/.julia/packages/Flux/q3zeA/src/optimise/train.jl:136\n",
      "┌ Info: 0.69331527\n",
      "│   loss_test = 0.69365174\n",
      "└ @ Main /Users/vhafych/MPP-Server/gitrepos/COVID_Tweets_Analysis/src/nn.jl:81\n",
      "┌ Info: Epoch 2\n",
      "└ @ Main /Users/vhafych/.julia/packages/Flux/q3zeA/src/optimise/train.jl:136\n",
      "┌ Info: 0.6246313\n",
      "│   loss_test = 0.6249379\n",
      "└ @ Main /Users/vhafych/MPP-Server/gitrepos/COVID_Tweets_Analysis/src/nn.jl:81\n",
      "┌ Info: Epoch 3\n",
      "└ @ Main /Users/vhafych/.julia/packages/Flux/q3zeA/src/optimise/train.jl:136\n",
      "┌ Info: 0.62233394\n",
      "│   loss_test = 0.6231415\n",
      "└ @ Main /Users/vhafych/MPP-Server/gitrepos/COVID_Tweets_Analysis/src/nn.jl:81\n",
      "┌ Info: Epoch 4\n",
      "└ @ Main /Users/vhafych/.julia/packages/Flux/q3zeA/src/optimise/train.jl:136\n",
      "┌ Info: 0.62112707\n",
      "│   loss_test = 0.6229494\n",
      "└ @ Main /Users/vhafych/MPP-Server/gitrepos/COVID_Tweets_Analysis/src/nn.jl:81\n",
      "┌ Info: Epoch 5\n",
      "└ @ Main /Users/vhafych/.julia/packages/Flux/q3zeA/src/optimise/train.jl:136\n",
      "┌ Info: 0.6195718\n",
      "│   loss_test = 0.6218608\n",
      "└ @ Main /Users/vhafych/MPP-Server/gitrepos/COVID_Tweets_Analysis/src/nn.jl:81\n"
     ]
    },
    {
     "name": "stdout",
     "output_type": "stream",
     "text": [
      " 38.994508 seconds (456.12 M allocations: 18.021 GiB, 9.14% gc time)\n",
      "i = 113\n"
     ]
    },
    {
     "name": "stderr",
     "output_type": "stream",
     "text": [
      "┌ Info: Epoch 1\n",
      "└ @ Main /Users/vhafych/.julia/packages/Flux/q3zeA/src/optimise/train.jl:136\n",
      "┌ Info: 0.6954321\n",
      "│   loss_test = 0.69544035\n",
      "└ @ Main /Users/vhafych/MPP-Server/gitrepos/COVID_Tweets_Analysis/src/nn.jl:81\n",
      "┌ Info: Epoch 2\n",
      "└ @ Main /Users/vhafych/.julia/packages/Flux/q3zeA/src/optimise/train.jl:136\n",
      "┌ Info: 0.6243228\n",
      "│   loss_test = 0.62563705\n",
      "└ @ Main /Users/vhafych/MPP-Server/gitrepos/COVID_Tweets_Analysis/src/nn.jl:81\n",
      "┌ Info: Epoch 3\n",
      "└ @ Main /Users/vhafych/.julia/packages/Flux/q3zeA/src/optimise/train.jl:136\n",
      "┌ Info: 0.62233335\n",
      "│   loss_test = 0.62387717\n",
      "└ @ Main /Users/vhafych/MPP-Server/gitrepos/COVID_Tweets_Analysis/src/nn.jl:81\n",
      "┌ Info: Epoch 4\n",
      "└ @ Main /Users/vhafych/.julia/packages/Flux/q3zeA/src/optimise/train.jl:136\n",
      "┌ Info: 0.62040734\n",
      "│   loss_test = 0.6229372\n",
      "└ @ Main /Users/vhafych/MPP-Server/gitrepos/COVID_Tweets_Analysis/src/nn.jl:81\n",
      "┌ Info: Epoch 5\n",
      "└ @ Main /Users/vhafych/.julia/packages/Flux/q3zeA/src/optimise/train.jl:136\n",
      "┌ Info: 0.6187385\n",
      "│   loss_test = 0.6216207\n",
      "└ @ Main /Users/vhafych/MPP-Server/gitrepos/COVID_Tweets_Analysis/src/nn.jl:81\n"
     ]
    },
    {
     "name": "stdout",
     "output_type": "stream",
     "text": [
      " 38.945491 seconds (456.12 M allocations: 18.021 GiB, 9.12% gc time)\n",
      "i = 114\n"
     ]
    },
    {
     "name": "stderr",
     "output_type": "stream",
     "text": [
      "┌ Info: Epoch 1\n",
      "└ @ Main /Users/vhafych/.julia/packages/Flux/q3zeA/src/optimise/train.jl:136\n",
      "┌ Info: 0.69411033\n",
      "│   loss_test = 0.6939016\n",
      "└ @ Main /Users/vhafych/MPP-Server/gitrepos/COVID_Tweets_Analysis/src/nn.jl:81\n",
      "┌ Info: Epoch 2\n",
      "└ @ Main /Users/vhafych/.julia/packages/Flux/q3zeA/src/optimise/train.jl:136\n",
      "┌ Info: 0.62461865\n",
      "│   loss_test = 0.62593204\n",
      "└ @ Main /Users/vhafych/MPP-Server/gitrepos/COVID_Tweets_Analysis/src/nn.jl:81\n",
      "┌ Info: Epoch 3\n",
      "└ @ Main /Users/vhafych/.julia/packages/Flux/q3zeA/src/optimise/train.jl:136\n",
      "┌ Info: 0.6220694\n",
      "│   loss_test = 0.6243012\n",
      "└ @ Main /Users/vhafych/MPP-Server/gitrepos/COVID_Tweets_Analysis/src/nn.jl:81\n",
      "┌ Info: Epoch 4\n",
      "└ @ Main /Users/vhafych/.julia/packages/Flux/q3zeA/src/optimise/train.jl:136\n",
      "┌ Info: 0.62059563\n",
      "│   loss_test = 0.62368083\n",
      "└ @ Main /Users/vhafych/MPP-Server/gitrepos/COVID_Tweets_Analysis/src/nn.jl:81\n",
      "┌ Info: Epoch 5\n",
      "└ @ Main /Users/vhafych/.julia/packages/Flux/q3zeA/src/optimise/train.jl:136\n",
      "┌ Info: 0.6185666\n",
      "│   loss_test = 0.6221753\n",
      "└ @ Main /Users/vhafych/MPP-Server/gitrepos/COVID_Tweets_Analysis/src/nn.jl:81\n"
     ]
    },
    {
     "name": "stdout",
     "output_type": "stream",
     "text": [
      " 39.125044 seconds (456.12 M allocations: 18.021 GiB, 9.16% gc time)\n",
      "i = 115\n"
     ]
    },
    {
     "name": "stderr",
     "output_type": "stream",
     "text": [
      "┌ Info: Epoch 1\n",
      "└ @ Main /Users/vhafych/.julia/packages/Flux/q3zeA/src/optimise/train.jl:136\n",
      "┌ Info: 0.7247845\n",
      "│   loss_test = 0.7251476\n",
      "└ @ Main /Users/vhafych/MPP-Server/gitrepos/COVID_Tweets_Analysis/src/nn.jl:81\n",
      "┌ Info: Epoch 2\n",
      "└ @ Main /Users/vhafych/.julia/packages/Flux/q3zeA/src/optimise/train.jl:136\n",
      "┌ Info: 0.6251895\n",
      "│   loss_test = 0.62561226\n",
      "└ @ Main /Users/vhafych/MPP-Server/gitrepos/COVID_Tweets_Analysis/src/nn.jl:81\n",
      "┌ Info: Epoch 3\n",
      "└ @ Main /Users/vhafych/.julia/packages/Flux/q3zeA/src/optimise/train.jl:136\n",
      "┌ Info: 0.62226814\n",
      "│   loss_test = 0.62354994\n",
      "└ @ Main /Users/vhafych/MPP-Server/gitrepos/COVID_Tweets_Analysis/src/nn.jl:81\n",
      "┌ Info: Epoch 4\n",
      "└ @ Main /Users/vhafych/.julia/packages/Flux/q3zeA/src/optimise/train.jl:136\n",
      "┌ Info: 0.62063736\n",
      "│   loss_test = 0.62258625\n",
      "└ @ Main /Users/vhafych/MPP-Server/gitrepos/COVID_Tweets_Analysis/src/nn.jl:81\n",
      "┌ Info: Epoch 5\n",
      "└ @ Main /Users/vhafych/.julia/packages/Flux/q3zeA/src/optimise/train.jl:136\n",
      "┌ Info: 0.62040645\n",
      "│   loss_test = 0.62288886\n",
      "└ @ Main /Users/vhafych/MPP-Server/gitrepos/COVID_Tweets_Analysis/src/nn.jl:81\n"
     ]
    },
    {
     "name": "stdout",
     "output_type": "stream",
     "text": [
      " 39.204698 seconds (456.12 M allocations: 18.021 GiB, 9.04% gc time)\n",
      "i = 116\n"
     ]
    },
    {
     "name": "stderr",
     "output_type": "stream",
     "text": [
      "┌ Info: Epoch 1\n",
      "└ @ Main /Users/vhafych/.julia/packages/Flux/q3zeA/src/optimise/train.jl:136\n",
      "┌ Info: 0.69974893\n",
      "│   loss_test = 0.7009351\n",
      "└ @ Main /Users/vhafych/MPP-Server/gitrepos/COVID_Tweets_Analysis/src/nn.jl:81\n",
      "┌ Info: Epoch 2\n",
      "└ @ Main /Users/vhafych/.julia/packages/Flux/q3zeA/src/optimise/train.jl:136\n",
      "┌ Info: 0.62901217\n",
      "│   loss_test = 0.6278286\n",
      "└ @ Main /Users/vhafych/MPP-Server/gitrepos/COVID_Tweets_Analysis/src/nn.jl:81\n",
      "┌ Info: Epoch 3\n",
      "└ @ Main /Users/vhafych/.julia/packages/Flux/q3zeA/src/optimise/train.jl:136\n",
      "┌ Info: 0.6239754\n",
      "│   loss_test = 0.6229499\n",
      "└ @ Main /Users/vhafych/MPP-Server/gitrepos/COVID_Tweets_Analysis/src/nn.jl:81\n",
      "┌ Info: Epoch 4\n",
      "└ @ Main /Users/vhafych/.julia/packages/Flux/q3zeA/src/optimise/train.jl:136\n",
      "┌ Info: 0.6209868\n",
      "│   loss_test = 0.6202435\n",
      "└ @ Main /Users/vhafych/MPP-Server/gitrepos/COVID_Tweets_Analysis/src/nn.jl:81\n",
      "┌ Info: Epoch 5\n",
      "└ @ Main /Users/vhafych/.julia/packages/Flux/q3zeA/src/optimise/train.jl:136\n",
      "┌ Info: 0.6198526\n",
      "│   loss_test = 0.6200734\n",
      "└ @ Main /Users/vhafych/MPP-Server/gitrepos/COVID_Tweets_Analysis/src/nn.jl:81\n"
     ]
    },
    {
     "name": "stdout",
     "output_type": "stream",
     "text": [
      " 39.832039 seconds (456.12 M allocations: 18.021 GiB, 9.03% gc time)\n",
      "i = 117\n"
     ]
    },
    {
     "name": "stderr",
     "output_type": "stream",
     "text": [
      "┌ Info: Epoch 1\n",
      "└ @ Main /Users/vhafych/.julia/packages/Flux/q3zeA/src/optimise/train.jl:136\n",
      "┌ Info: 0.69480497\n",
      "│   loss_test = 0.69517875\n",
      "└ @ Main /Users/vhafych/MPP-Server/gitrepos/COVID_Tweets_Analysis/src/nn.jl:81\n",
      "┌ Info: Epoch 2\n",
      "└ @ Main /Users/vhafych/.julia/packages/Flux/q3zeA/src/optimise/train.jl:136\n",
      "┌ Info: 0.6253155\n",
      "│   loss_test = 0.6270316\n",
      "└ @ Main /Users/vhafych/MPP-Server/gitrepos/COVID_Tweets_Analysis/src/nn.jl:81\n",
      "┌ Info: Epoch 3\n",
      "└ @ Main /Users/vhafych/.julia/packages/Flux/q3zeA/src/optimise/train.jl:136\n",
      "┌ Info: 0.6221766\n",
      "│   loss_test = 0.62416685\n",
      "└ @ Main /Users/vhafych/MPP-Server/gitrepos/COVID_Tweets_Analysis/src/nn.jl:81\n",
      "┌ Info: Epoch 4\n",
      "└ @ Main /Users/vhafych/.julia/packages/Flux/q3zeA/src/optimise/train.jl:136\n",
      "┌ Info: 0.62065053\n",
      "│   loss_test = 0.623479\n",
      "└ @ Main /Users/vhafych/MPP-Server/gitrepos/COVID_Tweets_Analysis/src/nn.jl:81\n",
      "┌ Info: Epoch 5\n",
      "└ @ Main /Users/vhafych/.julia/packages/Flux/q3zeA/src/optimise/train.jl:136\n",
      "┌ Info: 0.6190907\n",
      "│   loss_test = 0.62250686\n",
      "└ @ Main /Users/vhafych/MPP-Server/gitrepos/COVID_Tweets_Analysis/src/nn.jl:81\n"
     ]
    },
    {
     "name": "stdout",
     "output_type": "stream",
     "text": [
      " 39.600051 seconds (456.12 M allocations: 18.021 GiB, 9.07% gc time)\n",
      "i = 118\n"
     ]
    },
    {
     "name": "stderr",
     "output_type": "stream",
     "text": [
      "┌ Info: Epoch 1\n",
      "└ @ Main /Users/vhafych/.julia/packages/Flux/q3zeA/src/optimise/train.jl:136\n",
      "┌ Info: 0.6965766\n",
      "│   loss_test = 0.6966754\n",
      "└ @ Main /Users/vhafych/MPP-Server/gitrepos/COVID_Tweets_Analysis/src/nn.jl:81\n",
      "┌ Info: Epoch 2\n",
      "└ @ Main /Users/vhafych/.julia/packages/Flux/q3zeA/src/optimise/train.jl:136\n",
      "┌ Info: 0.6254146\n",
      "│   loss_test = 0.62740815\n",
      "└ @ Main /Users/vhafych/MPP-Server/gitrepos/COVID_Tweets_Analysis/src/nn.jl:81\n",
      "┌ Info: Epoch 3\n",
      "└ @ Main /Users/vhafych/.julia/packages/Flux/q3zeA/src/optimise/train.jl:136\n",
      "┌ Info: 0.6223428\n",
      "│   loss_test = 0.6245782\n",
      "└ @ Main /Users/vhafych/MPP-Server/gitrepos/COVID_Tweets_Analysis/src/nn.jl:81\n",
      "┌ Info: Epoch 4\n",
      "└ @ Main /Users/vhafych/.julia/packages/Flux/q3zeA/src/optimise/train.jl:136\n",
      "┌ Info: 0.6209149\n",
      "│   loss_test = 0.62408936\n",
      "└ @ Main /Users/vhafych/MPP-Server/gitrepos/COVID_Tweets_Analysis/src/nn.jl:81\n",
      "┌ Info: Epoch 5\n",
      "└ @ Main /Users/vhafych/.julia/packages/Flux/q3zeA/src/optimise/train.jl:136\n",
      "┌ Info: 0.6187826\n",
      "│   loss_test = 0.6226381\n",
      "└ @ Main /Users/vhafych/MPP-Server/gitrepos/COVID_Tweets_Analysis/src/nn.jl:81\n"
     ]
    },
    {
     "name": "stdout",
     "output_type": "stream",
     "text": [
      " 39.151830 seconds (456.12 M allocations: 18.021 GiB, 9.15% gc time)\n",
      "i = 119\n"
     ]
    },
    {
     "name": "stderr",
     "output_type": "stream",
     "text": [
      "┌ Info: Epoch 1\n",
      "└ @ Main /Users/vhafych/.julia/packages/Flux/q3zeA/src/optimise/train.jl:136\n",
      "┌ Info: 0.69365466\n",
      "│   loss_test = 0.6932615\n",
      "└ @ Main /Users/vhafych/MPP-Server/gitrepos/COVID_Tweets_Analysis/src/nn.jl:81\n",
      "┌ Info: Epoch 2\n",
      "└ @ Main /Users/vhafych/.julia/packages/Flux/q3zeA/src/optimise/train.jl:136\n",
      "┌ Info: 0.6247135\n",
      "│   loss_test = 0.6250573\n",
      "└ @ Main /Users/vhafych/MPP-Server/gitrepos/COVID_Tweets_Analysis/src/nn.jl:81\n",
      "┌ Info: Epoch 3\n",
      "└ @ Main /Users/vhafych/.julia/packages/Flux/q3zeA/src/optimise/train.jl:136\n",
      "┌ Info: 0.6228305\n",
      "│   loss_test = 0.62383825\n",
      "└ @ Main /Users/vhafych/MPP-Server/gitrepos/COVID_Tweets_Analysis/src/nn.jl:81\n",
      "┌ Info: Epoch 4\n",
      "└ @ Main /Users/vhafych/.julia/packages/Flux/q3zeA/src/optimise/train.jl:136\n",
      "┌ Info: 0.6211018\n",
      "│   loss_test = 0.6229016\n",
      "└ @ Main /Users/vhafych/MPP-Server/gitrepos/COVID_Tweets_Analysis/src/nn.jl:81\n",
      "┌ Info: Epoch 5\n",
      "└ @ Main /Users/vhafych/.julia/packages/Flux/q3zeA/src/optimise/train.jl:136\n",
      "┌ Info: 0.6195738\n",
      "│   loss_test = 0.62214327\n",
      "└ @ Main /Users/vhafych/MPP-Server/gitrepos/COVID_Tweets_Analysis/src/nn.jl:81\n"
     ]
    },
    {
     "name": "stdout",
     "output_type": "stream",
     "text": [
      " 39.334252 seconds (456.12 M allocations: 18.021 GiB, 9.11% gc time)\n",
      "i = 120\n"
     ]
    },
    {
     "name": "stderr",
     "output_type": "stream",
     "text": [
      "┌ Info: Epoch 1\n",
      "└ @ Main /Users/vhafych/.julia/packages/Flux/q3zeA/src/optimise/train.jl:136\n",
      "┌ Info: 0.7047665\n",
      "│   loss_test = 0.70433277\n",
      "└ @ Main /Users/vhafych/MPP-Server/gitrepos/COVID_Tweets_Analysis/src/nn.jl:81\n",
      "┌ Info: Epoch 2\n",
      "└ @ Main /Users/vhafych/.julia/packages/Flux/q3zeA/src/optimise/train.jl:136\n",
      "┌ Info: 0.6242738\n",
      "│   loss_test = 0.6257522\n",
      "└ @ Main /Users/vhafych/MPP-Server/gitrepos/COVID_Tweets_Analysis/src/nn.jl:81\n",
      "┌ Info: Epoch 3\n",
      "└ @ Main /Users/vhafych/.julia/packages/Flux/q3zeA/src/optimise/train.jl:136\n",
      "┌ Info: 0.6223717\n",
      "│   loss_test = 0.6239843\n",
      "└ @ Main /Users/vhafych/MPP-Server/gitrepos/COVID_Tweets_Analysis/src/nn.jl:81\n",
      "┌ Info: Epoch 4\n",
      "└ @ Main /Users/vhafych/.julia/packages/Flux/q3zeA/src/optimise/train.jl:136\n",
      "┌ Info: 0.62107706\n",
      "│   loss_test = 0.6227807\n",
      "└ @ Main /Users/vhafych/MPP-Server/gitrepos/COVID_Tweets_Analysis/src/nn.jl:81\n",
      "┌ Info: Epoch 5\n",
      "└ @ Main /Users/vhafych/.julia/packages/Flux/q3zeA/src/optimise/train.jl:136\n",
      "┌ Info: 0.61866045\n",
      "│   loss_test = 0.62186724\n",
      "└ @ Main /Users/vhafych/MPP-Server/gitrepos/COVID_Tweets_Analysis/src/nn.jl:81\n"
     ]
    },
    {
     "name": "stdout",
     "output_type": "stream",
     "text": [
      " 39.606524 seconds (456.12 M allocations: 18.021 GiB, 9.03% gc time)\n"
     ]
    },
    {
     "data": {
      "text/plain": [
       "(test = [0.6576020772537216, 0.711493064468717, 0.7111711151678014, 0.7129316316674583, 0.7101363783652377, 0.7113607027982026, 0.7093762452461672, 0.709923940287659, 0.7062452705825167, 0.7148971460096999  …  0.7118829149559232, 0.713832156238621, 0.711409463476973, 0.7109008650236658, 0.7121349951162759, 0.7171386110562783, 0.7078721067055185, 0.7103961659898482, 0.7116596134657263, 0.7119977370281793], train = [0.6674003406766454, 0.7199384443882635, 0.7185126145893078, 0.7173575606268384, 0.7203265616835506, 0.7214093909043974, 0.720150952492305, 0.7199082350201444, 0.7190270540975532, 0.7183777274542329  …  0.7178428908142067, 0.7177627691556225, 0.720642355634476, 0.7202878093010168, 0.7190406015889537, 0.7181581079402541, 0.7184892990574658, 0.7196906004647434, 0.7186979162007099, 0.7194299887393791])"
      ]
     },
     "execution_count": 20,
     "metadata": {},
     "output_type": "execute_result"
    }
   ],
   "source": [
    "test_int = 1:120\n",
    "par_importance = params_importance(x, y, test_int)"
   ]
  },
  {
   "cell_type": "code",
   "execution_count": 21,
   "metadata": {},
   "outputs": [
    {
     "data": {
      "image/png": "[encoded data removed]",
      "text/plain": [
       "Figure(PyObject <Figure size 2200x500 with 1 Axes>)"
      ]
     },
     "metadata": {},
     "output_type": "display_data"
    },
    {
     "data": {
      "text/plain": [
       "(0.0, 121.0)"
      ]
     },
     "execution_count": 21,
     "metadata": {},
     "output_type": "execute_result"
    }
   ],
   "source": [
    "fig, ax = plt.subplots(1,1, figsize=(22,5))\n",
    "\n",
    "ax.scatter(test_int, par_importance.train,  label=\"Train\")\n",
    "ax.scatter(test_int, par_importance.test, label=\"Test\")\n",
    "ax.legend()\n",
    "\n",
    "ax.set_xticks(test_int)\n",
    "\n",
    "trms_tmp = [\"$i \" * terms[i] for i in test_int]\n",
    "ax.set_xticklabels(trms_tmp, rotation = 48, fontsize=9, ha=\"right\");\n",
    "\n",
    "ax.grid(which=\"both\")\n",
    "\n",
    "ax.set_xlim(0, maximum(test_int)+1)\n",
    "\n",
    "# fig.savefig(\"../plots/eng-nn.png\", bbox_inches = \"tight\", dpi=800)"
   ]
  },
  {
   "cell_type": "code",
   "execution_count": 22,
   "metadata": {},
   "outputs": [],
   "source": [
    "cvals= log.(1 .+ df.favorite_count)\n",
    "avals = 1 .+ df.retweet_count ; avals = log.(avals); avals = avals .- (minimum(avals) - 0.1) ; avals = avals ./ maximum(avals)\n",
    "avals_t = [df.tind[i] == 1 ? plt.cm.Blues_r(avals[i]) : plt.cm.Reds_r(avals[i]) for i in eachindex(df.tind)];"
   ]
  },
  {
   "cell_type": "code",
   "execution_count": 23,
   "metadata": {},
   "outputs": [
    {
     "data": {
      "image/png": "[encoded data removed]",
      "text/plain": [
       "Figure(PyObject <Figure size 1000x500 with 1 Axes>)"
      ]
     },
     "metadata": {},
     "output_type": "display_data"
    },
    {
     "data": {
      "text/plain": [
       "PyObject <matplotlib.collections.PathCollection object at 0x7f91c093bd60>"
      ]
     },
     "execution_count": 23,
     "metadata": {},
     "output_type": "execute_result"
    }
   ],
   "source": [
    "fig, ax= plt.subplots(1,1, figsize=(10,5))\n",
    "\n",
    "ax.scatter(Yte[1,:], Yte[112,:], alpha=0.5, s=5.0.*cvals, c=avals_t, rasterized=true, label=\"April\") # 3 / 4 \n",
    "\n",
    "# ax.set_xlim(-0.4e-5, 0.8e-5)\n",
    "# ax.set_ylim(-0.4e-5, 0.5e-5)"
   ]
  },
  {
   "cell_type": "code",
   "execution_count": 24,
   "metadata": {},
   "outputs": [],
   "source": [
    "vars_nn = (test_int, par_importance.train, par_importance.test, terms[test_int])\n",
    "# JLD2.@save \"../data/tmp_files/en-nn.jld\" vars_nn"
   ]
  },
  {
   "cell_type": "code",
   "execution_count": 33,
   "metadata": {},
   "outputs": [
    {
     "data": {
      "text/plain": [
       "40-element Array{String,1}:\n",
       " \"vaccin\"\n",
       " \"muniti\"\n",
       " \"mask\"\n",
       " \"crisi\"\n",
       " \"die\"\n",
       " \"uk\"\n",
       " \"china\"\n",
       " \"pfizer\"\n",
       " \"support\"\n",
       " \"check\"\n",
       " \"continu\"\n",
       " \"risk\"\n",
       " \"citi\"\n",
       " ⋮\n",
       " \"hope\"\n",
       " \"famili\"\n",
       " \"pleas\"\n",
       " \"caus\"\n",
       " \"read\"\n",
       " \"offici\"\n",
       " \"april\"\n",
       " \"home\"\n",
       " \"outbreak\"\n",
       " \"busi\"\n",
       " \"trump\"\n",
       " \"develop\""
      ]
     },
     "execution_count": 33,
     "metadata": {},
     "output_type": "execute_result"
    }
   ],
   "source": [
    "new_terms = terms[sortperm(par_importance.test)][1:40]"
   ]
  },
  {
   "cell_type": "code",
   "execution_count": null,
   "metadata": {},
   "outputs": [],
   "source": []
  }
 ],
 "metadata": {
  "kernelspec": {
   "display_name": "Julia 1.5.0",
   "language": "julia",
   "name": "julia-1.5"
  },
  "language_info": {
   "file_extension": ".jl",
   "mimetype": "application/julia",
   "name": "julia",
   "version": "1.5.0"
  }
 },
 "nbformat": 4,
 "nbformat_minor": 4
}
